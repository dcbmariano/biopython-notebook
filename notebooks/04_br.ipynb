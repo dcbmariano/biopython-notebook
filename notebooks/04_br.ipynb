{
  "cells": [
    {
      "cell_type": "markdown",
      "metadata": {},
      "source": [
        "**Source of the materials**: Biopython Tutorial and Cookbook (adapted)"
      ]
    },
    {
      "cell_type": "markdown",
      "source": [
        "\n",
        "**Fonte dos materiais** : Tutorial e livro de receitas do Biopython (adaptado)\n"
      ],
      "metadata": {}
    },
    {
      "cell_type": "markdown",
      "metadata": {},
      "source": [
        "# Sequence annotation objects"
      ]
    },
    {
      "cell_type": "markdown",
      "source": [
        "\n",
        "# Objetos de anotação de sequência\n"
      ],
      "metadata": {}
    },
    {
      "cell_type": "markdown",
      "metadata": {},
      "source": [
        "The previous notebook introduced the sequence classes.  Immediately ``above'' the Seq class is the Sequence Record or SeqRecord class, defined in the Bio.SeqRecord module. This class allows higher level features such as identifiers and features (as SeqFeature objects) to be associated with the sequence, and is used throughout the sequence input/output interface Bio.SeqIO described fully in another notebook.\n",
        "\n",
        "If you are only going to be working with simple data like FASTA files, you can probably skip this chapter\n",
        "for now. If on the other hand you are going to be using richly annotated sequence data, say from GenBank\n",
        "or EMBL files, this information is quite important.\n",
        "\n",
        "While this chapter should cover most things to do with the \\verb|SeqRecord| and \\verb|SeqFeature| objects in this chapter, you may also want to read the SeqRecord wiki page (http://biopython.org/wiki/SeqRecord), and the built in documentation (also online -- http://biopython.org/DIST/docs/api/Bio.SeqRecord.SeqRecord-class.html - SeqRecord and http://biopython.org/DIST/docs/api/Bio.SeqFeature.SeqFeature-class.html - SeqFeature):\n"
      ]
    },
    {
      "cell_type": "markdown",
      "source": [
        "\n",
        "O bloco de notas anterior apresentou as classes de sequência. Imediatamente `` acima &#39;&#39; da classe Seq está a classe Sequence Record ou SeqRecord, definida no módulo Bio.SeqRecord. Esta classe permite que recursos de nível superior, como identificadores e recursos (como objetos SeqFeature) sejam associados à sequência, e é usada em toda a interface de entrada / saída de sequência Bio.SeqIO descrita totalmente em outro notebook.\n",
        "\n",
        " Se você vai trabalhar apenas com dados simples como arquivos FASTA, você provavelmente pode pular este capítulo\n",
        "\n",
        " por enquanto. Se, por outro lado, você vai usar dados de sequência ricamente anotados, digamos do GenBank\n",
        "\n",
        " ou arquivos EMBL, esta informação é muito importante.\n",
        "\n",
        " Embora este capítulo deva cobrir a maioria das coisas a fazer com o \\ verb | SeqRecord | e \\ verb | SeqFeature | objetos neste capítulo, você também pode querer ler a página wiki SeqRecord ( [http://biopython.org/wiki/SeqRecord](http://biopython.org/wiki/SeqRecord) ), e a documentação embutida (também online - [http://biopython.org/DIST/docs /api/Bio.SeqRecord.SeqRecord-class.html](http://biopython.org/DIST/docs/api/Bio.SeqRecord.SeqRecord-class.html) - SeqRecord e [http://biopython.org/DIST/docs/api/Bio.SeqFeature.SeqFeature-class.html](http://biopython.org/DIST/docs/api/Bio.SeqFeature.SeqFeature-class.html) - SeqFeature):\n"
      ],
      "metadata": {}
    },
    {
      "cell_type": "code",
      "execution_count": 1,
      "metadata": {},
      "outputs": [],
      "source": [
        "from Bio.SeqRecord import SeqRecord"
      ]
    },
    {
      "cell_type": "markdown",
      "metadata": {},
      "source": [
        "## The SeqRecord Object"
      ]
    },
    {
      "cell_type": "markdown",
      "source": [
        "\n",
        "## O objeto SeqRecord\n"
      ],
      "metadata": {}
    },
    {
      "cell_type": "markdown",
      "metadata": {},
      "source": [
        "The SeqRecord (Sequence Record) class is defined in the Bio.SeqRecord module. This class allows higher level features such as identifiers and features to be associated with a sequence, and is the basic data type for the Bio.SeqIO sequence input/output interface.\n",
        "\n",
        "The SeqRecord class itself is quite simple, and offers the following information as attributes:\n",
        "\n",
        "*  **.seq** - The sequence itself, typically a Seq object.\n",
        "\n",
        "* **.id** - The primary ID used to identify the sequence - a string. In most cases this is something like an accession number.\n",
        "\n",
        "* **.name** - A 'common' name/id for the sequence - a string. In some cases this will be the same as the accession number, but it could also be a clone name. I think of this as being analogous to the LOCUS id in a GenBank record.\n",
        "\n",
        "* **.description** - A human readable description or expressive name for the sequence - a string.\n",
        "  \n",
        "* **.letter_annotations** - Holds per-letter-annotations using a (restricted) dictionary of additional information about the letters in the sequence. The keys are the name of the information, and the information is contained in the value as a Python sequence (i.e. a list, tuple or string) with the same length as the sequence itself.  This is often used for quality scores or secondary structure information (e.g. from Stockholm/PFAM alignment files).\n",
        "\n",
        "* **.annotations** - A dictionary of additional information about the sequence. The keys are the name of the information, and the information is contained in the value. This allows the addition of more 'unstructured' information to the sequence.\n",
        "  \n",
        "* **.features** - A list of SeqFeature objects with more structured information about the features on a sequence (e.g. position of genes on a genome, or domains on a protein sequence).\n",
        "  \n",
        "* **.dbxrefs** - A list of database cross-references as strings.\n"
      ]
    },
    {
      "cell_type": "markdown",
      "source": [
        "\n",
        "A classe SeqRecord (Sequence Record) é definida no módulo Bio.SeqRecord. Essa classe permite que recursos de nível superior, como identificadores e recursos, sejam associados a uma sequência, e é o tipo de dados básico para a interface de entrada / saída de sequência Bio.SeqIO.\n",
        "\n",
        " A própria classe SeqRecord é bastante simples e oferece as seguintes informações como atributos:\n",
        "-  **.seq** - A própria sequência, normalmente um objeto Seq.\n",
        "-  **.id** - O ID principal usado para identificar a sequência - uma string. Na maioria dos casos, é algo como um número de acesso.\n",
        "-  **.name** - Um nome / id &#39;comum&#39; para a sequência - uma string. Em alguns casos, será igual ao número de acesso, mas também pode ser um nome de clone. Eu acho que isso é análogo à id LOCUS em um registro do GenBank.\n",
        "-  **.description** - Uma descrição legível ou nome expressivo para a sequência - uma string.\n",
        "-  **.letter_annotations** - Contém anotações por letra usando um dicionário (restrito) de informações adicionais sobre as letras na sequência. As chaves são o nome da informação e a informação está contida no valor como uma sequência Python (ou seja, uma lista, tupla ou string) com o mesmo comprimento da própria sequência. Isso é freqüentemente usado para pontuações de qualidade ou informações de estrutura secundária (por exemplo, de arquivos de alinhamento de Estocolmo / PFAM).\n",
        "-  **.annotations** - Um dicionário de informações adicionais sobre a sequência. As chaves são o nome das informações e as informações estão contidas no valor. Isso permite a adição de mais informações &#39;não estruturadas&#39; à sequência.\n",
        "-  **.features** - Uma lista de objetos SeqFeature com informações mais estruturadas sobre os recursos em uma sequência (por exemplo, posição de genes em um genoma ou domínios em uma sequência de proteína).\n",
        "-  **.dbxrefs** - Uma lista de referências cruzadas de banco de dados como strings.\n"
      ],
      "metadata": {}
    },
    {
      "cell_type": "markdown",
      "metadata": {},
      "source": [
        "## Creating a SeqRecord"
      ]
    },
    {
      "cell_type": "markdown",
      "source": [
        "\n",
        "## Criando um SeqRecord\n"
      ],
      "metadata": {}
    },
    {
      "cell_type": "markdown",
      "metadata": {},
      "source": [
        "Using a SeqRecord object is not very complicated, since all of the\n",
        "information is presented as attributes of the class. Usually you won't create\n",
        "a SeqRecord 'by hand', but instead use Bio.SeqIO to read in a\n",
        "sequence file for you and the examples\n",
        "below).  However, creating SeqRecord can be quite simple."
      ]
    },
    {
      "cell_type": "markdown",
      "source": [
        "\n",
        "Usar um objeto SeqRecord não é muito complicado, uma vez que todos os\n",
        "\n",
        " as informações são apresentadas como atributos da classe. Normalmente você não criará\n",
        "\n",
        " um SeqRecord &#39;à mão&#39;, mas em vez disso use Bio.SeqIO para ler em um\n",
        "\n",
        " arquivo de sequência para você e os exemplos\n",
        "\n",
        " abaixo). No entanto, criar SeqRecord pode ser bastante simples.\n"
      ],
      "metadata": {}
    },
    {
      "cell_type": "markdown",
      "metadata": {},
      "source": [
        "### SeqRecord objects from scratch"
      ]
    },
    {
      "cell_type": "markdown",
      "source": [
        "\n",
        "### Objetos SeqRecord do zero\n"
      ],
      "metadata": {}
    },
    {
      "cell_type": "markdown",
      "metadata": {},
      "source": [
        "To create a SeqRecord at a minimum you just need a Seq object:"
      ]
    },
    {
      "cell_type": "markdown",
      "source": [
        "\n",
        "Para criar um SeqRecord no mínimo, você só precisa de um objeto Seq:\n"
      ],
      "metadata": {}
    },
    {
      "cell_type": "code",
      "execution_count": 2,
      "metadata": {},
      "outputs": [],
      "source": [
        "from Bio.Seq import Seq\n",
        "simple_seq = Seq(\"GATC\")\n",
        "simple_seq_r = SeqRecord(simple_seq)"
      ]
    },
    {
      "cell_type": "markdown",
      "metadata": {},
      "source": [
        "Additionally, you can also pass the id, name and description to the initialization function, but if not they will be set as strings indicating they are unknown, and can be modified subsequently:"
      ]
    },
    {
      "cell_type": "markdown",
      "source": [
        "\n",
        "Além disso, você também pode passar o id, o nome e a descrição para a função de inicialização, mas caso contrário, eles serão definidos como strings indicando que são desconhecidos e podem ser modificados posteriormente:\n"
      ],
      "metadata": {}
    },
    {
      "cell_type": "code",
      "execution_count": 3,
      "metadata": {},
      "outputs": [
        {
          "data": {
            "text/plain": [
              "'<unknown id>'"
            ]
          },
          "execution_count": 3,
          "metadata": {},
          "output_type": "execute_result"
        }
      ],
      "source": [
        "simple_seq_r.id"
      ]
    },
    {
      "cell_type": "code",
      "execution_count": 4,
      "metadata": {},
      "outputs": [
        {
          "name": "stdout",
          "output_type": "stream",
          "text": [
            "Made up sequence I wish I could write a paper about\n",
            "GATC\n"
          ]
        }
      ],
      "source": [
        "simple_seq_r.id = \"AC12345\"\n",
        "simple_seq_r.description = \"Made up sequence I wish I could write a paper about\"\n",
        "print(simple_seq_r.description)\n",
        "simple_seq_r.seq\n",
        "print(simple_seq_r.seq)"
      ]
    },
    {
      "cell_type": "markdown",
      "metadata": {},
      "source": [
        "Including an identifier is very important if you want to output your SeqRecord to a file.  You would normally include this when creating the object:\n"
      ]
    },
    {
      "cell_type": "markdown",
      "source": [
        "\n",
        "Incluir um identificador é muito importante se você deseja enviar seu SeqRecord para um arquivo. Você normalmente incluiria isto ao criar o objeto:\n"
      ],
      "metadata": {}
    },
    {
      "cell_type": "code",
      "execution_count": 5,
      "metadata": {},
      "outputs": [],
      "source": [
        "simple_seq = Seq(\"GATC\")\n",
        "simple_seq_r = SeqRecord(simple_seq, id=\"AC12345\")"
      ]
    },
    {
      "cell_type": "markdown",
      "metadata": {},
      "source": [
        "As mentioned above, the SeqRecord has an dictionary attribute annotations. This is used\n",
        "for any miscellaneous annotations that doesn't fit under one of the other more specific attributes.\n",
        "Adding annotations is easy, and just involves dealing directly with the annotation dictionary:"
      ]
    },
    {
      "cell_type": "markdown",
      "source": [
        "\n",
        "Conforme mencionado acima, o SeqRecord possui um dicionário de anotações de atributos. Isso é usado\n",
        "\n",
        " para quaisquer anotações diversas que não se enquadrem em um dos outros atributos mais específicos.\n",
        "\n",
        " Adicionar anotações é fácil e envolve apenas lidar diretamente com o dicionário de anotações:\n"
      ],
      "metadata": {}
    },
    {
      "cell_type": "code",
      "execution_count": 6,
      "metadata": {},
      "outputs": [
        {
          "name": "stdout",
          "output_type": "stream",
          "text": [
            "{'evidence': 'None. I just made it up.'}\n",
            "None. I just made it up.\n"
          ]
        }
      ],
      "source": [
        "simple_seq_r.annotations[\"evidence\"] = \"None. I just made it up.\"\n",
        "print(simple_seq_r.annotations)\n",
        "print(simple_seq_r.annotations[\"evidence\"])"
      ]
    },
    {
      "cell_type": "markdown",
      "metadata": {},
      "source": [
        "Working with per-letter-annotations is similar, letter_annotations is a\n",
        "dictionary like attribute which will let you assign any Python sequence (i.e.\n",
        "a string, list or tuple) which has the same length as the sequence:"
      ]
    },
    {
      "cell_type": "markdown",
      "source": [
        "\n",
        "Trabalhar com anotações por letra é semelhante, letter_annotations é um\n",
        "\n",
        " dicionário como o atributo que permitirá que você atribua qualquer sequência Python (ou seja,\n",
        "\n",
        " uma string, lista ou tupla) que tem o mesmo comprimento que a sequência:\n"
      ],
      "metadata": {}
    },
    {
      "cell_type": "code",
      "execution_count": 7,
      "metadata": {},
      "outputs": [
        {
          "name": "stdout",
          "output_type": "stream",
          "text": [
            "{'phred_quality': [40, 40, 38, 30]}\n",
            "[40, 40, 38, 30]\n"
          ]
        }
      ],
      "source": [
        "simple_seq_r.letter_annotations[\"phred_quality\"] = [40, 40, 38, 30]\n",
        "print(simple_seq_r.letter_annotations)\n",
        "print(simple_seq_r.letter_annotations[\"phred_quality\"])"
      ]
    },
    {
      "cell_type": "markdown",
      "metadata": {},
      "source": [
        "The dbxrefs and features attributes are just Python lists, and\n",
        "should be used to store strings and SeqFeature objects (discussed later) respectively."
      ]
    },
    {
      "cell_type": "markdown",
      "source": [
        "\n",
        "Os atributos dbxrefs e features são apenas listas Python, e\n",
        "\n",
        " deve ser usado para armazenar strings e objetos SeqFeature (discutidos posteriormente), respectivamente.\n"
      ],
      "metadata": {}
    },
    {
      "cell_type": "markdown",
      "metadata": {},
      "source": [
        "### SeqRecord objects from FASTA files"
      ]
    },
    {
      "cell_type": "markdown",
      "source": [
        "\n",
        "### Objetos SeqRecord de arquivos FASTA\n"
      ],
      "metadata": {}
    },
    {
      "cell_type": "markdown",
      "metadata": {},
      "source": [
        "This example uses a fairly large FASTA file containing the whole sequence for \\textit{Yersinia pestis biovar Microtus} str. 91001 plasmid pPCP1, originally downloaded from the NCBI.  This file is included with the Biopython unit tests under the GenBank folder, or online (http://biopython.org/SRC/biopython/Tests/GenBank/NC_005816.fna) from our website.\n",
        "\n",
        "The file starts like this - and you can check there is only one record present (i.e. only one line starting with a greater than symbol):\n",
        "\n",
        "    >gi|45478711|ref|NC_005816.1| Yersinia pestis biovar Microtus ... pPCP1, complete sequence\n",
        "    TGTAACGAACGGTGCAATAGTGATCCACACCCAACGCCTGAAATCAGATCCAGGGGGTAATCTGCTCTCC\n",
        "    ...\n",
        "\n",
        "In a previous notebook you will have seen the function Bio.SeqIO.parse\n",
        "used to loop over all the records in a file as SeqRecord objects. The Bio.SeqIO module\n",
        "has a sister function for use on files which contain just one record which we'll use here:\n"
      ]
    },
    {
      "cell_type": "markdown",
      "source": [
        "\n",
        "Este exemplo usa um arquivo FASTA razoavelmente grande contendo toda a sequência para \\ textit {Yersinia pestis biovar Microtus} str. 91001 plasmídeo pPCP1, originalmente baixado do NCBI. Este arquivo está incluído com os testes de unidade Biopython na pasta GenBank ou online ( [http://biopython.org/SRC/biopython/Tests/GenBank/NC_005816.fna](http://biopython.org/SRC/biopython/Tests/GenBank/NC_005816.fna) ) em nosso website.\n",
        "\n",
        " O arquivo começa assim - e você pode verificar se há apenas um registro presente (ou seja, apenas uma linha começando com um símbolo maior que):\n",
        "\n",
        " Em um notebook anterior você já viu a função Bio.SeqIO.parse\n",
        "\n",
        " usado para percorrer todos os registros em um arquivo como objetos SeqRecord. O módulo Bio.SeqIO\n",
        "\n",
        " tem uma função irmã para uso em arquivos que contêm apenas um registro que usaremos aqui:\n"
      ],
      "metadata": {}
    },
    {
      "cell_type": "code",
      "execution_count": 8,
      "metadata": {},
      "outputs": [
        {
          "data": {
            "text/plain": [
              "SeqRecord(seq=Seq('TGTAACGAACGGTGCAATAGTGATCCACACCCAACGCCTGAAATCAGATCCAGG...CTG'), id='gi|45478711|ref|NC_005816.1|', name='gi|45478711|ref|NC_005816.1|', description='gi|45478711|ref|NC_005816.1| Yersinia pestis biovar Microtus str. 91001 plasmid pPCP1, complete sequence', dbxrefs=[])"
            ]
          },
          "execution_count": 8,
          "metadata": {},
          "output_type": "execute_result"
        }
      ],
      "source": [
        "from Bio import SeqIO\n",
        "record = SeqIO.read(\"data/NC_005816.fna\", \"fasta\")\n",
        "record"
      ]
    },
    {
      "cell_type": "markdown",
      "metadata": {},
      "source": [
        "Now, let's have a look at the key attributes of this SeqRecord\n",
        "individually - starting with the seq attribute which gives you a\n",
        "Seq object:"
      ]
    },
    {
      "cell_type": "markdown",
      "source": [
        "\n",
        "Agora, vamos dar uma olhada nos principais atributos deste SeqRecord\n",
        "\n",
        " individualmente - começando com o atributo seq que lhe dá uma\n",
        "\n",
        " Objeto Seq:\n"
      ],
      "metadata": {}
    },
    {
      "cell_type": "code",
      "execution_count": 9,
      "metadata": {},
      "outputs": [
        {
          "data": {
            "text/plain": [
              "Seq('TGTAACGAACGGTGCAATAGTGATCCACACCCAACGCCTGAAATCAGATCCAGG...CTG')"
            ]
          },
          "execution_count": 9,
          "metadata": {},
          "output_type": "execute_result"
        }
      ],
      "source": [
        "record.seq"
      ]
    },
    {
      "cell_type": "markdown",
      "metadata": {},
      "source": [
        "Next, the identifiers and description:"
      ]
    },
    {
      "cell_type": "markdown",
      "source": [
        "\n",
        "A seguir, os identificadores e a descrição:\n"
      ],
      "metadata": {}
    },
    {
      "cell_type": "code",
      "execution_count": 10,
      "metadata": {},
      "outputs": [
        {
          "data": {
            "text/plain": [
              "'gi|45478711|ref|NC_005816.1|'"
            ]
          },
          "execution_count": 10,
          "metadata": {},
          "output_type": "execute_result"
        }
      ],
      "source": [
        "record.id"
      ]
    },
    {
      "cell_type": "code",
      "execution_count": 11,
      "metadata": {},
      "outputs": [
        {
          "data": {
            "text/plain": [
              "'gi|45478711|ref|NC_005816.1| Yersinia pestis biovar Microtus str. 91001 plasmid pPCP1, complete sequence'"
            ]
          },
          "execution_count": 11,
          "metadata": {},
          "output_type": "execute_result"
        }
      ],
      "source": [
        "record.name\n",
        "record.description"
      ]
    },
    {
      "cell_type": "markdown",
      "metadata": {},
      "source": [
        "As you can see above, the first word of the FASTA record's title line (after\n",
        "removing the greater than symbol) is used for both the id and\n",
        "name attributes. The whole title line (after removing the greater than\n",
        "symbol) is used for the record description. This is deliberate, partly for\n",
        "backwards compatibility reasons, but it also makes sense if you have a FASTA\n",
        "file like this:\n",
        "\n",
        "    >Yersinia pestis biovar Microtus str. 91001 plasmid pPCP1\n",
        "    TGTAACGAACGGTGCAATAGTGATCCACACCCAACGCCTGAAATCAGATCCAGGGGGTAATCTGCTCTCC\n",
        "    ...\n",
        "\n",
        "Note that none of the other annotation attributes get populated when reading a\n",
        "FASTA file:"
      ]
    },
    {
      "cell_type": "markdown",
      "source": [
        "\n",
        "Como você pode ver acima, a primeira palavra da linha do título do registro FASTA (após\n",
        "\n",
        " removendo o símbolo de maior que) é usado para o id e\n",
        "\n",
        " atributos de nome. A linha inteira do título (depois de remover o maior que\n",
        "\n",
        " símbolo) é usado para a descrição do registro. Isso é deliberado, em parte por\n",
        "\n",
        " motivos de compatibilidade com versões anteriores, mas também faz sentido se você tiver um FASTA\n",
        "\n",
        " arquivo como este:\n",
        "\n",
        " Observe que nenhum dos outros atributos de anotação são preenchidos ao ler um\n",
        "\n",
        " Arquivo FASTA:\n"
      ],
      "metadata": {}
    },
    {
      "cell_type": "code",
      "execution_count": 12,
      "metadata": {},
      "outputs": [
        {
          "data": {
            "text/plain": [
              "[]"
            ]
          },
          "execution_count": 12,
          "metadata": {},
          "output_type": "execute_result"
        }
      ],
      "source": [
        "record.dbxrefs"
      ]
    },
    {
      "cell_type": "code",
      "execution_count": 13,
      "metadata": {},
      "outputs": [
        {
          "data": {
            "text/plain": [
              "{}"
            ]
          },
          "execution_count": 13,
          "metadata": {},
          "output_type": "execute_result"
        }
      ],
      "source": [
        "record.annotations"
      ]
    },
    {
      "cell_type": "code",
      "execution_count": 14,
      "metadata": {},
      "outputs": [
        {
          "data": {
            "text/plain": [
              "{}"
            ]
          },
          "execution_count": 14,
          "metadata": {},
          "output_type": "execute_result"
        }
      ],
      "source": [
        "record.letter_annotations"
      ]
    },
    {
      "cell_type": "code",
      "execution_count": 15,
      "metadata": {},
      "outputs": [
        {
          "data": {
            "text/plain": [
              "[]"
            ]
          },
          "execution_count": 15,
          "metadata": {},
          "output_type": "execute_result"
        }
      ],
      "source": [
        "record.features"
      ]
    },
    {
      "cell_type": "markdown",
      "metadata": {},
      "source": [
        "In this case our example FASTA file was from the NCBI, and they have a fairly well defined set of conventions for formatting their FASTA lines. This means it would be possible to parse this information and extract the GI number and accession for example. However, FASTA files from other sources vary, so this isn't possible in general.\n"
      ]
    },
    {
      "cell_type": "markdown",
      "source": [
        "\n",
        "Neste caso, nosso arquivo FASTA de exemplo era do NCBI, e eles têm um conjunto de convenções bem definido para formatar suas linhas FASTA. Isso significa que seria possível analisar essas informações e extrair o número GI e o acesso, por exemplo. No entanto, os arquivos FASTA de outras fontes variam, portanto, isso não é possível em geral.\n"
      ],
      "metadata": {}
    },
    {
      "cell_type": "markdown",
      "metadata": {},
      "source": [
        "### SeqRecord objects from GenBank files"
      ]
    },
    {
      "cell_type": "markdown",
      "source": [
        "\n",
        "### Objetos SeqRecord de arquivos GenBank\n"
      ],
      "metadata": {}
    },
    {
      "cell_type": "markdown",
      "metadata": {},
      "source": [
        "As in the previous example, we're going to look at the whole sequence for _Yersinia pestis biovar Microtus_ str. 91001 plasmid pPCP1, originally downloaded from the NCBI, but this time as a GenBank file.\n",
        "\n",
        "This file contains a single record (i.e. only one LOCUS line) and starts:\n",
        "\n",
        "    LOCUS       NC_005816               9609 bp    DNA     circular BCT 21-JUL-2008\n",
        "    DEFINITION  Yersinia pestis biovar Microtus str. 91001 plasmid pPCP1, complete\n",
        "                sequence.\n",
        "    ACCESSION   NC_005816\n",
        "    VERSION     NC_005816.1  GI:45478711\n",
        "    PROJECT     GenomeProject:10638\n",
        "    ...\n",
        "\n",
        "Again, we'll use Bio.SeqIO to read this file in, and the code is almost identical to that for used above for the FASTA file:\n"
      ]
    },
    {
      "cell_type": "markdown",
      "source": [
        "\n",
        "Como no exemplo anterior, vamos examinar toda a sequência de *Yersinia pestis biovar Microtus* str. 91001 plasmídeo pPCP1, originalmente baixado do NCBI, mas desta vez como um arquivo GenBank.\n",
        "\n",
        " Este arquivo contém um único registro (ou seja, apenas uma linha LOCUS) e começa:\n",
        "\n",
        " Novamente, usaremos Bio.SeqIO para ler este arquivo, e o código é quase idêntico ao usado acima para o arquivo FASTA:\n"
      ],
      "metadata": {}
    },
    {
      "cell_type": "code",
      "execution_count": 16,
      "metadata": {},
      "outputs": [
        {
          "data": {
            "text/plain": [
              "SeqRecord(seq=Seq('TGTAACGAACGGTGCAATAGTGATCCACACCCAACGCCTGAAATCAGATCCAGG...CTG'), id='NC_005816.1', name='NC_005816', description='Yersinia pestis biovar Microtus str. 91001 plasmid pPCP1, complete sequence', dbxrefs=['Project:58037'])"
            ]
          },
          "execution_count": 16,
          "metadata": {},
          "output_type": "execute_result"
        }
      ],
      "source": [
        "record = SeqIO.read(\"data/NC_005816.gb\", \"genbank\")\n",
        "record"
      ]
    },
    {
      "cell_type": "markdown",
      "metadata": {},
      "source": [
        "You should be able to spot some differences already! But taking the attributes individually,\n",
        "the sequence string is the same as before, but this time Bio.SeqIO has been able to automatically assign a more specific alphabet:"
      ]
    },
    {
      "cell_type": "markdown",
      "source": [
        "\n",
        "Você já deve ser capaz de detectar algumas diferenças! Mas, considerando os atributos individualmente,\n",
        "\n",
        " a sequência de caracteres é a mesma de antes, mas desta vez Bio.SeqIO foi capaz de atribuir automaticamente um alfabeto mais específico:\n"
      ],
      "metadata": {}
    },
    {
      "cell_type": "code",
      "execution_count": 17,
      "metadata": {},
      "outputs": [
        {
          "data": {
            "text/plain": [
              "Seq('TGTAACGAACGGTGCAATAGTGATCCACACCCAACGCCTGAAATCAGATCCAGG...CTG')"
            ]
          },
          "execution_count": 17,
          "metadata": {},
          "output_type": "execute_result"
        }
      ],
      "source": [
        "record.seq"
      ]
    },
    {
      "cell_type": "markdown",
      "metadata": {},
      "source": [
        "The name comes from the LOCUS line, while the \\verb|id| includes the version suffix.\n",
        "\n",
        "The description comes from the DEFINITION line:"
      ]
    },
    {
      "cell_type": "markdown",
      "source": [
        "\n",
        "O nome vem da linha LOCUS, enquanto o \\ verb | id | inclui o sufixo da versão.\n",
        "\n",
        " A descrição vem da linha DEFINITION:\n"
      ],
      "metadata": {}
    },
    {
      "cell_type": "code",
      "execution_count": 18,
      "metadata": {},
      "outputs": [
        {
          "data": {
            "text/plain": [
              "'NC_005816.1'"
            ]
          },
          "execution_count": 18,
          "metadata": {},
          "output_type": "execute_result"
        }
      ],
      "source": [
        "record.id"
      ]
    },
    {
      "cell_type": "code",
      "execution_count": 19,
      "metadata": {},
      "outputs": [
        {
          "data": {
            "text/plain": [
              "'NC_005816'"
            ]
          },
          "execution_count": 19,
          "metadata": {},
          "output_type": "execute_result"
        }
      ],
      "source": [
        "record.name"
      ]
    },
    {
      "cell_type": "code",
      "execution_count": 20,
      "metadata": {},
      "outputs": [
        {
          "data": {
            "text/plain": [
              "'Yersinia pestis biovar Microtus str. 91001 plasmid pPCP1, complete sequence'"
            ]
          },
          "execution_count": 20,
          "metadata": {},
          "output_type": "execute_result"
        }
      ],
      "source": [
        "record.description"
      ]
    },
    {
      "cell_type": "markdown",
      "metadata": {},
      "source": [
        "GenBank files don't have any per-letter annotations:"
      ]
    },
    {
      "cell_type": "markdown",
      "source": [
        "\n",
        "Os arquivos GenBank não têm anotações por letra:\n"
      ],
      "metadata": {}
    },
    {
      "cell_type": "code",
      "execution_count": 21,
      "metadata": {},
      "outputs": [
        {
          "data": {
            "text/plain": [
              "{}"
            ]
          },
          "execution_count": 21,
          "metadata": {},
          "output_type": "execute_result"
        }
      ],
      "source": [
        "record.letter_annotations"
      ]
    },
    {
      "cell_type": "markdown",
      "metadata": {},
      "source": [
        "Most of the annotations information gets recorded in the \\verb|annotations| dictionary, for example:"
      ]
    },
    {
      "cell_type": "markdown",
      "source": [
        "\n",
        "A maioria das informações das anotações são gravadas na seção \\ verb | annotations | dicionário, por exemplo:\n"
      ],
      "metadata": {}
    },
    {
      "cell_type": "code",
      "execution_count": 22,
      "metadata": {},
      "outputs": [
        {
          "data": {
            "text/plain": [
              "13"
            ]
          },
          "execution_count": 22,
          "metadata": {},
          "output_type": "execute_result"
        }
      ],
      "source": [
        "len(record.annotations)"
      ]
    },
    {
      "cell_type": "code",
      "execution_count": 23,
      "metadata": {},
      "outputs": [
        {
          "data": {
            "text/plain": [
              "'Yersinia pestis biovar Microtus str. 91001'"
            ]
          },
          "execution_count": 23,
          "metadata": {},
          "output_type": "execute_result"
        }
      ],
      "source": [
        "record.annotations[\"source\"]"
      ]
    },
    {
      "cell_type": "markdown",
      "metadata": {},
      "source": [
        "The dbxrefs list gets populated from any PROJECT or DBLINK lines:"
      ]
    },
    {
      "cell_type": "markdown",
      "source": [
        "\n",
        "A lista dbxrefs é preenchida a partir de qualquer linha PROJECT ou DBLINK:\n"
      ],
      "metadata": {}
    },
    {
      "cell_type": "code",
      "execution_count": 24,
      "metadata": {},
      "outputs": [
        {
          "data": {
            "text/plain": [
              "['Project:58037']"
            ]
          },
          "execution_count": 24,
          "metadata": {},
          "output_type": "execute_result"
        }
      ],
      "source": [
        "record.dbxrefs"
      ]
    },
    {
      "cell_type": "markdown",
      "metadata": {},
      "source": [
        "Finally, and perhaps most interestingly, all the entries in the features table (e.g. the genes or CDS features) get recorded as SeqFeature objects in the features list."
      ]
    },
    {
      "cell_type": "markdown",
      "source": [
        "\n",
        "Finalmente, e talvez o mais interessante, todas as entradas na tabela de recursos (por exemplo, os genes ou recursos de CDS) são registrados como objetos SeqFeature na lista de recursos.\n"
      ],
      "metadata": {}
    },
    {
      "cell_type": "code",
      "execution_count": 25,
      "metadata": {},
      "outputs": [
        {
          "data": {
            "text/plain": [
              "41"
            ]
          },
          "execution_count": 25,
          "metadata": {},
          "output_type": "execute_result"
        }
      ],
      "source": [
        "len(record.features)"
      ]
    },
    {
      "cell_type": "markdown",
      "metadata": {},
      "source": [
        "## Feature, location and position objects"
      ]
    },
    {
      "cell_type": "markdown",
      "source": [
        "\n",
        "## Objetos de característica, localização e posição\n"
      ],
      "metadata": {}
    },
    {
      "cell_type": "markdown",
      "metadata": {},
      "source": [
        "### SeqFeature objects"
      ]
    },
    {
      "cell_type": "markdown",
      "source": [
        "\n",
        "### Objetos SeqFeature\n"
      ],
      "metadata": {}
    },
    {
      "cell_type": "markdown",
      "metadata": {},
      "source": [
        "Sequence features are an essential part of describing a sequence. Once you get beyond the sequence itself, you need some way to organize and easily get at the more 'abstract' information that is known about the sequence. While it is probably impossible to develop a general sequence feature class that will cover everything, the Biopython SeqFeature class attempts to encapsulate as much of the information about the sequence as possible. The design is heavily based on the GenBank/EMBL feature tables, so if you understand how they look, you'll probably have an easier time grasping the structure of the Biopython classes.\n",
        "\n",
        "The key idea about each SeqFeature object is to describe a region on a parent sequence, typically a SeqRecord object. That region is described with a location object, typically a range between two positions (see below).\n",
        "\n",
        "The SeqFeature class has a number of attributes, so first we'll list them and their general features, and then later in the chapter work through examples to show how this applies to a real life example. The attributes of a SeqFeature are:\n",
        "\n",
        "*  **.type]** - This is a textual description of the type of feature (for instance, this will be something like 'CDS' or 'gene').\n",
        "\n",
        "* **.location** - The location of the SeqFeature on the sequence\n",
        "  that you are dealing with. The\n",
        "  SeqFeature delegates much of its functionality to the location\n",
        "  object, and includes a number of shortcut attributes for properties\n",
        "  of the location:\n",
        "\n",
        "  * **.ref** - shorthand for .location.ref - any (different)\n",
        "    reference sequence the location is referring to. Usually just None.\n",
        "\n",
        "  * **.ref_db** - shorthand for .location.ref_db - specifies\n",
        "    the database any identifier in .ref refers to. Usually just None.\n",
        "\n",
        "  * **.strand** - shorthand for .location.strand - the strand on\n",
        "    the sequence that the feature is located on. For double stranded nucleotide\n",
        "    sequence this may either be 1 for the top strand, -1 for the bottom\n",
        "    strand, 0 if the strand is important but is unknown, or None\n",
        "    if it doesn't matter. This is None for proteins, or single stranded sequences.\n",
        "\n",
        "* **.qualifiers** - This is a Python dictionary of additional information about the feature. The key is some kind of terse one-word description of what the information contained in the value is about, and the value is the actual information. For example, a common key for a qualifier might be 'evidence' and the value might be 'computational (non-experimental). This is just a way to let the person who is looking at the feature know that it has not be experimentally (i.e. in a wet lab) confirmed. Note that other the value will be a list of strings (even when there is only one string). This is a reflection of the feature tables in GenBank/EMBL files.\n",
        " \n",
        "* **.sub_features** - This used to be used to represent features with complicated locations like 'joins' in GenBank/EMBL files. This has been deprecated with the introduction of the CompoundLocation object, and should now be ignored."
      ]
    },
    {
      "cell_type": "markdown",
      "source": [
        "\n",
        "Os recursos de sequência são uma parte essencial da descrição de uma sequência. Depois de ir além da sequência em si, você precisa de alguma maneira de organizar e obter facilmente as informações mais \"abstratas\" conhecidas sobre a sequência. Embora seja provavelmente impossível desenvolver uma classe de recurso de sequência geral que cubra tudo, a classe Biopython SeqFeature tenta encapsular o máximo possível de informações sobre a sequência. O design é fortemente baseado nas tabelas de recursos do GenBank / EMBL, portanto, se você entender como elas se parecem, provavelmente será mais fácil entender a estrutura das classes Biopython.\n",
        "\n",
        " A ideia principal sobre cada objeto SeqFeature é descrever uma região em uma sequência pai, normalmente um objeto SeqRecord. Essa região é descrita com um objeto de localização, normalmente um intervalo entre duas posições (veja abaixo).\n",
        "\n",
        " A classe SeqFeature tem vários atributos, portanto, primeiro vamos listá-los e seus recursos gerais e, posteriormente, neste capítulo, trabalharemos com exemplos para mostrar como isso se aplica a um exemplo da vida real. Os atributos de uma SeqFeature são:\n",
        "-  **.type]** - Esta é uma descrição textual do tipo de recurso (por exemplo, será algo como &#39;CDS&#39; ou &#39;gene&#39;).\n",
        "-  **.location** - A localização da SeqFeature na sequência com quem você está lidando. o SeqFeature delega grande parte de sua funcionalidade ao local objeto, e inclui uma série de atributos de atalho para propriedades da localização:\n",
        "-  **.ref** - abreviação de .location.ref - qualquer (diferente) sequência de referência à qual o local está se referindo. Normalmente, apenas nenhum.\n",
        "-  **.ref_db** - abreviação de .location.ref_db - especifica o banco de dados ao qual qualquer identificador em .ref se refere. Normalmente, apenas nenhum.\n",
        "-  **.strand** - abreviação de .location.strand - a vertente em a sequência em que o recurso está localizado. Para nucleotídeo de fita dupla seqüência pode ser 1 para a fita superior, -1 para a parte inferior fita, 0 se a fita é importante, mas é desconhecida, ou Nenhum se isso não importa. Isso é Nenhum para proteínas ou sequências de fita simples.\n",
        "-  **.qualifiers** - Este é um dicionário Python de informações adicionais sobre o recurso. A chave é algum tipo de descrição concisa de uma palavra do que trata as informações contidas no valor, e o valor é a informação real. Por exemplo, uma chave comum para um qualificador pode ser &#39;evidência&#39; e o valor pode ser &#39;computacional (não experimental). Essa é apenas uma maneira de informar à pessoa que está examinando o recurso que ele não foi confirmado experimentalmente (ou seja, em um laboratório molhado). Observe que o outro valor será uma lista de strings (mesmo quando houver apenas uma string). Isso é um reflexo das tabelas de recursos nos arquivos GenBank / EMBL.\n",
        "-  **.sub_features** - Isso costumava ser usado para representar recursos com localizações complicadas como &#39;junções&#39; em arquivos GenBank / EMBL. Isso se tornou obsoleto com a introdução do objeto CompoundLocation e agora deve ser ignorado.\n"
      ],
      "metadata": {}
    },
    {
      "cell_type": "markdown",
      "metadata": {},
      "source": [
        "### Positions and locations"
      ]
    },
    {
      "cell_type": "markdown",
      "source": [
        "\n",
        "### Posições e locais\n"
      ],
      "metadata": {}
    },
    {
      "cell_type": "markdown",
      "metadata": {},
      "source": [
        "The key idea about each SeqFeature object is to describe a\n",
        "region on a parent sequence, for which we use a location object,\n",
        "typically describing a range between two positions. Two try to\n",
        "clarify the terminology we're using:\n",
        "\n",
        "*  **position** - This refers to a single position on a sequence,\n",
        "  which may be fuzzy or not. For instance, 5, 20, <100 and >200 are all positions.\n",
        "\n",
        "* **location** - A location is region of sequence bounded by\n",
        "  some positions. For instance 5..20 (i.e. 5 to 20) is a location.\n",
        "\n",
        "I just mention this because sometimes I get confused between the two."
      ]
    },
    {
      "cell_type": "markdown",
      "source": [
        "\n",
        "A ideia principal sobre cada objeto SeqFeature é descrever um\n",
        "\n",
        " região em uma sequência pai, para a qual usamos um objeto de localização,\n",
        "\n",
        " normalmente descrevendo um intervalo entre duas posições. Dois tentam\n",
        "\n",
        " esclareça a terminologia que estamos usando:\n",
        "-  **posição** - refere-se a uma única posição em uma sequência, que pode ser confuso ou não. Por exemplo, 5, 20, &lt;100 e&gt; 200 são todas as posições.\n",
        "-  **local** - um local é uma região da sequência delimitada por algumas posições. Por exemplo, 5..20 (ou seja, 5 a 20) é um local.\n",
        "\n",
        " Só menciono isso porque às vezes fico confuso entre os dois.\n"
      ],
      "metadata": {}
    },
    {
      "cell_type": "markdown",
      "metadata": {},
      "source": [
        "#### FeatureLocation object"
      ]
    },
    {
      "cell_type": "markdown",
      "source": [
        "\n",
        "#### Objeto FeatureLocation\n"
      ],
      "metadata": {}
    },
    {
      "cell_type": "markdown",
      "metadata": {},
      "source": [
        "Unless you work with eukaryotic genes, most SeqFeature locations are\n",
        "extremely simple - you just need start and end coordinates and a strand.\n",
        "That's essentially all the basic FeatureLocation object does.\n",
        "\n",
        "In practise of course, things can be more complicated. First of all\n",
        "we have to handle compound locations made up of several regions.\n",
        "Secondly, the positions themselves may be fuzzy (inexact)."
      ]
    },
    {
      "cell_type": "markdown",
      "source": [
        "\n",
        "A menos que você trabalhe com genes eucarióticos, a maioria dos locais SeqFeature são\n",
        "\n",
        " extremamente simples - você só precisa de coordenadas de início e fim e um fio.\n",
        "\n",
        " Isso é essencialmente tudo o que o objeto FeatureLocation básico faz.\n",
        "\n",
        " Na prática, é claro, as coisas podem ser mais complicadas. Em primeiro lugar\n",
        "\n",
        " temos que lidar com locais compostos compostos por várias regiões.\n",
        "\n",
        " Em segundo lugar, as próprias posições podem ser confusas (inexatas).\n"
      ],
      "metadata": {}
    },
    {
      "cell_type": "markdown",
      "metadata": {},
      "source": [
        "#### CompoundLocation object"
      ]
    },
    {
      "cell_type": "markdown",
      "source": [
        "\n",
        "#### Objeto CompoundLocation\n"
      ],
      "metadata": {}
    },
    {
      "cell_type": "markdown",
      "metadata": {},
      "source": [
        "Biopython 1.62 introduced the CompoundLocation as part of\n",
        "a restructuring of how complex locations made up of multiple regions\n",
        "are represented.\n",
        "The main usage is for handling `join' locations in EMBL/GenBank files.\n"
      ]
    },
    {
      "cell_type": "markdown",
      "source": [
        "\n",
        "Biopython 1.62 introduziu o CompoundLocation como parte do\n",
        "\n",
        " uma reestruturação de como locais complexos compostos de várias regiões\n",
        "\n",
        " São representados.\n",
        "\n",
        " O principal uso é para lidar com locais de &#39;junção&#39; em arquivos EMBL / GenBank.\n"
      ],
      "metadata": {}
    },
    {
      "cell_type": "markdown",
      "metadata": {},
      "source": [
        "#### Fuzzy Positions"
      ]
    },
    {
      "cell_type": "markdown",
      "source": [
        "\n",
        "#### Posições Fuzzy\n"
      ],
      "metadata": {}
    },
    {
      "cell_type": "markdown",
      "metadata": {},
      "source": [
        "So far we've only used simple positions. One complication in dealing\n",
        "with feature locations comes in the positions themselves.\n",
        "In biology many times things aren't entirely certain\n",
        "(as much as us wet lab biologists try to make them certain!). For\n",
        "instance, you might do a dinucleotide priming experiment and discover\n",
        "that the start of mRNA transcript starts at one of two sites. This\n",
        "is very useful information, but the complication comes in how to\n",
        "represent this as a position. To help us deal with this, we have\n",
        "the concept of fuzzy positions. Basically there are several types\n",
        "of fuzzy positions, so we have five classes do deal with them:\n",
        "\n",
        "* **ExactPosition** - As its name suggests, this class represents a position which is specified as exact along the sequence. This is represented as just a number, and you can get the position by looking at the position attribute of the object.\n",
        "\n",
        "* **BeforePosition** - This class represents a fuzzy position\n",
        "  that occurs prior to some specified site. In GenBank/EMBL notation,\n",
        "  this is represented as something like <13, signifying that\n",
        "  the real position is located somewhere less than 13. To get\n",
        "  the specified upper boundary, look at the position\n",
        "  attribute of the object.\n",
        "\n",
        "* **AfterPosition** - Contrary to BeforePosition, this\n",
        "  class represents a position that occurs after some specified site.\n",
        "  This is represented in GenBank as \\>13, and like\n",
        "  BeforePosition, you get the boundary number by looking\n",
        "  at the position attribute of the object.\n",
        "\n",
        "* **WithinPosition** - Occasionally used for GenBank/EMBL locations,\n",
        "  this class models a position which occurs somewhere between two\n",
        "  specified nucleotides. In GenBank/EMBL notation, this would be\n",
        "  represented as (1.5), to represent that the position is somewhere\n",
        "  within the range 1 to 5. To get the information in this class you\n",
        "  have to look at two attributes. The position attribute\n",
        "  specifies the lower boundary of the range we are looking at, so in\n",
        "  our example case this would be one. The extension attribute\n",
        "  specifies the range to the higher boundary, so in this case it\n",
        "  would be 4. So object.position is the lower boundary and\n",
        "  object.position + object.extension is the upper boundary.\n",
        "\n",
        "* **OneOfPosition** - Occasionally used for GenBank/EMBL locations,\n",
        "  this class deals with a position where several possible values exist,\n",
        "  for instance you could use this if the start codon was unclear and\n",
        "  there where two candidates for the start of the gene. Alternatively,\n",
        "  that might be handled explicitly as two related gene features.\n",
        "\n",
        "* **UnknownPosition** - This class deals with a position of unknown\n",
        "  location. This is not used in GenBank/EMBL, but corresponds to the `?'\n",
        "  feature coordinate used in UniProt.\n",
        "\n",
        "Here's an example where we create a location with fuzzy end points:"
      ]
    },
    {
      "cell_type": "markdown",
      "source": [
        "\n",
        "Até agora, usamos apenas posições simples. Uma complicação em lidar\n",
        "\n",
        " com locais de recurso vem nas próprias posições.\n",
        "\n",
        " Na biologia, muitas vezes as coisas não são totalmente certas\n",
        "\n",
        " (tanto quanto nós, biólogos de laboratório úmido, tentamos torná-los certos!). Para\n",
        "\n",
        " por exemplo, você pode fazer um experimento de priming de dinucleotídeo e descobrir\n",
        "\n",
        " que o início da transcrição do mRNA começa em um dos dois locais. este\n",
        "\n",
        " é uma informação muito útil, mas a complicação está em como\n",
        "\n",
        " representar isso como uma posição. Para nos ajudar a lidar com isso, temos\n",
        "\n",
        " o conceito de posições fuzzy. Basicamente, existem vários tipos\n",
        "\n",
        " de posições difusas, então temos cinco classes para lidar com eles:\n",
        "-  **ExactPosition** - como o próprio nome sugere, essa classe representa uma posição que é especificada como exata ao longo da sequência. Isso é representado apenas como um número e você pode obter a posição observando o atributo de posição do objeto.\n",
        "-  **BeforePosition** - Esta classe representa uma posição difusa que ocorre antes de algum site especificado. Na notação GenBank / EMBL, isso é representado como algo como &lt;13, significando que a posição real está localizada em algum lugar inferior a 13. Para obter o limite superior especificado, observe a posição atributo do objeto.\n",
        "-  **AfterPosition** - ao contrário de BeforePosition, este classe representa uma posição que ocorre após algum site especificado. Isso é representado no GenBank como&gt; 13 e como BeforePosition, você obtém o número limite olhando no atributo de posição do objeto.\n",
        "-  **InsidePosition** - ocasionalmente usado para localizações GenBank / EMBL, esta classe modela uma posição que ocorre em algum lugar entre dois nucleotídeos especificados. Na notação GenBank / EMBL, isso seria representado como (1.5), para representar que a posição está em algum lugar dentro do intervalo de 1 a 5. Para obter as informações desta aula, você tem que olhar para dois atributos. O atributo de posição especifica o limite inferior do intervalo que estamos olhando, então em nosso caso de exemplo seria um. O atributo de extensão especifica o intervalo até o limite superior, portanto, neste caso, seria 4. Portanto, object.position é o limite inferior e object.position + object.extension é o limite superior.\n",
        "-  **OneOfPosition** - ocasionalmente usado para locais GenBank / EMBL, esta classe lida com uma posição onde existem vários valores possíveis, por exemplo, você pode usar isso se o códon de início não estiver claro e lá onde dois candidatos para o início do gene. Alternativamente, que pode ser tratado explicitamente como duas características genéticas relacionadas.\n",
        "-  Posição **Desconhecida** - Esta classe lida com uma posição de desconhecido localização. Isso não é usado no GenBank / EMBL, mas corresponde ao `? &#39; coordenada de recurso usada no UniProt.\n",
        "\n",
        " Aqui está um exemplo em que criamos um local com pontos finais difusos:\n"
      ],
      "metadata": {}
    },
    {
      "cell_type": "code",
      "execution_count": 26,
      "metadata": {},
      "outputs": [],
      "source": [
        "from Bio import SeqFeature\n",
        "start_pos = SeqFeature.AfterPosition(5)\n",
        "end_pos = SeqFeature.BetweenPosition(9, left=8, right=9)\n",
        "my_location = SeqFeature.FeatureLocation(start_pos, end_pos)"
      ]
    },
    {
      "cell_type": "markdown",
      "metadata": {},
      "source": [
        "Note that the details of some of the fuzzy-locations changed in Biopython 1.59,\n",
        "in particular for BetweenPosition and WithinPosition you must now make it explicit\n",
        "which integer position should be used for slicing etc. For a start position this\n",
        "is generally the lower (left) value, while for an end position this would generally\n",
        "be the higher (right) value.\n",
        "\n",
        "If you print out a FeatureLocation object, you can get a nice representation of the information:\n"
      ]
    },
    {
      "cell_type": "markdown",
      "source": [
        "\n",
        "Observe que os detalhes de alguns dos locais difusos mudaram no Biopython 1.59,\n",
        "\n",
        " em particular para BetweenPosition e WithinPosition você deve agora torná-lo explícito\n",
        "\n",
        " qual posição inteira deve ser usada para fatiar etc. Para uma posição inicial isto\n",
        "\n",
        " é geralmente o valor inferior (esquerdo), enquanto para uma posição final isso geralmente\n",
        "\n",
        " ser o valor mais alto (direito).\n",
        "\n",
        " Se você imprimir um objeto FeatureLocation, poderá obter uma boa representação das informações:\n"
      ],
      "metadata": {}
    },
    {
      "cell_type": "code",
      "execution_count": 27,
      "metadata": {},
      "outputs": [
        {
          "name": "stdout",
          "output_type": "stream",
          "text": [
            "[>5:(8^9)]\n"
          ]
        }
      ],
      "source": [
        "print(my_location)"
      ]
    },
    {
      "cell_type": "markdown",
      "metadata": {},
      "source": [
        "We can access the fuzzy start and end positions using the start and end attributes of the location:\n"
      ]
    },
    {
      "cell_type": "markdown",
      "source": [
        "\n",
        "Podemos acessar as posições iniciais e finais difusas usando os atributos inicial e final do local:\n"
      ],
      "metadata": {}
    },
    {
      "cell_type": "code",
      "execution_count": 28,
      "metadata": {},
      "outputs": [
        {
          "data": {
            "text/plain": [
              "AfterPosition(5)"
            ]
          },
          "execution_count": 28,
          "metadata": {},
          "output_type": "execute_result"
        }
      ],
      "source": [
        "my_location.start"
      ]
    },
    {
      "cell_type": "code",
      "execution_count": 29,
      "metadata": {},
      "outputs": [
        {
          "name": "stdout",
          "output_type": "stream",
          "text": [
            ">5\n"
          ]
        }
      ],
      "source": [
        "print(my_location.start)"
      ]
    },
    {
      "cell_type": "code",
      "execution_count": 30,
      "metadata": {},
      "outputs": [
        {
          "data": {
            "text/plain": [
              "BetweenPosition(9, left=8, right=9)"
            ]
          },
          "execution_count": 30,
          "metadata": {},
          "output_type": "execute_result"
        }
      ],
      "source": [
        "my_location.end"
      ]
    },
    {
      "cell_type": "code",
      "execution_count": 31,
      "metadata": {},
      "outputs": [
        {
          "name": "stdout",
          "output_type": "stream",
          "text": [
            "(8^9)\n"
          ]
        }
      ],
      "source": [
        "print(my_location.end)"
      ]
    },
    {
      "cell_type": "markdown",
      "metadata": {},
      "source": [
        "If you don't want to deal with fuzzy positions and just want numbers,\n",
        "they are actually subclasses of integers so should work like integers:"
      ]
    },
    {
      "cell_type": "markdown",
      "source": [
        "\n",
        "Se você não quiser lidar com posições difusas e apenas quiser números,\n",
        "\n",
        " eles são na verdade subclasses de inteiros, portanto, devem funcionar como inteiros:\n"
      ],
      "metadata": {}
    },
    {
      "cell_type": "code",
      "execution_count": 32,
      "metadata": {},
      "outputs": [
        {
          "data": {
            "text/plain": [
              "5"
            ]
          },
          "execution_count": 32,
          "metadata": {},
          "output_type": "execute_result"
        }
      ],
      "source": [
        "int(my_location.start) "
      ]
    },
    {
      "cell_type": "code",
      "execution_count": 33,
      "metadata": {},
      "outputs": [
        {
          "data": {
            "text/plain": [
              "9"
            ]
          },
          "execution_count": 33,
          "metadata": {},
          "output_type": "execute_result"
        }
      ],
      "source": [
        "int(my_location.end)"
      ]
    },
    {
      "cell_type": "markdown",
      "metadata": {},
      "source": [
        "\n",
        "For compatibility with older versions of Biopython you can ask for the\n",
        "\\verb|nofuzzy_start| and \\verb|nofuzzy_end| attributes of the location\n",
        "which are plain integers:\n",
        "\n"
      ]
    },
    {
      "cell_type": "markdown",
      "source": [
        "\n",
        "Para compatibilidade com versões anteriores do Biopython, você pode solicitar o\n",
        "\n",
        " \\ verb | nofuzzy_start | e \\ verb | nofuzzy_end | atributos da localização\n",
        "\n",
        " que são inteiros simples:\n"
      ],
      "metadata": {}
    },
    {
      "cell_type": "code",
      "execution_count": 34,
      "metadata": {},
      "outputs": [
        {
          "data": {
            "text/plain": [
              "5"
            ]
          },
          "execution_count": 34,
          "metadata": {},
          "output_type": "execute_result"
        }
      ],
      "source": [
        "my_location.nofuzzy_start"
      ]
    },
    {
      "cell_type": "code",
      "execution_count": 35,
      "metadata": {},
      "outputs": [
        {
          "data": {
            "text/plain": [
              "9"
            ]
          },
          "execution_count": 35,
          "metadata": {},
          "output_type": "execute_result"
        }
      ],
      "source": [
        "my_location.nofuzzy_end"
      ]
    },
    {
      "cell_type": "markdown",
      "metadata": {},
      "source": [
        "Notice that this just gives you back the position attributes of the fuzzy locations.\n",
        "\n",
        "Similarly, to make it easy to create a position without worrying about fuzzy positions, you can just pass in numbers to the FeaturePosition constructors, and you'll get back out ExactPosition objects:"
      ]
    },
    {
      "cell_type": "markdown",
      "source": [
        "\n",
        "Observe que isso apenas retorna os atributos de posição das localizações difusas.\n",
        "\n",
        " Da mesma forma, para facilitar a criação de uma posição sem se preocupar com posições difusas, você pode simplesmente passar os números para os construtores FeaturePosition e você receberá os objetos ExactPosition:\n"
      ],
      "metadata": {}
    },
    {
      "cell_type": "code",
      "execution_count": 36,
      "metadata": {},
      "outputs": [
        {
          "name": "stdout",
          "output_type": "stream",
          "text": [
            "[5:9]\n"
          ]
        }
      ],
      "source": [
        "exact_location = SeqFeature.FeatureLocation(5, 9)\n",
        "print(exact_location)"
      ]
    },
    {
      "cell_type": "code",
      "execution_count": 37,
      "metadata": {},
      "outputs": [
        {
          "data": {
            "text/plain": [
              "ExactPosition(5)"
            ]
          },
          "execution_count": 37,
          "metadata": {},
          "output_type": "execute_result"
        }
      ],
      "source": [
        "exact_location.start"
      ]
    },
    {
      "cell_type": "code",
      "execution_count": 38,
      "metadata": {},
      "outputs": [
        {
          "name": "stdout",
          "output_type": "stream",
          "text": [
            "5\n"
          ]
        }
      ],
      "source": [
        "print(int(exact_location.start))"
      ]
    },
    {
      "cell_type": "code",
      "execution_count": 39,
      "metadata": {},
      "outputs": [
        {
          "data": {
            "text/plain": [
              "5"
            ]
          },
          "execution_count": 39,
          "metadata": {},
          "output_type": "execute_result"
        }
      ],
      "source": [
        "exact_location.nofuzzy_start"
      ]
    },
    {
      "cell_type": "markdown",
      "metadata": {},
      "source": [
        "That is most of the nitty gritty about dealing with fuzzy positions in Biopython.\n",
        "It has been designed so that dealing with fuzziness is not that much more\n",
        "complicated than dealing with exact positions, and hopefully you find that true!\n"
      ]
    },
    {
      "cell_type": "markdown",
      "source": [
        "\n",
        "Essa é a maior parte dos detalhes sobre como lidar com posições difusas no Biopython.\n",
        "\n",
        " Foi projetado para que lidar com imprecisões não seja muito mais\n",
        "\n",
        " complicado do que lidar com posições exatas, e espero que você ache isso verdade!\n"
      ],
      "metadata": {}
    },
    {
      "cell_type": "markdown",
      "metadata": {},
      "source": [
        "#### Location testing"
      ]
    },
    {
      "cell_type": "markdown",
      "source": [
        "\n",
        "#### Teste de localização\n"
      ],
      "metadata": {}
    },
    {
      "cell_type": "markdown",
      "metadata": {},
      "source": [
        "You can use the Python keyword in with a SeqFeature or location\n",
        "object to see if the base/residue for a parent coordinate is within the\n",
        "feature/location or not.\n",
        "\n",
        "For example, suppose you have a SNP of interest and you want to know which\n",
        "features this SNP is within, and lets suppose this SNP is at index 4350\n",
        "(Python counting!). Here is a simple brute force solution where we just\n",
        "check all the features one by one in a loop:\n"
      ]
    },
    {
      "cell_type": "markdown",
      "source": [
        "\n",
        "Você pode usar a palavra-chave Python com uma SeqFeature ou localização\n",
        "\n",
        " objeto para ver se a base / resíduo de uma coordenada pai está dentro do\n",
        "\n",
        " recurso / localização ou não.\n",
        "\n",
        " Por exemplo, suponha que você tenha um SNP de interesse e deseja saber qual\n",
        "\n",
        " apresenta este SNP, e vamos supor que este SNP esteja no índice 4350\n",
        "\n",
        " (Python contando!). Aqui está uma solução simples de força bruta, onde apenas\n",
        "\n",
        " verifique todos os recursos um por um em um loop:\n"
      ],
      "metadata": {}
    },
    {
      "cell_type": "code",
      "execution_count": 40,
      "metadata": {},
      "outputs": [
        {
          "name": "stdout",
          "output_type": "stream",
          "text": [
            "source ['taxon:229193']\n",
            "gene ['GeneID:2767712']\n",
            "CDS ['GI:45478716', 'GeneID:2767712']\n"
          ]
        }
      ],
      "source": [
        "my_snp = 4350\n",
        "record = SeqIO.read(\"data/NC_005816.gb\", \"genbank\")\n",
        "for feature in record.features:\n",
        "   if my_snp in feature:\n",
        "        print(\"%s %s\" % (feature.type, feature.qualifiers.get('db_xref')))"
      ]
    },
    {
      "cell_type": "markdown",
      "metadata": {},
      "source": [
        "Note that gene and CDS features from GenBank or EMBL files defined with joins\n",
        "are the union of the exons -- they do not cover any introns.\n"
      ]
    },
    {
      "cell_type": "markdown",
      "source": [
        "\n",
        "Observe que os recursos de gene e CDS do GenBank ou arquivos EMBL definidos com junções\n",
        "\n",
        " são a união dos exões - eles não cobrem quaisquer intrões.\n"
      ],
      "metadata": {}
    },
    {
      "cell_type": "markdown",
      "metadata": {},
      "source": [
        "### Sequence described by a feature or location"
      ]
    },
    {
      "cell_type": "markdown",
      "source": [
        "\n",
        "### Sequência descrita por um recurso ou local\n"
      ],
      "metadata": {}
    },
    {
      "cell_type": "markdown",
      "metadata": {},
      "source": [
        "A SeqFeature or location object doesn't directly contain a sequence, instead the location describes how to get this from the parent sequence. For example consider a (short) gene sequence with location 5:18 on the reverse strand, which in GenBank/EMBL notation using 1-based counting would be complement(6..18), like this:"
      ]
    },
    {
      "cell_type": "markdown",
      "source": [
        "\n",
        "Uma SeqFeature ou objeto de localização não contém diretamente uma sequência; em vez disso, a localização descreve como obtê-la da sequência pai. Por exemplo, considere uma sequência de gene (curta) com localização 5:18 na fita reversa, que na notação GenBank / EMBL usando contagem baseada em 1 seria um complemento (6..18), como este:\n"
      ],
      "metadata": {}
    },
    {
      "cell_type": "code",
      "execution_count": 41,
      "metadata": {},
      "outputs": [],
      "source": [
        "from Bio.SeqFeature import SeqFeature, FeatureLocation\n",
        "seq = Seq(\"ACCGAGACGGCAAAGGCTAGCATAGGTATGAGACTTCCTTCCTGCCAGTGCTGAGGAACTGGGAGCCTAC\")\n",
        "feature = SeqFeature(FeatureLocation(5, 18), type=\"gene\", strand=-1)"
      ]
    },
    {
      "cell_type": "markdown",
      "metadata": {},
      "source": [
        "You could take the parent sequence, slice it to extract 5:18, and then take the reverse complement.\n",
        "If you are using Biopython 1.59 or later, the feature location's start and end are integer like so this works:\n"
      ]
    },
    {
      "cell_type": "markdown",
      "source": [
        "\n",
        "Você poderia pegar a sequência pai, dividi-la para extrair 5:18 e, em seguida, pegar o complemento reverso.\n",
        "\n",
        " Se você estiver usando Biopython 1.59 ou posterior, o início e o fim do local do recurso são inteiros, assim funciona:\n"
      ],
      "metadata": {}
    },
    {
      "cell_type": "code",
      "execution_count": 42,
      "metadata": {},
      "outputs": [
        {
          "name": "stdout",
          "output_type": "stream",
          "text": [
            "AGCCTTTGCCGTC\n"
          ]
        }
      ],
      "source": [
        "feature_seq = seq[feature.location.start:feature.location.end].reverse_complement()\n",
        "print(feature_seq)"
      ]
    },
    {
      "cell_type": "markdown",
      "metadata": {},
      "source": [
        "This is a simple example so this isn't too bad -- however once you have to deal with compound features (joins) this is rather messy. Instead, the SeqFeature object has an extract method to take care of all this (and since Biopython 1.78 can handle trans-splicing by supplying a dictionary of referenced sequences):"
      ]
    },
    {
      "cell_type": "markdown",
      "source": [
        "\n",
        "Este é um exemplo simples, então isso não é tão ruim - no entanto, uma vez que você tenha que lidar com recursos compostos (junções), isso é um tanto confuso. Em vez disso, o objeto SeqFeature tem um método de extração para cuidar de tudo isso (e como Biopython 1.78 pode lidar com trans-splicing fornecendo um dicionário de sequências referenciadas):\n"
      ],
      "metadata": {}
    },
    {
      "cell_type": "code",
      "execution_count": 43,
      "metadata": {},
      "outputs": [
        {
          "name": "stdout",
          "output_type": "stream",
          "text": [
            "AGCCTTTGCCGTC\n"
          ]
        }
      ],
      "source": [
        "feature_seq = feature.extract(seq) \n",
        "print(feature_seq)"
      ]
    },
    {
      "cell_type": "markdown",
      "metadata": {},
      "source": [
        "The length of a SeqFeature or location matches\n",
        "that of the region of sequence it describes."
      ]
    },
    {
      "cell_type": "markdown",
      "source": [
        "\n",
        "O comprimento de uma SeqFeature ou localização corresponde\n",
        "\n",
        " aquela da região da sequência que descreve.\n"
      ],
      "metadata": {}
    },
    {
      "cell_type": "code",
      "execution_count": 44,
      "metadata": {},
      "outputs": [
        {
          "name": "stdout",
          "output_type": "stream",
          "text": [
            "13\n",
            "13\n",
            "13\n"
          ]
        }
      ],
      "source": [
        "print(len(feature_seq))\n",
        "print(len(feature))\n",
        "print(len(feature.location))"
      ]
    },
    {
      "cell_type": "markdown",
      "metadata": {},
      "source": [
        "For simple FeatureLocation objects the length is just the difference between the start and end positions. However, for a CompoundLocation the length is the sum of the constituent regions."
      ]
    },
    {
      "cell_type": "markdown",
      "source": [
        "\n",
        "Para objetos FeatureLocation simples, o comprimento é apenas a diferença entre as posições inicial e final. No entanto, para um CompoundLocation, o comprimento é a soma das regiões constituintes.\n"
      ],
      "metadata": {}
    },
    {
      "cell_type": "markdown",
      "metadata": {},
      "source": [
        "## Comparison"
      ]
    },
    {
      "cell_type": "markdown",
      "source": [
        "\n",
        "## Comparação\n"
      ],
      "metadata": {}
    },
    {
      "cell_type": "markdown",
      "metadata": {},
      "source": [
        "The SeqRecord mobjects can be very complex, but here’s a simple example:"
      ]
    },
    {
      "cell_type": "markdown",
      "source": [
        "\n",
        "Os objetos móveis SeqRecord podem ser muito complexos, mas aqui está um exemplo simples:\n"
      ],
      "metadata": {}
    },
    {
      "cell_type": "code",
      "execution_count": 45,
      "metadata": {},
      "outputs": [],
      "source": [
        "from Bio.SeqRecord import SeqRecord\n",
        "record1 = SeqRecord(Seq(\"ACGT\"), id=\"test\")\n",
        "record2 = SeqRecord(Seq(\"ACGT\"), id=\"test\")"
      ]
    },
    {
      "cell_type": "markdown",
      "metadata": {},
      "source": [
        "What happens when you try to compare these “identical” records?"
      ]
    },
    {
      "cell_type": "markdown",
      "source": [
        "\n",
        "O que acontece quando você tenta comparar esses registros “idênticos”?\n"
      ],
      "metadata": {}
    },
    {
      "cell_type": "code",
      "execution_count": 46,
      "metadata": {},
      "outputs": [
        {
          "ename": "NotImplementedError",
          "evalue": "SeqRecord comparison is deliberately not implemented. Explicitly compare the attributes of interest.",
          "output_type": "error",
          "traceback": [
            "\u001b[0;31m---------------------------------------------------------------------------\u001b[0m",
            "\u001b[0;31mNotImplementedError\u001b[0m                       Traceback (most recent call last)",
            "\u001b[0;32m<ipython-input-46-340909d12bdf>\u001b[0m in \u001b[0;36m<module>\u001b[0;34m\u001b[0m\n\u001b[0;32m----> 1\u001b[0;31m \u001b[0mrecord1\u001b[0m \u001b[0;34m==\u001b[0m \u001b[0mrecord2\u001b[0m\u001b[0;34m\u001b[0m\u001b[0;34m\u001b[0m\u001b[0m\n\u001b[0m",
            "\u001b[0;32m~/anaconda3/lib/python3.8/site-packages/Bio/SeqRecord.py\u001b[0m in \u001b[0;36m__eq__\u001b[0;34m(self, other)\u001b[0m\n\u001b[1;32m    787\u001b[0m     \u001b[0;32mdef\u001b[0m \u001b[0m__eq__\u001b[0m\u001b[0;34m(\u001b[0m\u001b[0mself\u001b[0m\u001b[0;34m,\u001b[0m \u001b[0mother\u001b[0m\u001b[0;34m)\u001b[0m\u001b[0;34m:\u001b[0m\u001b[0;34m\u001b[0m\u001b[0;34m\u001b[0m\u001b[0m\n\u001b[1;32m    788\u001b[0m         \u001b[0;34m\"\"\"Define the equal-to operand (not implemented).\"\"\"\u001b[0m\u001b[0;34m\u001b[0m\u001b[0;34m\u001b[0m\u001b[0m\n\u001b[0;32m--> 789\u001b[0;31m         \u001b[0;32mraise\u001b[0m \u001b[0mNotImplementedError\u001b[0m\u001b[0;34m(\u001b[0m\u001b[0m_NO_SEQRECORD_COMPARISON\u001b[0m\u001b[0;34m)\u001b[0m\u001b[0;34m\u001b[0m\u001b[0;34m\u001b[0m\u001b[0m\n\u001b[0m\u001b[1;32m    790\u001b[0m \u001b[0;34m\u001b[0m\u001b[0m\n\u001b[1;32m    791\u001b[0m     \u001b[0;32mdef\u001b[0m \u001b[0m__ne__\u001b[0m\u001b[0;34m(\u001b[0m\u001b[0mself\u001b[0m\u001b[0;34m,\u001b[0m \u001b[0mother\u001b[0m\u001b[0;34m)\u001b[0m\u001b[0;34m:\u001b[0m\u001b[0;34m\u001b[0m\u001b[0;34m\u001b[0m\u001b[0m\n",
            "\u001b[0;31mNotImplementedError\u001b[0m: SeqRecord comparison is deliberately not implemented. Explicitly compare the attributes of interest."
          ]
        }
      ],
      "source": [
        "record1 == record2"
      ]
    },
    {
      "cell_type": "markdown",
      "metadata": {},
      "source": [
        "Perhaps surprisingly older versions of Biopython would use Python’s default object comparison for theSeqRecord,  meaning record1 == record2 would only return True if these variables pointed at the same object in memory. In this example, record1 == record2 would have returned False here!"
      ]
    },
    {
      "cell_type": "markdown",
      "source": [
        "\n",
        "Talvez surpreendentemente versões mais antigas do Biopython usassem a comparação de objetos padrão do Python para oSeqRecord, o que significa que record1 == record2 retornaria True se essas variáveis apontassem para o mesmo objeto na memória. Neste exemplo, record1 == record2 teria retornado False aqui!\n"
      ],
      "metadata": {}
    },
    {
      "cell_type": "code",
      "execution_count": null,
      "metadata": {},
      "outputs": [],
      "source": [
        "record1 == record2 # on old versions of Biopython!"
      ]
    },
    {
      "cell_type": "markdown",
      "metadata": {},
      "source": [
        "False"
      ]
    },
    {
      "cell_type": "markdown",
      "source": [
        "\n",
        "Falso\n"
      ],
      "metadata": {}
    },
    {
      "cell_type": "markdown",
      "metadata": {},
      "source": [
        "As of Biopython 1.67, SeqRecord comparison like record1 == record2 will  instead raise an explicit error to avoid people being caught out by this:"
      ]
    },
    {
      "cell_type": "markdown",
      "source": [
        "\n",
        "A partir do Biopython 1.67, a comparação SeqRecord como record1 == record2 irá gerar um erro explícito para evitar que as pessoas sejam pegas por este:\n"
      ],
      "metadata": {}
    },
    {
      "cell_type": "code",
      "execution_count": 47,
      "metadata": {},
      "outputs": [
        {
          "ename": "NotImplementedError",
          "evalue": "SeqRecord comparison is deliberately not implemented. Explicitly compare the attributes of interest.",
          "output_type": "error",
          "traceback": [
            "\u001b[0;31m---------------------------------------------------------------------------\u001b[0m",
            "\u001b[0;31mNotImplementedError\u001b[0m                       Traceback (most recent call last)",
            "\u001b[0;32m<ipython-input-47-340909d12bdf>\u001b[0m in \u001b[0;36m<module>\u001b[0;34m\u001b[0m\n\u001b[0;32m----> 1\u001b[0;31m \u001b[0mrecord1\u001b[0m \u001b[0;34m==\u001b[0m \u001b[0mrecord2\u001b[0m\u001b[0;34m\u001b[0m\u001b[0;34m\u001b[0m\u001b[0m\n\u001b[0m",
            "\u001b[0;32m~/anaconda3/lib/python3.8/site-packages/Bio/SeqRecord.py\u001b[0m in \u001b[0;36m__eq__\u001b[0;34m(self, other)\u001b[0m\n\u001b[1;32m    787\u001b[0m     \u001b[0;32mdef\u001b[0m \u001b[0m__eq__\u001b[0m\u001b[0;34m(\u001b[0m\u001b[0mself\u001b[0m\u001b[0;34m,\u001b[0m \u001b[0mother\u001b[0m\u001b[0;34m)\u001b[0m\u001b[0;34m:\u001b[0m\u001b[0;34m\u001b[0m\u001b[0;34m\u001b[0m\u001b[0m\n\u001b[1;32m    788\u001b[0m         \u001b[0;34m\"\"\"Define the equal-to operand (not implemented).\"\"\"\u001b[0m\u001b[0;34m\u001b[0m\u001b[0;34m\u001b[0m\u001b[0m\n\u001b[0;32m--> 789\u001b[0;31m         \u001b[0;32mraise\u001b[0m \u001b[0mNotImplementedError\u001b[0m\u001b[0;34m(\u001b[0m\u001b[0m_NO_SEQRECORD_COMPARISON\u001b[0m\u001b[0;34m)\u001b[0m\u001b[0;34m\u001b[0m\u001b[0;34m\u001b[0m\u001b[0m\n\u001b[0m\u001b[1;32m    790\u001b[0m \u001b[0;34m\u001b[0m\u001b[0m\n\u001b[1;32m    791\u001b[0m     \u001b[0;32mdef\u001b[0m \u001b[0m__ne__\u001b[0m\u001b[0;34m(\u001b[0m\u001b[0mself\u001b[0m\u001b[0;34m,\u001b[0m \u001b[0mother\u001b[0m\u001b[0;34m)\u001b[0m\u001b[0;34m:\u001b[0m\u001b[0;34m\u001b[0m\u001b[0;34m\u001b[0m\u001b[0m\n",
            "\u001b[0;31mNotImplementedError\u001b[0m: SeqRecord comparison is deliberately not implemented. Explicitly compare the attributes of interest."
          ]
        }
      ],
      "source": [
        "record1 == record2"
      ]
    },
    {
      "cell_type": "markdown",
      "metadata": {},
      "source": [
        "Instead you should check the attributes you are interested in, for example the identifier and the sequence:"
      ]
    },
    {
      "cell_type": "markdown",
      "source": [
        "\n",
        "Em vez disso, você deve verificar os atributos nos quais está interessado, por exemplo, o identificador e a sequência:\n"
      ],
      "metadata": {}
    },
    {
      "cell_type": "code",
      "execution_count": 48,
      "metadata": {},
      "outputs": [
        {
          "data": {
            "text/plain": [
              "True"
            ]
          },
          "execution_count": 48,
          "metadata": {},
          "output_type": "execute_result"
        }
      ],
      "source": [
        "record1.id == record2.id"
      ]
    },
    {
      "cell_type": "code",
      "execution_count": 49,
      "metadata": {},
      "outputs": [
        {
          "data": {
            "text/plain": [
              "True"
            ]
          },
          "execution_count": 49,
          "metadata": {},
          "output_type": "execute_result"
        }
      ],
      "source": [
        "record1.seq == record2.seq"
      ]
    },
    {
      "cell_type": "markdown",
      "metadata": {},
      "source": [
        "Beware that comparing complex objects quickly gets complicated."
      ]
    },
    {
      "cell_type": "markdown",
      "source": [
        "\n",
        "Esteja ciente de que comparar objetos complexos rapidamente se torna complicado.\n"
      ],
      "metadata": {}
    },
    {
      "cell_type": "markdown",
      "metadata": {},
      "source": [
        "## References"
      ]
    },
    {
      "cell_type": "markdown",
      "source": [
        "\n",
        "## Referências\n"
      ],
      "metadata": {}
    },
    {
      "cell_type": "markdown",
      "metadata": {},
      "source": [
        "Another common annotation related to a sequence is a reference to a journal or other published work dealing with the sequence. We have a fairly simple way of representing a Reference in Biopython -- we have a Bio.SeqFeature.Reference class that stores the relevant information about a reference as attributes of an object.\n",
        "\n",
        "The attributes include things that you would expect to see in a reference like journal, title and authors. Additionally, it also can hold the medline_id and pubmed_id and a comment about the reference. These are all accessed simply as attributes of the object.\n",
        "\n",
        "A reference also has a location object so that it can specify a particular location on the sequence that the reference refers to. For instance, you might have a journal that is dealing with a particular gene located on a BAC, and want to specify that it only refers to this position exactly. The location is a potentially fuzzy location.\n",
        "\n",
        "Any reference objects are stored as a list in the SeqRecord object's annotations dictionary under the key 'references'.\n",
        "That's all there is too it. References are meant to be easy to deal with, and hopefully general enough to cover lots of usage cases."
      ]
    },
    {
      "cell_type": "markdown",
      "source": [
        "\n",
        "Outra anotação comum relacionada a uma sequência é uma referência a um jornal ou outro trabalho publicado que lida com a sequência. Temos uma maneira bastante simples de representar uma referência no Biopython - temos uma classe Bio.SeqFeature.Reference que armazena as informações relevantes sobre uma referência como atributos de um objeto.\n",
        "\n",
        " Os atributos incluem coisas que você esperaria ver em uma referência, como periódico, título e autores. Além disso, também pode conter o medline_id e pubmed_id e um comentário sobre a referência. Todos eles são acessados simplesmente como atributos do objeto.\n",
        "\n",
        " Uma referência também possui um objeto de localização para que possa especificar uma localização particular na sequência à qual a referência se refere. Por exemplo, você pode ter um diário que está lidando com um determinado gene localizado em um BAC e deseja especificar que ele se refere apenas a essa posição exatamente. O local é um local potencialmente difuso.\n",
        "\n",
        " Quaisquer objetos de referência são armazenados como uma lista no dicionário de anotações do objeto SeqRecord sob a chave &#39;referências&#39;.\n",
        "\n",
        " Isso é tudo que existe também. As referências devem ser fáceis de lidar e, com sorte, gerais o suficiente para cobrir muitos casos de uso.\n"
      ],
      "metadata": {}
    },
    {
      "cell_type": "markdown",
      "metadata": {},
      "source": [
        "## The format method"
      ]
    },
    {
      "cell_type": "markdown",
      "source": [
        "\n",
        "## O método de formatação\n"
      ],
      "metadata": {}
    },
    {
      "cell_type": "markdown",
      "metadata": {},
      "source": [
        "The format method of the SeqRecord class gives a string\n",
        "containing your record formatted using one of the output file formats\n",
        "supported by Bio.SeqIO, such as FASTA:"
      ]
    },
    {
      "cell_type": "markdown",
      "source": [
        "\n",
        "O método de formato da classe SeqRecord fornece uma string\n",
        "\n",
        " contendo seu registro formatado usando um dos formatos de arquivo de saída\n",
        "\n",
        " suportado por Bio.SeqIO, como FASTA:\n"
      ],
      "metadata": {}
    },
    {
      "cell_type": "code",
      "execution_count": 50,
      "metadata": {},
      "outputs": [
        {
          "name": "stdout",
          "output_type": "stream",
          "text": [
            ">gi|14150838|gb|AAK54648.1|AF376133_1 chalcone synthase [Cucumis sativus]\n",
            "MMYQQGCFAGGTVLRLAKDLAENNRGARVLVVCSEITAVTFRGPSETHLDSMVGQALFGD\n",
            "GAGAVIVGSDPDLSVERPLYELVWTGATLLPDSEGAIDGHLREVGLTFHLLKDVPGLISK\n",
            "NIEKSLKEAFTPLGISDWNSTFWIAHPGGPAILDQVEAKLGLKEEKMRATREVLSEYGNM\n",
            "SSAC\n",
            "\n"
          ]
        }
      ],
      "source": [
        "record = SeqRecord(\n",
        "    Seq(\n",
        "        \"MMYQQGCFAGGTVLRLAKDLAENNRGARVLVVCSEITAVTFRGPSETHLDSMVGQALFGD\"\n",
        "        \"GAGAVIVGSDPDLSVERPLYELVWTGATLLPDSEGAIDGHLREVGLTFHLLKDVPGLISK\"\n",
        "        \"NIEKSLKEAFTPLGISDWNSTFWIAHPGGPAILDQVEAKLGLKEEKMRATREVLSEYGNM\"\n",
        "        \"SSAC\"\n",
        "    ),\n",
        "    id=\"gi|14150838|gb|AAK54648.1|AF376133_1\",\n",
        "    description=\"chalcone synthase [Cucumis sativus]\",\n",
        ")\n",
        "print(record.format(\"fasta\"))"
      ]
    },
    {
      "cell_type": "markdown",
      "metadata": {},
      "source": [
        "This format method takes a single mandatory argument, a lower case string which is\n",
        "supported by Bio.SeqIO as an output format.\n",
        "However, some of the file formats Bio.SeqIO can write to _require_ more than\n",
        "one record (typically the case for multiple sequence alignment formats), and thus won't\n",
        "work via this format() method."
      ]
    },
    {
      "cell_type": "markdown",
      "source": [
        "\n",
        "Este método de formato leva um único argumento obrigatório, uma string minúscula que é\n",
        "\n",
        " suportado por Bio.SeqIO como formato de saída.\n",
        "\n",
        " No entanto, alguns dos formatos de arquivo Bio.SeqIO podem gravar para *exigir* mais do que\n",
        "\n",
        " um registro (normalmente o caso para vários formatos de alinhamento de sequência) e, portanto, não\n",
        "\n",
        " trabalhar através deste método format ().\n"
      ],
      "metadata": {}
    },
    {
      "cell_type": "markdown",
      "metadata": {},
      "source": [
        "## Slicing a SeqRecord"
      ]
    },
    {
      "cell_type": "markdown",
      "source": [
        "\n",
        "## Cortando um SeqRecord\n"
      ],
      "metadata": {}
    },
    {
      "cell_type": "markdown",
      "metadata": {},
      "source": [
        "You can slice a SeqRecord, to give you a new SeqRecord covering just\n",
        "part of the sequence. What is important\n",
        "here is that any per-letter annotations are also sliced, and any features which fall\n",
        "completely within the new sequence are preserved (with their locations adjusted).\n",
        "\n",
        "For example, taking the same GenBank file used earlier:"
      ]
    },
    {
      "cell_type": "markdown",
      "source": [
        "\n",
        "Você pode fatiar um SeqRecord, para lhe dar um novo SeqRecord cobrindo apenas\n",
        "\n",
        " parte da sequência. O que é importante\n",
        "\n",
        " aqui é que todas as anotações por letra também são fatiadas, e todos os recursos que caem\n",
        "\n",
        " completamente dentro da nova sequência são preservados (com suas localizações ajustadas).\n",
        "\n",
        " Por exemplo, usando o mesmo arquivo GenBank usado anteriormente:\n"
      ],
      "metadata": {}
    },
    {
      "cell_type": "code",
      "execution_count": 51,
      "metadata": {},
      "outputs": [
        {
          "name": "stdout",
          "output_type": "stream",
          "text": [
            "ID: NC_005816.1\n",
            "Name: NC_005816\n",
            "Description: Yersinia pestis biovar Microtus str. 91001 plasmid pPCP1, complete sequence\n",
            "Database cross-references: Project:58037\n",
            "Number of features: 41\n",
            "/molecule_type=DNA\n",
            "/topology=circular\n",
            "/data_file_division=BCT\n",
            "/date=21-JUL-2008\n",
            "/accessions=['NC_005816']\n",
            "/sequence_version=1\n",
            "/gi=45478711\n",
            "/keywords=['']\n",
            "/source=Yersinia pestis biovar Microtus str. 91001\n",
            "/organism=Yersinia pestis biovar Microtus str. 91001\n",
            "/taxonomy=['Bacteria', 'Proteobacteria', 'Gammaproteobacteria', 'Enterobacteriales', 'Enterobacteriaceae', 'Yersinia']\n",
            "/references=[Reference(title='Genetics of metabolic variations between Yersinia pestis biovars and the proposal of a new biovar, microtus', ...), Reference(title='Complete genome sequence of Yersinia pestis strain 91001, an isolate avirulent to humans', ...), Reference(title='Direct Submission', ...), Reference(title='Direct Submission', ...)]\n",
            "/comment=PROVISIONAL REFSEQ: This record has not yet been subject to final\n",
            "NCBI review. The reference sequence was derived from AE017046.\n",
            "COMPLETENESS: full length.\n",
            "Seq('TGTAACGAACGGTGCAATAGTGATCCACACCCAACGCCTGAAATCAGATCCAGG...CTG')\n"
          ]
        }
      ],
      "source": [
        "record = SeqIO.read(\"data/NC_005816.gb\", \"genbank\")\n",
        "print(record)"
      ]
    },
    {
      "cell_type": "code",
      "execution_count": 52,
      "metadata": {},
      "outputs": [
        {
          "data": {
            "text/plain": [
              "9609"
            ]
          },
          "execution_count": 52,
          "metadata": {},
          "output_type": "execute_result"
        }
      ],
      "source": [
        "len(record)"
      ]
    },
    {
      "cell_type": "code",
      "execution_count": 53,
      "metadata": {},
      "outputs": [
        {
          "data": {
            "text/plain": [
              "41"
            ]
          },
          "execution_count": 53,
          "metadata": {},
          "output_type": "execute_result"
        }
      ],
      "source": [
        "len(record.features)"
      ]
    },
    {
      "cell_type": "markdown",
      "metadata": {},
      "source": [
        "For this example we're going to focus in on the pim gene, YP_pPCP05.\n",
        "If you have a look at the GenBank file directly you'll find this gene/CDS has\n",
        "location string 4343..4780, or in Python counting 4342:4780.\n",
        "From looking at the file you can work out that these are the twelfth and\n",
        "thirteenth entries in the file, so in Python zero-based counting they are\n",
        "entries 11 and 12 in the features list:"
      ]
    },
    {
      "cell_type": "markdown",
      "source": [
        "\n",
        "Para este exemplo, vamos nos concentrar no gene pim, YP_pPCP05.\n",
        "\n",
        " Se você der uma olhada no arquivo GenBank diretamente, você encontrará que este gene / CDS tem\n",
        "\n",
        " string de localização 4343..4780 ou em Python contando 4342: 4780.\n",
        "\n",
        " Olhando para o arquivo, você pode descobrir que estes são o décimo segundo e\n",
        "\n",
        " décima terceira entradas no arquivo, portanto, na contagem baseada em zero do Python, elas são\n",
        "\n",
        " entradas 11 e 12 na lista de recursos:\n"
      ],
      "metadata": {}
    },
    {
      "cell_type": "code",
      "execution_count": 54,
      "metadata": {},
      "outputs": [
        {
          "name": "stdout",
          "output_type": "stream",
          "text": [
            "type: gene\n",
            "location: [4342:4780](+)\n",
            "qualifiers:\n",
            "    Key: db_xref, Value: ['GeneID:2767712']\n",
            "    Key: gene, Value: ['pim']\n",
            "    Key: locus_tag, Value: ['YP_pPCP05']\n",
            "\n"
          ]
        }
      ],
      "source": [
        "print(record.features[20])"
      ]
    },
    {
      "cell_type": "code",
      "execution_count": 55,
      "metadata": {},
      "outputs": [
        {
          "name": "stdout",
          "output_type": "stream",
          "text": [
            "type: CDS\n",
            "location: [4342:4780](+)\n",
            "qualifiers:\n",
            "    Key: codon_start, Value: ['1']\n",
            "    Key: db_xref, Value: ['GI:45478716', 'GeneID:2767712']\n",
            "    Key: gene, Value: ['pim']\n",
            "    Key: locus_tag, Value: ['YP_pPCP05']\n",
            "    Key: note, Value: ['similar to many previously sequenced pesticin immunity protein entries of Yersinia pestis plasmid pPCP, e.g. gi| 16082683|,ref|NP_395230.1| (NC_003132) , gi|1200166|emb|CAA90861.1| (Z54145 ) , gi|1488655| emb|CAA63439.1| (X92856) , gi|2996219|gb|AAC62543.1| (AF053945) , and gi|5763814|emb|CAB531 67.1| (AL109969)']\n",
            "    Key: product, Value: ['pesticin immunity protein']\n",
            "    Key: protein_id, Value: ['NP_995571.1']\n",
            "    Key: transl_table, Value: ['11']\n",
            "    Key: translation, Value: ['MGGGMISKLFCLALIFLSSSGLAEKNTYTAKDILQNLELNTFGNSLSHGIYGKQTTFKQTEFTNIKSNTKKHIALINKDNSWMISLKILGIKRDEYTVCFEDFSLIRPPTYVAIHPLLIKKVKSGNFIVVKEIKKSIPGCTVYYH']\n",
            "\n"
          ]
        }
      ],
      "source": [
        "print(record.features[21])"
      ]
    },
    {
      "cell_type": "markdown",
      "metadata": {},
      "source": [
        "Let's slice this parent record from 4300 to 4800 (enough to include the pim\n",
        "gene/CDS), and see how many features we get:"
      ]
    },
    {
      "cell_type": "markdown",
      "source": [
        "\n",
        "Vamos dividir esse registro pai de 4300 para 4800 (o suficiente para incluir o pim\n",
        "\n",
        " gene / CDS) e ver quantos recursos temos:\n"
      ],
      "metadata": {}
    },
    {
      "cell_type": "code",
      "execution_count": 56,
      "metadata": {},
      "outputs": [
        {
          "data": {
            "text/plain": [
              "SeqRecord(seq=Seq('ATAAATAGATTATTCCAAATAATTTATTTATGTAAGAACAGGATGGGAGGGGGA...TTA'), id='NC_005816.1', name='NC_005816', description='Yersinia pestis biovar Microtus str. 91001 plasmid pPCP1, complete sequence', dbxrefs=[])"
            ]
          },
          "execution_count": 56,
          "metadata": {},
          "output_type": "execute_result"
        }
      ],
      "source": [
        "sub_record = record[4300:4800]\n",
        "sub_record"
      ]
    },
    {
      "cell_type": "code",
      "execution_count": 57,
      "metadata": {},
      "outputs": [
        {
          "data": {
            "text/plain": [
              "500"
            ]
          },
          "execution_count": 57,
          "metadata": {},
          "output_type": "execute_result"
        }
      ],
      "source": [
        "len(sub_record)"
      ]
    },
    {
      "cell_type": "code",
      "execution_count": 58,
      "metadata": {},
      "outputs": [
        {
          "data": {
            "text/plain": [
              "2"
            ]
          },
          "execution_count": 58,
          "metadata": {},
          "output_type": "execute_result"
        }
      ],
      "source": [
        "len(sub_record.features)"
      ]
    },
    {
      "cell_type": "markdown",
      "metadata": {},
      "source": [
        "Our sub-record just has two features, the gene and CDS entries for YP_pPCP05:"
      ]
    },
    {
      "cell_type": "markdown",
      "source": [
        "\n",
        "Nosso sub-registro tem apenas dois recursos, o gene e as entradas CDS para YP_pPCP05:\n"
      ],
      "metadata": {}
    },
    {
      "cell_type": "code",
      "execution_count": 59,
      "metadata": {},
      "outputs": [
        {
          "name": "stdout",
          "output_type": "stream",
          "text": [
            "type: gene\n",
            "location: [42:480](+)\n",
            "qualifiers:\n",
            "    Key: db_xref, Value: ['GeneID:2767712']\n",
            "    Key: gene, Value: ['pim']\n",
            "    Key: locus_tag, Value: ['YP_pPCP05']\n",
            "\n"
          ]
        }
      ],
      "source": [
        "print(sub_record.features[0])"
      ]
    },
    {
      "cell_type": "code",
      "execution_count": 60,
      "metadata": {},
      "outputs": [
        {
          "name": "stdout",
          "output_type": "stream",
          "text": [
            "type: CDS\n",
            "location: [42:480](+)\n",
            "qualifiers:\n",
            "    Key: codon_start, Value: ['1']\n",
            "    Key: db_xref, Value: ['GI:45478716', 'GeneID:2767712']\n",
            "    Key: gene, Value: ['pim']\n",
            "    Key: locus_tag, Value: ['YP_pPCP05']\n",
            "    Key: note, Value: ['similar to many previously sequenced pesticin immunity protein entries of Yersinia pestis plasmid pPCP, e.g. gi| 16082683|,ref|NP_395230.1| (NC_003132) , gi|1200166|emb|CAA90861.1| (Z54145 ) , gi|1488655| emb|CAA63439.1| (X92856) , gi|2996219|gb|AAC62543.1| (AF053945) , and gi|5763814|emb|CAB531 67.1| (AL109969)']\n",
            "    Key: product, Value: ['pesticin immunity protein']\n",
            "    Key: protein_id, Value: ['NP_995571.1']\n",
            "    Key: transl_table, Value: ['11']\n",
            "    Key: translation, Value: ['MGGGMISKLFCLALIFLSSSGLAEKNTYTAKDILQNLELNTFGNSLSHGIYGKQTTFKQTEFTNIKSNTKKHIALINKDNSWMISLKILGIKRDEYTVCFEDFSLIRPPTYVAIHPLLIKKVKSGNFIVVKEIKKSIPGCTVYYH']\n",
            "\n"
          ]
        }
      ],
      "source": [
        "print(sub_record.features[1])"
      ]
    },
    {
      "cell_type": "markdown",
      "metadata": {},
      "source": [
        "Notice that their locations have been adjusted to reflect the new parent sequence!\n",
        "\n",
        "While Biopython has done something sensible and hopefully intuitive with the features\n",
        "(and any per-letter annotation), for the other annotation it is impossible to know if\n",
        "this still applies to the sub-sequence or not. To avoid guessing, the annotations\n",
        "and dbxrefs are omitted from the sub-record, and it is up to you to transfer\n",
        "any relevant information as appropriate."
      ]
    },
    {
      "cell_type": "markdown",
      "source": [
        "\n",
        "Observe que suas localizações foram ajustadas para refletir a nova sequência pai!\n",
        "\n",
        " Embora Biopython tenha feito algo sensato e, espero, intuitivo com os recursos\n",
        "\n",
        " (e qualquer anotação por letra), para a outra anotação é impossível saber se\n",
        "\n",
        " isso ainda se aplica à subseqüência ou não. Para evitar suposições, as anotações\n",
        "\n",
        " e dbxrefs são omitidos do sub-registro, e cabe a você transferir\n",
        "\n",
        " qualquer informação relevante conforme apropriado.\n"
      ],
      "metadata": {}
    },
    {
      "cell_type": "code",
      "execution_count": 61,
      "metadata": {},
      "outputs": [
        {
          "name": "stdout",
          "output_type": "stream",
          "text": [
            "{}\n"
          ]
        }
      ],
      "source": [
        "print(sub_record.annotations)"
      ]
    },
    {
      "cell_type": "code",
      "execution_count": 62,
      "metadata": {},
      "outputs": [
        {
          "name": "stdout",
          "output_type": "stream",
          "text": [
            "[]\n"
          ]
        }
      ],
      "source": [
        "print(sub_record.dbxrefs)"
      ]
    },
    {
      "cell_type": "markdown",
      "metadata": {},
      "source": [
        "The same point could be made about the record id, name\n",
        "and description, but for practicality these are preserved:"
      ]
    },
    {
      "cell_type": "markdown",
      "source": [
        "\n",
        "O mesmo pode ser feito sobre o id do registro, nome\n",
        "\n",
        " e descrição, mas por questões práticas, são preservados:\n"
      ],
      "metadata": {}
    },
    {
      "cell_type": "code",
      "execution_count": 63,
      "metadata": {},
      "outputs": [
        {
          "name": "stdout",
          "output_type": "stream",
          "text": [
            "NC_005816.1\n"
          ]
        }
      ],
      "source": [
        "print(sub_record.id)"
      ]
    },
    {
      "cell_type": "code",
      "execution_count": 64,
      "metadata": {},
      "outputs": [
        {
          "name": "stdout",
          "output_type": "stream",
          "text": [
            "NC_005816\n"
          ]
        }
      ],
      "source": [
        "print(sub_record.name)"
      ]
    },
    {
      "cell_type": "code",
      "execution_count": 65,
      "metadata": {},
      "outputs": [
        {
          "name": "stdout",
          "output_type": "stream",
          "text": [
            "Yersinia pestis biovar Microtus str. 91001 plasmid pPCP1, complete sequence\n"
          ]
        }
      ],
      "source": [
        "print(sub_record.description)"
      ]
    },
    {
      "cell_type": "markdown",
      "metadata": {},
      "source": [
        "This illustrates the problem nicely though, our new sub-record is\n",
        "_not_ the complete sequence of the plasmid, so the description is wrong!\n",
        "Let's fix this and then view the sub-record as a reduced FASTA file using\n",
        "the format method described above:"
      ]
    },
    {
      "cell_type": "markdown",
      "source": [
        "\n",
        "Isso ilustra bem o problema, porém, nosso novo sub-registro é\n",
        "\n",
        " *não* a seqüência completa do plasmídeo, então a descrição está errada!\n",
        "\n",
        " Vamos consertar isso e, em seguida, ver o sub-registro como um arquivo FASTA reduzido usando\n",
        "\n",
        " o método de formatação descrito acima:\n"
      ],
      "metadata": {}
    },
    {
      "cell_type": "code",
      "execution_count": 66,
      "metadata": {},
      "outputs": [
        {
          "name": "stdout",
          "output_type": "stream",
          "text": [
            ">NC_005816.1 Yersinia pestis biovar Microtus str. 91001 plasmid pPCP1, partial.\n",
            "ATAAATAGATTATTCCAAATAATTTATTTATGTAAGAACAGGATGGGAGGGGGAATGATC\n",
            "TCAAAGTTATTTTGCTTGGCTCTCATATTTTTATCATCAAGTGGCCTTGCAGAAAAAAAC\n",
            "ACATATACAGCAAAAGACATCTTGCAAAACCTAGAATTAAATACCTTTGGCAATTCATTG\n",
            "TCTCATGGCATCTATGGGAAACAGACAACCTTCAAGCAAACCGAGTTTACAAATATTAAA\n",
            "AGCAACACCAAAAAACACATTGCACTTATCAATAAAGACAACTCATGGATGATATCATTA\n",
            "AAAATACTAGGAATTAAGAGAGATGAGTATACTGTCTGTTTTGAAGATTTCTCTCTAATA\n",
            "AGACCGCCAACATATGTAGCCATACATCCTCTACTTATAAAAAAAGTAAAATCTGGAAAC\n",
            "TTTATAGTAGTGAAAGAAATAAAGAAATCTATCCCTGGTTGCACTGTATATTATCATTAA\n",
            "TAGCAAGCCCCTCATTATTA\n",
            "\n"
          ]
        }
      ],
      "source": [
        "sub_record.description =\"Yersinia pestis biovar Microtus str. 91001 plasmid pPCP1, partial.\"\n",
        "print(sub_record.format(\"fasta\"))"
      ]
    },
    {
      "cell_type": "markdown",
      "metadata": {},
      "source": [
        "## Adding SeqRecord objects"
      ]
    },
    {
      "cell_type": "markdown",
      "source": [
        "\n",
        "## Adicionar objetos SeqRecord\n"
      ],
      "metadata": {}
    },
    {
      "cell_type": "markdown",
      "metadata": {},
      "source": [
        "You can add SeqRecord objects together, giving a new SeqRecord.\n",
        "What is important here is that any common\n",
        "per-letter annotations are also added, all the features are preserved (with their\n",
        "locations adjusted), and any other common annotation is also kept (like the id, name\n",
        "and description).\n",
        "\n",
        "For an example with per-letter annotation, we'll use the first record in a\n",
        "FASTQ file."
      ]
    },
    {
      "cell_type": "markdown",
      "source": [
        "\n",
        "Você pode adicionar objetos SeqRecord juntos, dando um novo SeqRecord.\n",
        "\n",
        " O que é importante aqui é que qualquer\n",
        "\n",
        " anotações por letra também são adicionadas, todos os recursos são preservados (com seus\n",
        "\n",
        " locais ajustados), e qualquer outra anotação comum também é mantida (como o id, nome\n",
        "\n",
        " e descrição).\n",
        "\n",
        " Para um exemplo com anotação por letra, usaremos o primeiro registro em um\n",
        "\n",
        " Arquivo FASTQ.\n"
      ],
      "metadata": {}
    },
    {
      "cell_type": "code",
      "execution_count": 67,
      "metadata": {},
      "outputs": [
        {
          "name": "stdout",
          "output_type": "stream",
          "text": [
            "25\n"
          ]
        }
      ],
      "source": [
        "record = next(SeqIO.parse(\"data/example.fastq\", \"fastq\"))\n",
        "print(len(record))"
      ]
    },
    {
      "cell_type": "code",
      "execution_count": 68,
      "metadata": {},
      "outputs": [
        {
          "name": "stdout",
          "output_type": "stream",
          "text": [
            "CCCTTCTTGTCTTCAGCGTTTCTCC\n"
          ]
        }
      ],
      "source": [
        "print(record.seq)"
      ]
    },
    {
      "cell_type": "code",
      "execution_count": 69,
      "metadata": {},
      "outputs": [
        {
          "name": "stdout",
          "output_type": "stream",
          "text": [
            "[26, 26, 18, 26, 26, 26, 26, 26, 26, 26, 26, 26, 26, 26, 26, 22, 26, 26, 26, 26, 26, 26, 26, 23, 23]\n"
          ]
        }
      ],
      "source": [
        "print(record.letter_annotations[\"phred_quality\"])"
      ]
    },
    {
      "cell_type": "markdown",
      "metadata": {},
      "source": [
        "Let's suppose this was Roche 454 data, and that from other information\n",
        "you think the TTT should be only TT. We can make a new edited\n",
        "record by first slicing the SeqRecord before and after the 'extra'\n",
        "third T:"
      ]
    },
    {
      "cell_type": "markdown",
      "source": [
        "\n",
        "Suponhamos que se tratasse de dados Roche 454 e de outras informações\n",
        "\n",
        " você acha que o TTT deve ser apenas TT. Podemos fazer uma nova edição\n",
        "\n",
        " gravar cortando primeiro o SeqRecord antes e depois do &#39;extra&#39;\n",
        "\n",
        " terceiro T:\n"
      ],
      "metadata": {}
    },
    {
      "cell_type": "code",
      "execution_count": 70,
      "metadata": {},
      "outputs": [
        {
          "name": "stdout",
          "output_type": "stream",
          "text": [
            "CCCTTCTTGTCTTCAGCGTT\n"
          ]
        }
      ],
      "source": [
        "left = record[:20]\n",
        "print(left.seq)"
      ]
    },
    {
      "cell_type": "code",
      "execution_count": 71,
      "metadata": {},
      "outputs": [
        {
          "name": "stdout",
          "output_type": "stream",
          "text": [
            "[26, 26, 18, 26, 26, 26, 26, 26, 26, 26, 26, 26, 26, 26, 26, 22, 26, 26, 26, 26]\n"
          ]
        }
      ],
      "source": [
        "print(left.letter_annotations[\"phred_quality\"])"
      ]
    },
    {
      "cell_type": "code",
      "execution_count": 72,
      "metadata": {},
      "outputs": [
        {
          "name": "stdout",
          "output_type": "stream",
          "text": [
            "CTCC\n"
          ]
        }
      ],
      "source": [
        "right = record[21:]\n",
        "print(right.seq)"
      ]
    },
    {
      "cell_type": "code",
      "execution_count": 73,
      "metadata": {},
      "outputs": [
        {
          "name": "stdout",
          "output_type": "stream",
          "text": [
            "[26, 26, 23, 23]\n"
          ]
        }
      ],
      "source": [
        "print(right.letter_annotations[\"phred_quality\"])"
      ]
    },
    {
      "cell_type": "markdown",
      "metadata": {},
      "source": [
        "Now add the two parts together:"
      ]
    },
    {
      "cell_type": "markdown",
      "source": [
        "\n",
        "Agora adicione as duas partes:\n"
      ],
      "metadata": {}
    },
    {
      "cell_type": "code",
      "execution_count": 74,
      "metadata": {},
      "outputs": [
        {
          "name": "stdout",
          "output_type": "stream",
          "text": [
            "24\n"
          ]
        }
      ],
      "source": [
        "edited = left + right\n",
        "print(len(edited))"
      ]
    },
    {
      "cell_type": "code",
      "execution_count": 75,
      "metadata": {},
      "outputs": [
        {
          "name": "stdout",
          "output_type": "stream",
          "text": [
            "CCCTTCTTGTCTTCAGCGTTCTCC\n"
          ]
        }
      ],
      "source": [
        "print(edited.seq)"
      ]
    },
    {
      "cell_type": "code",
      "execution_count": 76,
      "metadata": {},
      "outputs": [
        {
          "name": "stdout",
          "output_type": "stream",
          "text": [
            "[26, 26, 18, 26, 26, 26, 26, 26, 26, 26, 26, 26, 26, 26, 26, 22, 26, 26, 26, 26, 26, 26, 23, 23]\n"
          ]
        }
      ],
      "source": [
        "print(edited.letter_annotations[\"phred_quality\"])"
      ]
    },
    {
      "cell_type": "markdown",
      "metadata": {},
      "source": [
        "Easy and intuitive? We hope so! You can make this shorter with just:\n"
      ]
    },
    {
      "cell_type": "markdown",
      "source": [
        "\n",
        "Fácil e intuitivo? Nós esperamos que sim! Você pode tornar isso mais curto com apenas:\n"
      ],
      "metadata": {}
    },
    {
      "cell_type": "code",
      "execution_count": 77,
      "metadata": {},
      "outputs": [],
      "source": [
        "edited = record[:20] + record[21:]"
      ]
    },
    {
      "cell_type": "markdown",
      "metadata": {},
      "source": [
        "Now, for an example with features, we'll use a GenBnak file.\n",
        "Suppose you have a circular genome:\n"
      ]
    },
    {
      "cell_type": "markdown",
      "source": [
        "\n",
        "Agora, para um exemplo com recursos, usaremos um arquivo GenBnak.\n",
        "\n",
        " Suponha que você tenha um genoma circular:\n"
      ],
      "metadata": {}
    },
    {
      "cell_type": "code",
      "execution_count": 78,
      "metadata": {},
      "outputs": [
        {
          "name": "stdout",
          "output_type": "stream",
          "text": [
            "ID: NC_005816.1\n",
            "Name: NC_005816\n",
            "Description: Yersinia pestis biovar Microtus str. 91001 plasmid pPCP1, complete sequence\n",
            "Database cross-references: Project:58037\n",
            "Number of features: 41\n",
            "/molecule_type=DNA\n",
            "/topology=circular\n",
            "/data_file_division=BCT\n",
            "/date=21-JUL-2008\n",
            "/accessions=['NC_005816']\n",
            "/sequence_version=1\n",
            "/gi=45478711\n",
            "/keywords=['']\n",
            "/source=Yersinia pestis biovar Microtus str. 91001\n",
            "/organism=Yersinia pestis biovar Microtus str. 91001\n",
            "/taxonomy=['Bacteria', 'Proteobacteria', 'Gammaproteobacteria', 'Enterobacteriales', 'Enterobacteriaceae', 'Yersinia']\n",
            "/references=[Reference(title='Genetics of metabolic variations between Yersinia pestis biovars and the proposal of a new biovar, microtus', ...), Reference(title='Complete genome sequence of Yersinia pestis strain 91001, an isolate avirulent to humans', ...), Reference(title='Direct Submission', ...), Reference(title='Direct Submission', ...)]\n",
            "/comment=PROVISIONAL REFSEQ: This record has not yet been subject to final\n",
            "NCBI review. The reference sequence was derived from AE017046.\n",
            "COMPLETENESS: full length.\n",
            "Seq('TGTAACGAACGGTGCAATAGTGATCCACACCCAACGCCTGAAATCAGATCCAGG...CTG')\n"
          ]
        }
      ],
      "source": [
        "record = SeqIO.read(\"data/NC_005816.gb\", \"genbank\")\n",
        "print(record)"
      ]
    },
    {
      "cell_type": "markdown",
      "metadata": {},
      "source": [
        "You can shift the origin like this:"
      ]
    },
    {
      "cell_type": "markdown",
      "source": [
        "\n",
        "Você pode mudar a origem assim:\n"
      ],
      "metadata": {}
    },
    {
      "cell_type": "code",
      "execution_count": 79,
      "metadata": {},
      "outputs": [
        {
          "name": "stdout",
          "output_type": "stream",
          "text": [
            "9609\n"
          ]
        }
      ],
      "source": [
        "print(len(record))"
      ]
    },
    {
      "cell_type": "code",
      "execution_count": 80,
      "metadata": {},
      "outputs": [
        {
          "name": "stdout",
          "output_type": "stream",
          "text": [
            "41\n"
          ]
        }
      ],
      "source": [
        "print(len(record.features))"
      ]
    },
    {
      "cell_type": "code",
      "execution_count": 81,
      "metadata": {},
      "outputs": [
        {
          "name": "stdout",
          "output_type": "stream",
          "text": [
            "['Project:58037']\n"
          ]
        }
      ],
      "source": [
        "print(record.dbxrefs)"
      ]
    },
    {
      "cell_type": "code",
      "execution_count": 82,
      "metadata": {},
      "outputs": [
        {
          "name": "stdout",
          "output_type": "stream",
          "text": [
            "dict_keys(['molecule_type', 'topology', 'data_file_division', 'date', 'accessions', 'sequence_version', 'gi', 'keywords', 'source', 'organism', 'taxonomy', 'references', 'comment'])\n"
          ]
        }
      ],
      "source": [
        "print(record.annotations.keys())"
      ]
    },
    {
      "cell_type": "markdown",
      "metadata": {},
      "source": [
        "You can shift the origin like this:"
      ]
    },
    {
      "cell_type": "markdown",
      "source": [
        "\n",
        "Você pode mudar a origem assim:\n"
      ],
      "metadata": {}
    },
    {
      "cell_type": "code",
      "execution_count": 83,
      "metadata": {},
      "outputs": [
        {
          "name": "stdout",
          "output_type": "stream",
          "text": [
            "ID: NC_005816.1\n",
            "Name: NC_005816\n",
            "Description: Yersinia pestis biovar Microtus str. 91001 plasmid pPCP1, complete sequence\n",
            "Number of features: 40\n",
            "Seq('GATACGCAGTCATATTTTTTACACAATTCTCTAATCCCGACAAGGTCGTAGGTC...GGA')\n"
          ]
        }
      ],
      "source": [
        "shifted = record[2000:] + record[:2000]\n",
        "print(shifted)"
      ]
    },
    {
      "cell_type": "code",
      "execution_count": 84,
      "metadata": {},
      "outputs": [
        {
          "name": "stdout",
          "output_type": "stream",
          "text": [
            "9609\n"
          ]
        }
      ],
      "source": [
        "print(len(shifted))"
      ]
    },
    {
      "cell_type": "markdown",
      "metadata": {},
      "source": [
        "Note that this isn't perfect in that some annotation like the database cross references\n",
        "and one of the features (the source feature) have been lost:\n"
      ]
    },
    {
      "cell_type": "markdown",
      "source": [
        "\n",
        "Observe que isso não é perfeito porque algumas anotações como as referências cruzadas do banco de dados\n",
        "\n",
        " e um dos recursos (o recurso de origem) foi perdido:\n"
      ],
      "metadata": {}
    },
    {
      "cell_type": "code",
      "execution_count": 85,
      "metadata": {},
      "outputs": [
        {
          "name": "stdout",
          "output_type": "stream",
          "text": [
            "40\n"
          ]
        }
      ],
      "source": [
        "print(len(shifted.features))"
      ]
    },
    {
      "cell_type": "code",
      "execution_count": 86,
      "metadata": {},
      "outputs": [
        {
          "name": "stdout",
          "output_type": "stream",
          "text": [
            "[]\n"
          ]
        }
      ],
      "source": [
        "print(shifted.dbxrefs)"
      ]
    },
    {
      "cell_type": "code",
      "execution_count": 87,
      "metadata": {},
      "outputs": [
        {
          "name": "stdout",
          "output_type": "stream",
          "text": [
            "dict_keys([])\n"
          ]
        }
      ],
      "source": [
        "print(shifted.annotations.keys())"
      ]
    },
    {
      "cell_type": "markdown",
      "metadata": {},
      "source": [
        "This is because the SeqRecord slicing step is cautious in what annotation\n",
        "it preserves (erroneously propagating annotation can cause major problems). If\n",
        "you want to keep the database cross references or the annotations dictionary,\n",
        "this must be done explicitly:"
      ]
    },
    {
      "cell_type": "markdown",
      "source": [
        "\n",
        "Isso ocorre porque a etapa de divisão SeqRecord é cautelosa em quais anotações\n",
        "\n",
        " ele preserva (propagação errônea da anotação pode causar grandes problemas). E se\n",
        "\n",
        " você deseja manter as referências cruzadas do banco de dados ou o dicionário de anotações,\n",
        "\n",
        " isso deve ser feito explicitamente:\n"
      ],
      "metadata": {}
    },
    {
      "cell_type": "code",
      "execution_count": 88,
      "metadata": {},
      "outputs": [
        {
          "name": "stdout",
          "output_type": "stream",
          "text": [
            "['Project:58037']\n"
          ]
        }
      ],
      "source": [
        "shifted.dbxrefs = record.dbxrefs[:]\n",
        "shifted.annotations = record.annotations.copy()\n",
        "print(shifted.dbxrefs)"
      ]
    },
    {
      "cell_type": "code",
      "execution_count": 89,
      "metadata": {},
      "outputs": [
        {
          "name": "stdout",
          "output_type": "stream",
          "text": [
            "dict_keys(['molecule_type', 'topology', 'data_file_division', 'date', 'accessions', 'sequence_version', 'gi', 'keywords', 'source', 'organism', 'taxonomy', 'references', 'comment'])\n"
          ]
        }
      ],
      "source": [
        "print(shifted.annotations.keys())"
      ]
    },
    {
      "cell_type": "markdown",
      "metadata": {},
      "source": [
        "Also note that in an example like this, you should probably change the record\n",
        "identifiers since the NCBI references refer to the _original_ unmodified\n",
        "sequence."
      ]
    },
    {
      "cell_type": "markdown",
      "source": [
        "\n",
        "Observe também que em um exemplo como este, você provavelmente deve alterar o registro\n",
        "\n",
        " identificadores, uma vez que as referências do NCBI referem-se ao *original* não modificado\n",
        "\n",
        " seqüência.\n"
      ],
      "metadata": {}
    },
    {
      "cell_type": "markdown",
      "metadata": {},
      "source": [
        "## Reverse-complementing SeqRecord objects"
      ]
    },
    {
      "cell_type": "markdown",
      "source": [
        "\n",
        "## Objetos SeqRecord de complementação reversa\n"
      ],
      "metadata": {}
    },
    {
      "cell_type": "markdown",
      "metadata": {},
      "source": [
        "One of the new features in Biopython 1.57 was the SeqRecord object's\n",
        "reverse_complement method. This tries to balance easy of use with worries\n",
        "about what to do with the annotation in the reverse complemented record.\n",
        "\n",
        "For the sequence, this uses the Seq object's reverse complement method. Any\n",
        "features are transferred with the location and strand recalculated. Likewise\n",
        "any per-letter-annotation is also copied but reversed (which makes sense for\n",
        "typical examples like quality scores). However, transfer of most annotation\n",
        "is problematical.\n",
        "\n",
        "For instance, if the record ID was an accession, that accession should not really\n",
        "apply to the reverse complemented sequence, and transferring the identifier by\n",
        "default could easily cause subtle data corruption in downstream analysis.\n",
        "Therefore by default, the SeqRecord's id, name, description, annotations\n",
        "and database cross references are all _not_ transferred by default.\n",
        "\n",
        "The SeqRecord object's reverse_complement method takes a number\n",
        "of optional arguments corresponding to properties of the record. Setting these\n",
        "arguments to True means copy the old values, while False means\n",
        "drop the old values and use the default value. You can alternatively provide\n",
        "the new desired value instead.\n",
        "\n",
        "Consider this example record:"
      ]
    },
    {
      "cell_type": "markdown",
      "source": [
        "\n",
        "Um dos novos recursos do Biopython 1.57 foi o objeto SeqRecord\n",
        "\n",
        " método reverse_complement. Isso tenta equilibrar facilidade de uso com preocupações\n",
        "\n",
        " sobre o que fazer com a anotação no registro complementado reverso.\n",
        "\n",
        " Para a sequência, ele usa o método de complemento reverso do objeto Seq. Qualquer\n",
        "\n",
        " os recursos são transferidos com a localização e o fio recalculados. Da mesma forma\n",
        "\n",
        " qualquer anotação por letra também é copiada, mas revertida (o que faz sentido para\n",
        "\n",
        " exemplos típicos, como pontuações de qualidade). No entanto, a transferência da maioria das anotações\n",
        "\n",
        " é problemático.\n",
        "\n",
        " Por exemplo, se o ID do registro for um acesso, esse acesso não deve realmente\n",
        "\n",
        " aplicar à sequência complementada reversa e transferir o identificador por\n",
        "\n",
        " o padrão pode facilmente causar corrupção sutil de dados na análise downstream.\n",
        "\n",
        " Portanto, por padrão, o id, nome, descrição e anotações do SeqRecord\n",
        "\n",
        " e as referências cruzadas do banco de dados *não* são transferidas por padrão.\n",
        "\n",
        " O método reverse_complement do objeto SeqRecord leva um número\n",
        "\n",
        " de argumentos opcionais correspondentes às propriedades do registro. Configurando estes\n",
        "\n",
        " argumentos para True significa copiar os valores antigos, enquanto False significa\n",
        "\n",
        " elimine os valores antigos e use o valor padrão. Você também pode fornecer\n",
        "\n",
        " o novo valor desejado.\n",
        "\n",
        " Considere este registro de exemplo:\n"
      ],
      "metadata": {}
    },
    {
      "cell_type": "code",
      "execution_count": 90,
      "metadata": {},
      "outputs": [
        {
          "name": "stdout",
          "output_type": "stream",
          "text": [
            "NC_005816.1 9609 41 1 13\n"
          ]
        }
      ],
      "source": [
        "record = SeqIO.read(\"data/NC_005816.gb\", \"genbank\")\n",
        "print(\"%s %i %i %i %i\" % (record.id, len(record), len(record.features), len(record.dbxrefs), len(record.annotations)))"
      ]
    },
    {
      "cell_type": "markdown",
      "metadata": {},
      "source": [
        "Here we take the reverse complement and specify a new identifier - but notice\n",
        "how most of the annotation is dropped (but not the features):"
      ]
    },
    {
      "cell_type": "markdown",
      "source": [
        "\n",
        "Aqui pegamos o complemento reverso e especificamos um novo identificador - mas observe\n",
        "\n",
        " como a maior parte da anotação é eliminada (mas não os recursos):\n"
      ],
      "metadata": {}
    },
    {
      "cell_type": "code",
      "execution_count": 91,
      "metadata": {},
      "outputs": [
        {
          "name": "stdout",
          "output_type": "stream",
          "text": [
            "TESTING 9609 41 0 0\n"
          ]
        }
      ],
      "source": [
        "rc = record.reverse_complement(id=\"TESTING\")\n",
        "print(\"%s %i %i %i %i\" % (rc.id, len(rc), len(rc.features), len(rc.dbxrefs), len(rc.annotations)))"
      ]
    }
  ],
  "metadata": {},
  "nbformat": 4,
  "nbformat_minor": 1
}