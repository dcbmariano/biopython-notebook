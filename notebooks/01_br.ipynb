{
 "cells": [
  {
   "cell_type": "markdown",
   "metadata": {},
   "source": [
    "\n",
    "**Fonte** : Tutorial e livro de receitas do Biopython (adaptado | tradução para o português: [Diego Mariano](https://diegomariano.com))\n"
   ]
  },
  {
   "cell_type": "markdown",
   "metadata": {},
   "source": [
    "<img src=\"images/biopython_logo_white.png\">"
   ]
  },
  {
   "cell_type": "markdown",
   "metadata": {},
   "source": [
    "\n",
    "# Introdução\n"
   ]
  },
  {
   "cell_type": "markdown",
   "metadata": {},
   "source": [
    "\n",
    "## O que é Biopython?\n"
   ]
  },
  {
   "cell_type": "markdown",
   "metadata": {},
   "source": [
    "\n",
    "O Projeto Biopython é uma associação internacional de desenvolvedores de ferramentas Python ([http://www.python.org](http://www.python.org)) disponíveis gratuitamente para realização de análises de biologia molecular computacional. Python é uma linguagem orientada a objetos, interpretada e flexível que está se tornando cada vez mais popular para a computação científica. Python é fácil de aprender, tem uma sintaxe muito clara e pode ser facilmente estendido com módulos escritos em C, C ++ ou FORTRAN.\n",
    "\n",
    "O site Biopython ([http://www.biopython.org](http://www.biopython.org)) fornece recursos online como módulos, scripts e links da web para desenvolvedores de software baseado em Python realizarem pesquisas em bioinformática. Basicamente, o objetivo do Biopython é tornar o mais fácil possível o uso do Python para bioinformática, criando módulos e classes reutilizáveis de alta qualidade. Os recursos do Biopython incluem analisadores para vários formatos de arquivo de bioinformática (BLAST, Clustalw, FASTA, Genbank, ...), acesso a serviços online (NCBI, Expasy, ...), interfaces de acesso para programas comuns e não tão comuns (Clustalw, DSSP, MSMS ...), uma classe de sequência padrão, vários módulos de agrupamento, estrutura de dados para construção de árvore e até mesmo fornece formas simplificadas de acessar a documentação.\n",
    "\n",
    "Basicamente, gostamos de programar em Python e queremos tornar o mais fácil possível o uso de Python para bioinformática criando módulos e scripts reutilizáveis de alta qualidade."
   ]
  },
  {
   "cell_type": "markdown",
   "metadata": {},
   "source": [
    "\n",
    "## O que posso encontrar no pacote Biopython\n"
   ]
  },
  {
   "cell_type": "markdown",
   "metadata": {},
   "source": [
    "Biopython possui muitas funcionalidades, incluindo:\n",
    "\n",
    "-  A capacidade de analisar arquivos de bioinformática e convertê-los em estruturas de dados utilizáveis em Python, incluindo suporte para os seguintes formatos:\n",
    " -  BLAST - tanto do standalone quanto do WWW Blast\n",
    " -  Clustalw\n",
    " -  FASTA\n",
    " -  GenBank\n",
    " -  PubMed e Medline\n",
    " -  Arquivos ExPASy, como Enzyme e Prosite\n",
    " -  SCOP, incluindo arquivos ‘dom’ e ‘lin’\n",
    " -  UniGene\n",
    " -  SwissProt\n",
    "\n",
    "- Os arquivos nos formatos suportados podem ser iterados registro por registro ou indexados e acessados por meio de uma interface de Dicionário.\n",
    "\n",
    "- Código para lidar com ferramentas web populares de bioinformática, como:\n",
    " -  NCBI - serviços Blast, Entrez e PubMed\n",
    " -  ExPASy - Swiss-Prot e Prosite, bem como pesquisas no Prosite\n",
    "\n",
    "- Interfaces para programas comuns de bioinformática, como:\n",
    " -  Blast - instalação local\n",
    " -  Programa de alinhamento Clustal\n",
    " -  Ferramentas de linha de comando EMBOSS\n",
    "\n",
    "- Apresentamos ainda uma classe de sequência padrão que lida com sequências, ids e recursos dessas sequências.\n",
    "-  Ferramentas para realizar operações comuns em sequências, como tradução, transcrição e cálculos de peso.\n",
    "-  Código para realizar a classificação de dados usando k-vizinhos mais próximos (KNN), Naive Bayes ou Support Vector Machines (SVM).\n",
    "-  Código para lidar com alinhamentos, incluindo uma maneira padrão de criar e lidar com matrizes de substituição.\n",
    "-  Código que facilita a divisão de tarefas paralelizáveis em processos separados.\n",
    "-  Programas baseados em GUI para fazer manipulações de sequência básicas, traduções, BLASTing, etc.\n",
    "-  Documentação extensa, incluindo este arquivo (traduzido em português), documentação wiki on-line, o site e uma lista de discussão.\n",
    "-  Integração com BioSQL, um esquema de banco de dados de sequência também suportado pelos projetos BioPerl e BioJava.\n",
    "\n",
    " Esperamos que isso lhe dê muitos motivos para fazer o download e começar a usar o Biopython!\n"
   ]
  },
  {
   "cell_type": "markdown",
   "metadata": {},
   "source": [
    "\n",
    "## Sobre esses notebooks\n"
   ]
  },
  {
   "cell_type": "markdown",
   "metadata": {},
   "source": [
    "\n",
    "Esses notebooks foram preparados usando Python 3 e Jupyter 4+. Para executá-los, Biopython deve estar instalado e disponível (recomendamos usar a versão 1.66 ou alguma outra mais recente).\n",
    "\n",
    "Você pode verificar se o Biopython está instalado executando o código abaixo:\n"
   ]
  },
  {
   "cell_type": "code",
   "execution_count": 3,
   "metadata": {},
   "outputs": [
    {
     "name": "stdout",
     "output_type": "stream",
     "text": [
      "1.76\n"
     ]
    }
   ],
   "source": [
    "import Bio\n",
    "print(Bio.__version__)"
   ]
  },
  {
   "cell_type": "code",
   "execution_count": null,
   "metadata": {},
   "outputs": [],
   "source": []
  },
  {
   "cell_type": "code",
   "execution_count": null,
   "metadata": {},
   "outputs": [],
   "source": []
  }
 ],
 "metadata": {
  "kernelspec": {
   "display_name": "Python 3",
   "language": "python",
   "name": "python3"
  },
  "language_info": {
   "codemirror_mode": {
    "name": "ipython",
    "version": 3
   },
   "file_extension": ".py",
   "mimetype": "text/x-python",
   "name": "python",
   "nbconvert_exporter": "python",
   "pygments_lexer": "ipython3",
   "version": "3.7.3"
  }
 },
 "nbformat": 4,
 "nbformat_minor": 1
}
