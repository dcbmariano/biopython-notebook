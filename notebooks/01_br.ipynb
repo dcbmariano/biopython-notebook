{
  "cells": [
    {
      "cell_type": "markdown",
      "metadata": {},
      "source": [
        "**Source of the materials**: Biopython Tutorial and Cookbook (adapted)"
      ]
    },
    {
      "cell_type": "markdown",
      "source": [
        "\n",
        "**Fonte dos materiais** : Tutorial e livro de receitas do Biopython (adaptado)\n"
      ],
      "metadata": {}
    },
    {
      "cell_type": "markdown",
      "metadata": {},
      "source": [
        "<img src=\"images/biopython.jpg\">"
      ]
    },
    {
      "cell_type": "markdown",
      "source": [
        "\n",
        "&lt;img src = \"images / biopython.jpg\"&gt;\n"
      ],
      "metadata": {}
    },
    {
      "cell_type": "markdown",
      "metadata": {},
      "source": [
        "# Introduction"
      ]
    },
    {
      "cell_type": "markdown",
      "source": [
        "\n",
        "# Introdução\n"
      ],
      "metadata": {}
    },
    {
      "cell_type": "markdown",
      "metadata": {},
      "source": [
        "## What is Biopython?"
      ]
    },
    {
      "cell_type": "markdown",
      "source": [
        "\n",
        "## O que é Biopython?\n"
      ],
      "metadata": {}
    },
    {
      "cell_type": "markdown",
      "metadata": {},
      "source": [
        "The Biopython Project is an international association of developers of freely available Python (http://www.python.org) tools for computational molecular biology. Python is an object oriented, interpreted, flexible language that is becoming increasingly popular for scientific computing. Python is easy to learn, has a very clear syntax and can easily be extended with modules written in C, C++ or FORTRAN.\n",
        "\n",
        "The Biopython web site (http://www.biopython.org) provides an online resource for modules, scripts, and web links for developers of Python-based software for bioinformatics use and research. Basically, the goal of Biopython is to make it as easy as possible to use Python for bioinformatics by creating high-quality, reusable modules and classes. Biopython features include parsers for various Bioinformatics file formats (BLAST, Clustalw, FASTA, Genbank,...), access to online services (NCBI, Expasy,...), interfaces to common and not-so-common programs (Clustalw, DSSP, MSMS...), a standard sequence class, various clustering modules, a KD tree data structure etc. and even documentation.\n",
        "\n",
        "Basically, we just like to program in Python and want to make it as easy as possible to use Python for bioinformatics by creating high-quality, reusable modules and scripts."
      ]
    },
    {
      "cell_type": "markdown",
      "source": [
        "\n",
        "O Projeto Biopython é uma associação internacional de desenvolvedores de ferramentas Python ( [http://www.python.org](http://www.python.org) ) disponíveis gratuitamente para biologia molecular computacional. Python é uma linguagem orientada a objetos, interpretada e flexível que está se tornando cada vez mais popular para a computação científica. Python é fácil de aprender, tem uma sintaxe muito clara e pode ser facilmente estendido com módulos escritos em C, C ++ ou FORTRAN.\n",
        "\n",
        " O site Biopython ( [http://www.biopython.org](http://www.biopython.org) ) fornece um recurso online para módulos, scripts e links da web para desenvolvedores de software baseado em Python para uso e pesquisa de bioinformática. Basicamente, o objetivo do Biopython é tornar o mais fácil possível o uso do Python para bioinformática, criando módulos e classes reutilizáveis de alta qualidade. Os recursos do Biopython incluem analisadores para vários formatos de arquivo de bioinformática (BLAST, Clustalw, FASTA, Genbank, ...), acesso a serviços online (NCBI, Expasy, ...), interfaces para programas comuns e não tão comuns (Clustalw, DSSP, MSMS ...), uma classe de sequência padrão, vários módulos de agrupamento, uma estrutura de dados em árvore KD etc. e até mesmo documentação.\n",
        "\n",
        " Basicamente, gostamos de programar em Python e queremos tornar o mais fácil possível o uso de Python para bioinformática criando módulos e scripts reutilizáveis de alta qualidade.\n"
      ],
      "metadata": {}
    },
    {
      "cell_type": "markdown",
      "metadata": {},
      "source": [
        "## What can I find in the Biopython package"
      ]
    },
    {
      "cell_type": "markdown",
      "source": [
        "\n",
        "## O que posso encontrar no pacote Biopython\n"
      ],
      "metadata": {}
    },
    {
      "cell_type": "markdown",
      "metadata": {},
      "source": [
        "The main Biopython releases have lots of functionality, including:\n",
        "\n",
        "- The ability to parse bioinformatics files into Python utilizable data structures, including support for the following formats:\n",
        "  - Blast output – both from standalone and WWW Blast\n",
        "  - Clustalw\n",
        "  - FASTA\n",
        "  - GenBank\n",
        "  - PubMed and Medline\n",
        "  - ExPASy files, like Enzyme and Prosite\n",
        "  - SCOP, including ‘dom’ and ‘lin’ files\n",
        "  - UniGene\n",
        "  - SwissProt\n",
        "- Files in the supported formats can be iterated over record by record or indexed and accessed via a Dictionary interface.\n",
        "- Code to deal with popular on-line bioinformatics destinations such as:\n",
        "  - NCBI – Blast, Entrez and PubMed services\n",
        "  - ExPASy – Swiss-Prot and Prosite entries, as well as Prosite searches\n",
        "- Interfaces to common bioinformatics programs such as:\n",
        "  - Standalone Blast from NCBI\n",
        "  - Clustalw alignment program\n",
        "  - EMBOSS command line tools\n",
        "-A standard sequence class that deals with sequences, ids on sequences, and sequence features.\n",
        "- Tools for performing common operations on sequences, such as translation, transcription and weight calculations.\n",
        "- Code to perform classification of data using k Nearest Neighbors, Naive Bayes or Support Vector Machines.\n",
        "- Code for dealing with alignments, including a standard way to create and deal with substitution matrices.\n",
        "- Code making it easy to split up parallelizable tasks into separate processes.\n",
        "- GUI-based programs to do basic sequence manipulations, translations, BLASTing, etc.\n",
        "- Extensive documentation and help with using the modules, including this file, on-line wiki documentation, the web site, and the mailing list.\n",
        "- Integration with BioSQL, a sequence database schema also supported by the BioPerl and BioJava projects.\n",
        "\n",
        "We hope this gives you plenty of reasons to download and start using Biopython!"
      ]
    },
    {
      "cell_type": "markdown",
      "source": [
        "\n",
        "Os principais lançamentos do Biopython têm muitas funcionalidades, incluindo:\n",
        "-  A capacidade de analisar arquivos de bioinformática em estruturas de dados utilizáveis em Python, incluindo suporte para os seguintes formatos:<ul><li> Saída de explosão - tanto do autônomo quanto do WWW Blast\n",
        "-  Clustalw\n",
        "-  FASTA\n",
        "-  GenBank\n",
        "-  PubMed e Medline\n",
        "-  Arquivos ExPASy, como Enzyme e Prosite\n",
        "-  SCOP, incluindo arquivos &#39;dom&#39; e &#39;lin&#39;\n",
        "-  UniGene\n",
        "-  SwissProt\n",
        "\n",
        " Os arquivos nos formatos suportados podem ser iterados registro por registro ou indexados e acessados por meio de uma interface de Dicionário.\n",
        "\n",
        " Código para lidar com destinos populares de bioinformática on-line, como:\n",
        "-  NCBI - serviços Blast, Entrez e PubMed\n",
        "-  ExPASy - entradas Swiss-Prot e Prosite, bem como pesquisas Prosite\n",
        "\n",
        " Interfaces para programas comuns de bioinformática, como:\n",
        "-  Blast autônomo do NCBI\n",
        "-  Programa de alinhamento Clustalw\n",
        "-  Ferramentas de linha de comando EMBOSS\n",
        "\n",
        " -Uma classe de sequência padrão que lida com sequências, ids em sequências e recursos de sequência.\n",
        "-  Ferramentas para realizar operações comuns em sequências, como tradução, transcrição e cálculos de peso.\n",
        "-  Código para realizar a classificação de dados usando k vizinhos mais próximos, Naive Bayes ou Support Vector Machines.\n",
        "-  Código para lidar com alinhamentos, incluindo uma maneira padrão de criar e lidar com matrizes de substituição.\n",
        "-  Código que facilita a divisão de tarefas paralelizáveis em processos separados.\n",
        "-  Programas baseados em GUI para fazer manipulações de sequência básicas, traduções, BLASTing, etc.\n",
        "-  Documentação extensa e ajuda com o uso dos módulos, incluindo este arquivo, documentação wiki on-line, o site e a lista de discussão.\n",
        "-  Integração com BioSQL, um esquema de banco de dados de sequência também suportado pelos projetos BioPerl e BioJava.\n",
        "\n",
        " Esperamos que isso lhe dê muitos motivos para fazer o download e começar a usar o Biopython!\n"
      ],
      "metadata": {}
    },
    {
      "cell_type": "markdown",
      "metadata": {},
      "source": [
        "## About these notebooks"
      ]
    },
    {
      "cell_type": "markdown",
      "source": [
        "\n",
        "## Sobre esses notebooks\n"
      ],
      "metadata": {}
    },
    {
      "cell_type": "markdown",
      "metadata": {},
      "source": [
        "These notebooks were prepared on Python 3 for Project Jupyter 4+ (formely IPython Notebook). Biopython should be installed and available (v1.66 or newer recommended).\n",
        "\n",
        "You can check the basic installation and inspect the version by doing:"
      ]
    },
    {
      "cell_type": "markdown",
      "source": [
        "\n",
        "Esses notebooks foram preparados em Python 3 para o Projeto Jupyter 4+ (anteriormente IPython Notebook). Biopython deve estar instalado e disponível (v1.66 ou mais recente recomendado).\n",
        "\n",
        " Você pode verificar a instalação básica e inspecionar a versão fazendo:\n"
      ],
      "metadata": {}
    },
    {
      "cell_type": "code",
      "execution_count": 1,
      "metadata": {},
      "outputs": [
        {
          "name": "stdout",
          "output_type": "stream",
          "text": [
            "1.66\n"
          ]
        }
      ],
      "source": [
        "import Bio\n",
        "print(Bio.__version__)"
      ]
    },
    {
      "cell_type": "code",
      "execution_count": null,
      "metadata": {},
      "outputs": [],
      "source": []
    }
  ],
  "metadata": {},
  "nbformat": 4,
  "nbformat_minor": 0
}