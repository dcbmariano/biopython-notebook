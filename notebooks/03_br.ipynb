{
  "cells": [
    {
      "cell_type": "markdown",
      "metadata": {},
      "source": [
        "**Source of the materials**: Biopython Tutorial and Cookbook (adapted)"
      ]
    },
    {
      "cell_type": "markdown",
      "source": [
        "\n",
        "**Fonte dos materiais** : Tutorial e livro de receitas do Biopython (adaptado)\n"
      ],
      "metadata": {}
    },
    {
      "cell_type": "markdown",
      "metadata": {},
      "source": [
        "# Sequence Objects"
      ]
    },
    {
      "cell_type": "markdown",
      "source": [
        "\n",
        "# Objetos de Sequência\n"
      ],
      "metadata": {}
    },
    {
      "cell_type": "markdown",
      "metadata": {},
      "source": [
        "Biological sequences are arguably the central object in Bioinformatics, and in this chapter we’ll introduce the Biopython mechanism for dealing with sequences, the Seq object. Chapter 4 will introduce the related SeqRecord object, which combines the sequence information with any annotation, used again in Chapter 5 for Sequence Input/Output.\n",
        "Sequences are essentially strings of letters like AGTACACTGGT, which seems very natural since this is the\n",
        "most common way that sequences are seen in biological file formats.\n",
        "The most important difference between Seq objects and standard Python strings is they have different methods. Although the Seq object supports many of the same methods as a plain string, its translate() method differs by doing biological translation, and there are also additional biologically relevant methods like reverse_complement().\n"
      ]
    },
    {
      "cell_type": "markdown",
      "source": [
        "\n",
        "As sequências biológicas são indiscutivelmente o objeto central em bioinformática e, neste capítulo, apresentaremos o mecanismo Biopython para lidar com sequências, o objeto Seq. O Capítulo 4 apresentará o objeto SeqRecord relacionado, que combina as informações de sequência com qualquer anotação, usado novamente no Capítulo 5 para Entrada / Saída de Sequência.\n",
        "\n",
        " As sequências são essencialmente cadeias de letras como AGTACACTGGT, o que parece muito natural, pois este é\n",
        "\n",
        " forma mais comum que as sequências são vistas em formatos de arquivo biológico.\n",
        "\n",
        " A diferença mais importante entre objetos Seq e strings Python padrão é que eles têm métodos diferentes. Embora o objeto Seq suporte muitos dos mesmos métodos de uma string simples, seu método translate () difere por fazer a tradução biológica, e também há métodos biologicamente relevantes adicionais como reverse_complement ().\n"
      ],
      "metadata": {}
    },
    {
      "cell_type": "markdown",
      "metadata": {},
      "source": [
        "## Sequences act like strings"
      ]
    },
    {
      "cell_type": "markdown",
      "source": [
        "\n",
        "## Sequências agem como strings\n"
      ],
      "metadata": {}
    },
    {
      "cell_type": "markdown",
      "metadata": {},
      "source": [
        "In many ways, we can deal with Seq objects as if they were normal Python strings, for example getting the length, or iterating over the elements:"
      ]
    },
    {
      "cell_type": "markdown",
      "source": [
        "\n",
        "De muitas maneiras, podemos lidar com objetos Seq como se fossem strings normais do Python, por exemplo, obtendo o comprimento ou iterando sobre os elementos:\n"
      ],
      "metadata": {}
    },
    {
      "cell_type": "code",
      "execution_count": 1,
      "metadata": {},
      "outputs": [
        {
          "output_type": "stream",
          "name": "stdout",
          "text": [
            "0 G\n1 A\n2 T\n3 C\n4 G\n5\n"
          ]
        }
      ],
      "source": [
        "from Bio.Seq import Seq\n",
        "my_seq = Seq(\"GATCG\")\n",
        "for index, letter in enumerate(my_seq):\n",
        "    print(\"%i %s\" % (index, letter))\n",
        "print(len(my_seq))"
      ]
    },
    {
      "cell_type": "markdown",
      "metadata": {},
      "source": [
        "You can access elements of the sequence in the same way as for strings (but remember, Python counts from zero!):"
      ]
    },
    {
      "cell_type": "markdown",
      "source": [
        "\n",
        "Você pode acessar elementos da sequência da mesma maneira que para strings (mas lembre-se, Python conta a partir de zero!):\n"
      ],
      "metadata": {}
    },
    {
      "cell_type": "code",
      "execution_count": 9,
      "metadata": {},
      "outputs": [
        {
          "name": "stdout",
          "output_type": "stream",
          "text": [
            "G\n",
            "T\n",
            "G\n"
          ]
        }
      ],
      "source": [
        "print(my_seq[0]) #first letter\n",
        "print(my_seq[2]) #third letter\n",
        "print(my_seq[-1]) #last letter"
      ]
    },
    {
      "cell_type": "markdown",
      "metadata": {},
      "source": [
        "The Seq object has a .count() method, just like a string.\n",
        "Note that this means that like a Python string, this gives a\n",
        "non-overlapping count:\n"
      ]
    },
    {
      "cell_type": "markdown",
      "source": [
        "\n",
        "O objeto Seq possui um método .count (), assim como uma string.\n",
        "\n",
        " Observe que isso significa que, como uma string Python, isso dá um\n",
        "\n",
        " contagem não sobreposta:\n"
      ],
      "metadata": {}
    },
    {
      "cell_type": "code",
      "execution_count": 2,
      "metadata": {},
      "outputs": [
        {
          "output_type": "stream",
          "name": "stdout",
          "text": [
            "2\n2\n"
          ]
        }
      ],
      "source": [
        "print(\"AAAA\".count(\"AA\"))\n",
        "print(Seq(\"AAAA\").count(\"AA\"))"
      ]
    },
    {
      "cell_type": "markdown",
      "metadata": {},
      "source": [
        "For some biological uses, you may actually want an overlapping count\n",
        "(i.e. $3$ in this trivial example). When searching for single letters, this\n",
        "makes no difference:"
      ]
    },
    {
      "cell_type": "markdown",
      "source": [
        "\n",
        "Para alguns usos biológicos, você pode realmente querer uma contagem de sobreposição\n",
        "\n",
        " (ou seja, $ 3 $ neste exemplo trivial). Ao pesquisar letras únicas, este\n",
        "\n",
        " Não faz diferença:\n"
      ],
      "metadata": {}
    },
    {
      "cell_type": "code",
      "execution_count": 3,
      "metadata": {},
      "outputs": [
        {
          "output_type": "stream",
          "name": "stdout",
          "text": [
            "32\n9\n46.875\n"
          ]
        }
      ],
      "source": [
        "my_seq = Seq('GATCGATGGGCCTATATAGGATCGAAAATCGC')\n",
        "print(len(my_seq))\n",
        "print(my_seq.count(\"G\"))\n",
        "print(100 * float(my_seq.count(\"G\") + my_seq.count(\"C\")) / len(my_seq))"
      ]
    },
    {
      "cell_type": "markdown",
      "metadata": {},
      "source": [
        "While you could use the above snippet of code to calculate a GC\\%, note that  the __Bio.SeqUtils__ module has several GC functions already built.  For example:\n"
      ]
    },
    {
      "cell_type": "markdown",
      "source": [
        "\n",
        "Embora você possa usar o trecho de código acima para calcular um GC \\%, observe que o módulo **Bio.SeqUtils** possui várias funções de GC já construídas. Por exemplo:\n"
      ],
      "metadata": {}
    },
    {
      "cell_type": "code",
      "execution_count": 5,
      "metadata": {},
      "outputs": [
        {
          "output_type": "execute_result",
          "data": {
            "text/plain": [
              "46.875"
            ]
          },
          "metadata": {},
          "execution_count": 5
        }
      ],
      "source": [
        " from Bio.SeqUtils import GC\n",
        "\n",
        "my_seq = Seq('GATCGATGGGCCTATATAGGATCGAAAATCGC')\n",
        "GC(my_seq)"
      ]
    },
    {
      "cell_type": "markdown",
      "metadata": {},
      "source": [
        "Note that using the __Bio.SeqUtils.GC()__ function should automatically cope with mixed case sequences and the ambiguous nucleotide S which means G or C.\n",
        "\n",
        "Also note that just like a normal Python string, the __Seq__ object is in some ways ``read-only''.  If you need to edit your sequence, for example simulating a point mutation, look at the Section sec:mutable-seq below which talks about the __MutableSeq__ object."
      ]
    },
    {
      "cell_type": "markdown",
      "source": [
        "\n",
        "Observe que o uso da função **Bio.SeqUtils.GC ()** deve lidar automaticamente com sequências de maiúsculas e minúsculas e o nucleotídeo S ambíguo que significa G ou C.\n",
        "\n",
        " Observe também que, assim como uma string Python normal, o objeto **Seq** é, em alguns aspectos, `` somente leitura &#39;&#39;. Se você precisar editar sua sequência, por exemplo, simulando uma mutação pontual, veja a Seção sec: mutable-seq abaixo que fala sobre o objeto **MutableSeq** .\n"
      ],
      "metadata": {}
    },
    {
      "cell_type": "markdown",
      "metadata": {},
      "source": [
        "## Slicing a sequence"
      ]
    },
    {
      "cell_type": "markdown",
      "source": [
        "\n",
        "## Cortando uma sequência\n"
      ],
      "metadata": {}
    },
    {
      "cell_type": "markdown",
      "metadata": {},
      "source": [
        "A more complicated example, let's get a slice of the sequence:"
      ]
    },
    {
      "cell_type": "markdown",
      "source": [
        "\n",
        "Um exemplo mais complicado, vamos obter uma parte da sequência:\n"
      ],
      "metadata": {}
    },
    {
      "cell_type": "code",
      "execution_count": 6,
      "metadata": {},
      "outputs": [
        {
          "output_type": "execute_result",
          "data": {
            "text/plain": [
              "Seq('GATGGGCC')"
            ]
          },
          "metadata": {},
          "execution_count": 6
        }
      ],
      "source": [
        "my_seq = Seq(\"GATCGATGGGCCTATATAGGATCGAAAATCGC\")\n",
        "my_seq[4:12]"
      ]
    },
    {
      "cell_type": "markdown",
      "metadata": {},
      "source": [
        "Note that ‘Seq‘ objects follow the usual indexing conventions for Python strings, with the first element\n",
        "of the sequence numbered 0. When you do a slice the first item is included (i.e. 4 in this case) and the last\n",
        "is excluded (12 in this case).\n",
        "\n",
        "Also like a Python string, you can do slices with a start, stop and _stride_ (the step size, which defaults to one).  For example, we can get the first, second and third codon positions of this DNA sequence:"
      ]
    },
    {
      "cell_type": "markdown",
      "source": [
        "\n",
        "Observe que os objetos &#39;Seq&#39; seguem as convenções de indexação usuais para strings Python, com o primeiro elemento\n",
        "\n",
        " da sequência numerada de 0. Quando você faz uma fatia, o primeiro item é incluído (ou seja, 4 neste caso) e o último\n",
        "\n",
        " é excluído (12 neste caso).\n",
        "\n",
        " Também como uma string Python, você pode fazer fatias com um início, uma parada e uma *passada* (o tamanho do passo, que por padrão é um). Por exemplo, podemos obter a primeira, segunda e terceira posições de códon desta sequência de DNA:\n"
      ],
      "metadata": {}
    },
    {
      "cell_type": "code",
      "execution_count": 14,
      "metadata": {},
      "outputs": [
        {
          "name": "stdout",
          "output_type": "stream",
          "text": [
            "GCTGTAGTAAG\n",
            "AGGCATGCATC\n",
            "TAGCTAAGAC\n"
          ]
        }
      ],
      "source": [
        "print(my_seq[0::3])\n",
        "print(my_seq[1::3])\n",
        "print(my_seq[2::3])"
      ]
    },
    {
      "cell_type": "markdown",
      "metadata": {},
      "source": [
        "Another stride trick you might have seen with a Python string is the use of a -1 stride to reverse the string.  You can do this with a Seq object too:\n"
      ]
    },
    {
      "cell_type": "markdown",
      "source": [
        "\n",
        "Outro truque de passada que você pode ter visto com uma string Python é o uso de uma passada -1 para inverter a string. Você também pode fazer isso com um objeto Seq:\n"
      ],
      "metadata": {}
    },
    {
      "cell_type": "code",
      "execution_count": 7,
      "metadata": {},
      "outputs": [
        {
          "output_type": "execute_result",
          "data": {
            "text/plain": [
              "Seq('CGCTAAAAGCTAGGATATATCCGGGTAGCTAG')"
            ]
          },
          "metadata": {},
          "execution_count": 7
        }
      ],
      "source": [
        "my_seq[::-1]"
      ]
    },
    {
      "cell_type": "markdown",
      "metadata": {},
      "source": [
        "## Turning Seq objects into strings"
      ]
    },
    {
      "cell_type": "markdown",
      "source": [
        "\n",
        "## Transformando objetos Seq em strings\n"
      ],
      "metadata": {}
    },
    {
      "cell_type": "markdown",
      "metadata": {},
      "source": [
        "If you really do just need a plain string, for example to write to a file, or insert into a database, then this is very easy to get:"
      ]
    },
    {
      "cell_type": "markdown",
      "source": [
        "\n",
        "Se você realmente precisa apenas de uma string simples, por exemplo, para gravar em um arquivo ou inserir em um banco de dados, isso é muito fácil de obter:\n"
      ],
      "metadata": {}
    },
    {
      "cell_type": "code",
      "execution_count": 16,
      "metadata": {},
      "outputs": [
        {
          "data": {
            "text/plain": [
              "'GATCGATGGGCCTATATAGGATCGAAAATCGC'"
            ]
          },
          "execution_count": 16,
          "metadata": {},
          "output_type": "execute_result"
        }
      ],
      "source": [
        "str(my_seq)"
      ]
    },
    {
      "cell_type": "markdown",
      "metadata": {},
      "source": [
        "Since calling str() on a Seq object returns the full sequence as a string,\n",
        "you often don't actually have to do this conversion explicitly.\n",
        "Python does this automatically in the print function:"
      ]
    },
    {
      "cell_type": "markdown",
      "source": [
        "\n",
        "Visto que chamar str () em um objeto Seq retorna a sequência completa como uma string,\n",
        "\n",
        " você geralmente não precisa fazer essa conversão explicitamente.\n",
        "\n",
        " Python faz isso automaticamente na função de impressão:\n"
      ],
      "metadata": {}
    },
    {
      "cell_type": "code",
      "execution_count": 17,
      "metadata": {},
      "outputs": [
        {
          "name": "stdout",
          "output_type": "stream",
          "text": [
            "GATCGATGGGCCTATATAGGATCGAAAATCGC\n"
          ]
        }
      ],
      "source": [
        "print(my_seq)"
      ]
    },
    {
      "cell_type": "markdown",
      "metadata": {},
      "source": [
        "You can also use the Seq object directly with a %s placeholder when using the Python string formatting or interpolation operator (%):"
      ]
    },
    {
      "cell_type": "markdown",
      "source": [
        "\n",
        "Você também pode usar o objeto Seq diretamente com um marcador de posição% s ao usar a formatação de string Python ou operador de interpolação (%):\n"
      ],
      "metadata": {}
    },
    {
      "cell_type": "code",
      "execution_count": 18,
      "metadata": {},
      "outputs": [
        {
          "name": "stdout",
          "output_type": "stream",
          "text": [
            ">Name\n",
            "GATCGATGGGCCTATATAGGATCGAAAATCGC\n",
            "\n"
          ]
        }
      ],
      "source": [
        "fasta_format_string = \">Name\\n%s\\n\" % my_seq\n",
        "print(fasta_format_string)"
      ]
    },
    {
      "cell_type": "markdown",
      "metadata": {},
      "source": [
        "This line of code constructs a simple FASTA format record (without worrying about line wrapping). Section 4.6 describes a neat way to get a FASTA formatted string from a SeqRecord object, while the more\n",
        "general topic of reading and writing FASTA format sequence files is covered in Chapter 5."
      ]
    },
    {
      "cell_type": "markdown",
      "source": [
        "\n",
        "Esta linha de código constrói um registro de formato FASTA simples (sem se preocupar com quebra de linha). A seção 4.6 descreve uma maneira simples de obter uma string formatada em FASTA de um objeto SeqRecord, enquanto mais\n",
        "\n",
        " O tópico geral de leitura e gravação de arquivos de sequência no formato FASTA é abordado no Capítulo 5.\n"
      ],
      "metadata": {}
    },
    {
      "cell_type": "markdown",
      "metadata": {},
      "source": [
        "## Concatenating or adding sequences"
      ]
    },
    {
      "cell_type": "markdown",
      "source": [
        "\n",
        "## Concatenar ou adicionar sequências\n"
      ],
      "metadata": {}
    },
    {
      "cell_type": "markdown",
      "metadata": {},
      "source": [
        "As of Biopython 1.78, you can add any two Seq objects together."
      ]
    },
    {
      "cell_type": "markdown",
      "source": [
        "\n",
        "A partir do Biopython 1.78, você pode adicionar quaisquer dois objetos Seq juntos.\n"
      ],
      "metadata": {}
    },
    {
      "cell_type": "code",
      "execution_count": 10,
      "metadata": {},
      "outputs": [
        {
          "output_type": "execute_result",
          "data": {
            "text/plain": [
              "Seq('EVRNAKACGT')"
            ]
          },
          "metadata": {},
          "execution_count": 10
        }
      ],
      "source": [
        "protein_seq = Seq(\"EVRNAK\")\n",
        "dna_seq = Seq(\"ACGT\")\n",
        "protein_seq + dna_seq\n"
      ]
    },
    {
      "cell_type": "markdown",
      "metadata": {},
      "source": [
        "Deliberately mixing DNA and protein like this is likely a mistake though...\n",
        "You may often have many sequences to add together, which can be done with a for loop like this:\n"
      ]
    },
    {
      "cell_type": "markdown",
      "source": [
        "\n",
        "Misturar DNA e proteína deliberadamente como este é provavelmente um erro ...\n",
        "\n",
        " Muitas vezes você pode ter muitas sequências para adicionar, o que pode ser feito com um loop for como este:\n"
      ],
      "metadata": {}
    },
    {
      "cell_type": "code",
      "execution_count": 14,
      "metadata": {},
      "outputs": [
        {
          "output_type": "execute_result",
          "data": {
            "text/plain": [
              "Seq('ACGTAACCGGTT')"
            ]
          },
          "metadata": {},
          "execution_count": 14
        }
      ],
      "source": [
        "from Bio.Seq import Seq\n",
        "list_of_seqs = [Seq(\"ACGT\"), Seq(\"AACC\"), Seq(\"GGTT\")]\n",
        "concatenated = Seq(\"\")\n",
        "for s in list_of_seqs:\n",
        "    concatenated += s\n",
        "concatenated\n"
      ]
    },
    {
      "source": [
        "Like Python strings, Biopython Seq also has a .join method:"
      ],
      "cell_type": "markdown",
      "metadata": {}
    },
    {
      "cell_type": "markdown",
      "source": [
        "\n",
        "Como strings Python, Biopython Seq também tem um método .join:\n"
      ],
      "metadata": {}
    },
    {
      "cell_type": "code",
      "execution_count": 15,
      "metadata": {},
      "outputs": [
        {
          "output_type": "execute_result",
          "data": {
            "text/plain": [
              "Seq('ATGNNNNNNNNNNATCCCGNNNNNNNNNNTTGCA')"
            ]
          },
          "metadata": {},
          "execution_count": 15
        }
      ],
      "source": [
        "from Bio.Seq import Seq\n",
        "contigs = [Seq(\"ATG\"), Seq(\"ATCCCG\"), Seq(\"TTGCA\")]\n",
        "spacer = Seq(\"N\"*10)\n",
        "spacer.join(contigs)\n"
      ]
    },
    {
      "cell_type": "markdown",
      "metadata": {},
      "source": [
        "## Changing case"
      ]
    },
    {
      "cell_type": "markdown",
      "source": [
        "\n",
        "## Mudança de caixa\n"
      ],
      "metadata": {}
    },
    {
      "cell_type": "markdown",
      "metadata": {},
      "source": [
        "Python strings have very useful upper and lower methods for changing the case. For example,"
      ]
    },
    {
      "cell_type": "markdown",
      "source": [
        "\n",
        "As strings Python têm métodos superiores e inferiores muito úteis para alterar a caixa. Por exemplo,\n"
      ],
      "metadata": {}
    },
    {
      "cell_type": "code",
      "execution_count": 16,
      "metadata": {},
      "outputs": [
        {
          "output_type": "stream",
          "name": "stdout",
          "text": [
            "acgtACGT\nACGTACGT\nacgtacgt\n"
          ]
        }
      ],
      "source": [
        "dna_seq = Seq(\"acgtACGT\")\n",
        "print(dna_seq)\n",
        "print(dna_seq.upper())\n",
        "print(dna_seq.lower())"
      ]
    },
    {
      "cell_type": "markdown",
      "metadata": {},
      "source": [
        "These are useful for doing case insensitive matching:"
      ]
    },
    {
      "cell_type": "markdown",
      "source": [
        "\n",
        "Eles são úteis para fazer correspondência sem distinção entre maiúsculas e minúsculas:\n"
      ],
      "metadata": {}
    },
    {
      "cell_type": "code",
      "execution_count": 17,
      "metadata": {},
      "outputs": [
        {
          "output_type": "stream",
          "name": "stdout",
          "text": [
            "False\nTrue\n"
          ]
        }
      ],
      "source": [
        "print(\"GTAC\" in dna_seq)\n",
        "print(\"GTAC\" in dna_seq.upper())"
      ]
    },
    {
      "cell_type": "markdown",
      "metadata": {},
      "source": [
        "## Nucleotide sequences and (reverse) complements"
      ]
    },
    {
      "cell_type": "markdown",
      "source": [
        "\n",
        "## Sequências de nucleotídeos e complementos (reversos)\n"
      ],
      "metadata": {}
    },
    {
      "cell_type": "markdown",
      "metadata": {},
      "source": [
        "For nucleotide sequences, you can easily obtain the complement or reverse\n",
        "complement of a Seq object using its built-in methods:"
      ]
    },
    {
      "cell_type": "markdown",
      "source": [
        "\n",
        "Para sequências de nucleotídeos, você pode obter facilmente o complemento ou\n",
        "\n",
        " complemento de um objeto Seq usando seus métodos integrados:\n"
      ],
      "metadata": {}
    },
    {
      "cell_type": "code",
      "execution_count": 19,
      "metadata": {},
      "outputs": [
        {
          "output_type": "stream",
          "name": "stdout",
          "text": [
            "GATCGATGGGCCTATATAGGATCGAAAATCGC\nCTAGCTACCCGGATATATCCTAGCTTTTAGCG\nGCGATTTTCGATCCTATATAGGCCCATCGATC\n"
          ]
        }
      ],
      "source": [
        "from Bio.Seq import Seq\n",
        "my_seq = Seq(\"GATCGATGGGCCTATATAGGATCGAAAATCGC\")\n",
        "print(my_seq)\n",
        "print(my_seq.complement())\n",
        "print(my_seq.reverse_complement())\n"
      ]
    },
    {
      "cell_type": "markdown",
      "metadata": {},
      "source": [
        "As mentioned earlier, an easy way to just reverse a Seq object (or a\n",
        "Python string) is slice it with -1 step:"
      ]
    },
    {
      "cell_type": "markdown",
      "source": [
        "\n",
        "Como mencionado anteriormente, uma maneira fácil de apenas reverter um objeto Seq (ou um\n",
        "\n",
        " String Python) é cortada com etapa -1:\n"
      ],
      "metadata": {}
    },
    {
      "cell_type": "code",
      "execution_count": 20,
      "metadata": {},
      "outputs": [
        {
          "output_type": "execute_result",
          "data": {
            "text/plain": [
              "Seq('CGCTAAAAGCTAGGATATATCCGGGTAGCTAG')"
            ]
          },
          "metadata": {},
          "execution_count": 20
        }
      ],
      "source": [
        "my_seq[::-1]"
      ]
    },
    {
      "cell_type": "markdown",
      "metadata": {},
      "source": [
        "If you do accidentally end up trying to do something weird like taking the (reverse)complement of a\n",
        "protein sequence, the results are biologically meaningless:\n"
      ]
    },
    {
      "cell_type": "markdown",
      "source": [
        "\n",
        "Se você acidentalmente acabar tentando fazer algo estranho como pegar o complemento (reverso) de um\n",
        "\n",
        " sequência de proteínas, os resultados são biologicamente insignificantes:\n"
      ],
      "metadata": {}
    },
    {
      "cell_type": "code",
      "execution_count": 22,
      "metadata": {},
      "outputs": [
        {
          "output_type": "execute_result",
          "data": {
            "text/plain": [
              "Seq('EBYNTM')"
            ]
          },
          "metadata": {},
          "execution_count": 22
        }
      ],
      "source": [
        "from Bio.Seq import Seq\n",
        "protein_seq = Seq(\"EVRNAK\")\n",
        "protein_seq.complement()\n"
      ]
    },
    {
      "source": [
        "Here the letter “E” is not a valid IUPAC ambiguity code for nucleotides, so was not complemented.\n",
        "However, “V” means “A”, “C” or “G” and has complement “B“, and so on.\n",
        "The example in Section 5.5.3 combines the Seq object’s reverse complement method with Bio.SeqIO for sequence input/output."
      ],
      "cell_type": "markdown",
      "metadata": {}
    },
    {
      "cell_type": "markdown",
      "source": [
        "\n",
        "Aqui, a letra “E” não é um código de ambigüidade IUPAC válido para nucleotídeos, portanto não foi complementada.\n",
        "\n",
        " No entanto, “V” significa “A”, “C” ou “G” e tem complemento “B“, e assim por diante.\n",
        "\n",
        " O exemplo na Seção 5.5.3 combina o método de complemento reverso do objeto Seq com Bio.SeqIO para entrada / saída de sequência.\n"
      ],
      "metadata": {}
    },
    {
      "cell_type": "markdown",
      "metadata": {},
      "source": [
        "## Transcription"
      ]
    },
    {
      "cell_type": "markdown",
      "source": [
        "\n",
        "## Transcrição\n"
      ],
      "metadata": {}
    },
    {
      "cell_type": "markdown",
      "metadata": {},
      "source": [
        "Before talking about transcription, I want to try and clarify the strand issue.\n",
        "Consider the following (made up) stretch of double stranded DNA which\n",
        "encodes a short peptide:"
      ]
    },
    {
      "cell_type": "markdown",
      "source": [
        "\n",
        "Antes de falar sobre a transcrição, quero tentar esclarecer a questão da fita.\n",
        "\n",
        " Considere o seguinte trecho (composto) de DNA de fita dupla que\n",
        "\n",
        " codifica um peptídeo curto:\n"
      ],
      "metadata": {}
    },
    {
      "cell_type": "markdown",
      "metadata": {},
      "source": [
        "\n",
        "|    | DNA coding strand (Crick strand, strand +1)    |    |\n",
        "| -- | ---------------------------------------------- | -- |\n",
        "| 5' | ATGGCCATTGTAATGGGCCGCTGAAAGGGTGCCCGATAG        | 3' |\n",
        "| 3' | TACCGGTAACATTACCCGGCGACTTTCCCACGGGCTATC        | 5' |\n",
        "|    | DNA template strand (Watson strand, strand -1) |    |\n",
        "|    |           __Transcription__                    |    |\n",
        "| 5' | AUGGCCAUUGUAAUGGGCCGCUGAAAGGGUGCCCGAUAG}       | 3' |\n",
        "|    | Single stranded messenger RNA                  |    |\n"
      ]
    },
    {
      "cell_type": "markdown",
      "source": [
        "\n",
        "| | Cadeia de codificação de DNA (cadeia de Crick, cadeia +1) | |\n",
        "\n",
        " | - | ---------------------------------------------- | - |\n",
        "\n",
        " | 5 &#39;| ATGGCCATTGTAATGGGCCGCTGAAAGGGTGCCCGATAG | 3 &#39;|\n",
        "\n",
        " | 3 &#39;| TACCGGTAACATTACCCGGCGACTTTCCCACGGGCTATC | 5 &#39;|\n",
        "\n",
        " | | Fita modelo de DNA (fita Watson, fita -1) | |\n",
        "\n",
        " | | **Transcrição** | |\n",
        "\n",
        " | 5 &#39;| AUGGCCAUUGUAAUGGGCCGCUGAAAGGGUGCCCGAUAG} | 3 &#39;|\n",
        "\n",
        " | | RNA mensageiro de fita simples | |\n"
      ],
      "metadata": {}
    },
    {
      "cell_type": "markdown",
      "metadata": {},
      "source": [
        "The actual biological transcription process works from the template strand, doing a reverse complement (TCAG -> CUGA) to give the mRNA.  However, in Biopython and bioinformatics in general, we typically work directly with the coding strand because this means we can get the mRNA sequence just by switching T -> U.\n",
        "\n",
        "Now let's actually get down to doing a transcription in Biopython.  First, let's create Seq objects for the coding and template DNA strands:"
      ]
    },
    {
      "cell_type": "markdown",
      "source": [
        "\n",
        "O processo de transcrição biológica real funciona a partir da fita modelo, fazendo um complemento reverso (TCAG -&gt; CUGA) para dar o mRNA. No entanto, no Biopython e na bioinformática em geral, normalmente trabalhamos diretamente com a fita de codificação porque isso significa que podemos obter a sequência de mRNA apenas trocando T -&gt; U.\n",
        "\n",
        " Agora vamos começar a fazer uma transcrição no Biopython. Primeiro, vamos criar objetos Seq para as fitas de DNA de codificação e modelo:\n"
      ],
      "metadata": {}
    },
    {
      "cell_type": "code",
      "execution_count": 23,
      "metadata": {},
      "outputs": [
        {
          "output_type": "stream",
          "name": "stdout",
          "text": [
            "ATGGCCATTGTAATGGGCCGCTGAAAGGGTGCCCGATAG\nCTATCGGGCACCCTTTCAGCGGCCCATTACAATGGCCAT\n"
          ]
        }
      ],
      "source": [
        "coding_dna = Seq(\"ATGGCCATTGTAATGGGCCGCTGAAAGGGTGCCCGATAG\")\n",
        "print(coding_dna)\n",
        "template_dna = coding_dna.reverse_complement()\n",
        "print(template_dna)"
      ]
    },
    {
      "cell_type": "markdown",
      "metadata": {},
      "source": [
        "These should match the figure above - remember by convention nucleotide sequences are normally read from the 5' to 3' direction, while in the figure the template strand is shown reversed.\n",
        "\n",
        "Now let's transcribe the coding strand into the corresponding mRNA, using the Seq object's built in transcribe method:"
      ]
    },
    {
      "cell_type": "markdown",
      "source": [
        "\n",
        "Estes devem corresponder à figura acima - lembre-se, por convenção, as sequências de nucleotídeos são normalmente lidas na direção 5 &#39;para 3&#39;, enquanto na figura a fita modelo é mostrada invertida.\n",
        "\n",
        " Agora vamos transcrever a fita de codificação no mRNA correspondente, usando o método de transcrição integrado do objeto Seq:\n"
      ],
      "metadata": {}
    },
    {
      "cell_type": "code",
      "execution_count": 24,
      "metadata": {},
      "outputs": [
        {
          "output_type": "execute_result",
          "data": {
            "text/plain": [
              "Seq('AUGGCCAUUGUAAUGGGCCGCUGAAAGGGUGCCCGAUAG')"
            ]
          },
          "metadata": {},
          "execution_count": 24
        }
      ],
      "source": [
        "messenger_rna = coding_dna.transcribe()\n",
        "messenger_rna"
      ]
    },
    {
      "cell_type": "markdown",
      "metadata": {},
      "source": [
        "As you can see, all this does is switch T $\\rightarrow$ U.\n",
        "\n",
        "If you do want to do a true biological transcription starting with the template strand, then this becomes a two-step process:"
      ]
    },
    {
      "cell_type": "markdown",
      "source": [
        "\n",
        "Como você pode ver, tudo o que isso faz é trocar T $ \\ rightarrow $ U.\n",
        "\n",
        " Se você quiser fazer uma verdadeira transcrição biológica começando com a fita modelo, isso se torna um processo de duas etapas:\n"
      ],
      "metadata": {}
    },
    {
      "cell_type": "code",
      "execution_count": 68,
      "metadata": {},
      "outputs": [
        {
          "output_type": "execute_result",
          "data": {
            "text/plain": [
              "Seq('AUGGCCAUUGUAAUGGGCCGCUGAAAGGGUGCCCGAUAG')"
            ]
          },
          "metadata": {},
          "execution_count": 68
        }
      ],
      "source": [
        "template_dna.reverse_complement().transcribe()"
      ]
    },
    {
      "cell_type": "markdown",
      "metadata": {},
      "source": [
        "The Seq object also includes a back-transcription method for going from the mRNA to the coding strand of the DNA.  Again, this is a simple U $\\rightarrow$ T substitution:"
      ]
    },
    {
      "cell_type": "markdown",
      "source": [
        "\n",
        "O objeto Seq também inclui um método de retrotranscrição para ir do mRNA para a fita codificadora do DNA. Novamente, esta é uma substituição simples U $ \\ rightarrow $ T:\n"
      ],
      "metadata": {}
    },
    {
      "cell_type": "code",
      "execution_count": 25,
      "metadata": {},
      "outputs": [
        {
          "output_type": "execute_result",
          "data": {
            "text/plain": [
              "Seq('ATGGCCATTGTAATGGGCCGCTGAAAGGGTGCCCGATAG')"
            ]
          },
          "metadata": {},
          "execution_count": 25
        }
      ],
      "source": [
        "messenger_rna.back_transcribe()"
      ]
    },
    {
      "cell_type": "markdown",
      "metadata": {},
      "source": [
        "## Translation"
      ]
    },
    {
      "cell_type": "markdown",
      "source": [
        "\n",
        "## Tradução\n"
      ],
      "metadata": {}
    },
    {
      "cell_type": "markdown",
      "metadata": {},
      "source": [
        "Sticking with the same example discussed in the transcription section above,\n",
        "now let's translate this mRNA into the corresponding protein sequence - again taking\n",
        "advantage of one of the Seq object's biological methods:"
      ]
    },
    {
      "cell_type": "markdown",
      "source": [
        "\n",
        "Seguindo o mesmo exemplo discutido na seção de transcrição acima,\n",
        "\n",
        " agora vamos traduzir este mRNA na sequência de proteína correspondente - novamente tomando\n",
        "\n",
        " vantagem de um dos métodos biológicos do objeto Seq:\n"
      ],
      "metadata": {}
    },
    {
      "cell_type": "code",
      "execution_count": 26,
      "metadata": {},
      "outputs": [
        {
          "output_type": "execute_result",
          "data": {
            "text/plain": [
              "Seq('MAIVMGR*KGAR*')"
            ]
          },
          "metadata": {},
          "execution_count": 26
        }
      ],
      "source": [
        "messenger_rna.translate()"
      ]
    },
    {
      "cell_type": "markdown",
      "metadata": {},
      "source": [
        "You can also translate directly from the coding strand DNA sequence:"
      ]
    },
    {
      "cell_type": "markdown",
      "source": [
        "\n",
        "Você também pode traduzir diretamente da sequência de DNA da fita codificadora:\n"
      ],
      "metadata": {}
    },
    {
      "cell_type": "code",
      "execution_count": 27,
      "metadata": {},
      "outputs": [
        {
          "output_type": "execute_result",
          "data": {
            "text/plain": [
              "Seq('MAIVMGR*KGAR*')"
            ]
          },
          "metadata": {},
          "execution_count": 27
        }
      ],
      "source": [
        "coding_dna.translate()"
      ]
    },
    {
      "cell_type": "markdown",
      "metadata": {},
      "source": [
        "You should notice in the above protein sequences that in addition to the end stop character, there is an internal stop as well.  This was a deliberate choice of example, as it gives an excuse to talk about some optional arguments, including different translation tables (Genetic Codes).\n",
        "\n",
        "The translation tables available in Biopython are based on those from the NCBI (see the next section of this tutorial). By default, translation will use the standard genetic code (NCBI table id 1). Suppose we are dealing with a mitochondrial sequence. We need to tell the translation function to use the relevant genetic code instead:"
      ]
    },
    {
      "cell_type": "markdown",
      "source": [
        "\n",
        "Você deve observar nas sequências de proteínas acima que, além do caractere de parada final, há também uma parada interna. Esta foi uma escolha deliberada de exemplo, pois dá uma desculpa para falar sobre alguns argumentos opcionais, incluindo diferentes tabelas de tradução (Códigos Genéticos).\n",
        "\n",
        " As tabelas de tradução disponíveis no Biopython são baseadas naquelas do NCBI (consulte a próxima seção deste tutorial). Por padrão, a tradução usará o código genético padrão (tabela ID 1 do NCBI). Suponha que estamos lidando com uma sequência mitocondrial. Precisamos dizer à função de tradução para usar o código genético relevante:\n"
      ],
      "metadata": {}
    },
    {
      "cell_type": "code",
      "execution_count": 28,
      "metadata": {},
      "outputs": [
        {
          "output_type": "execute_result",
          "data": {
            "text/plain": [
              "Seq('MAIVMGRWKGAR*')"
            ]
          },
          "metadata": {},
          "execution_count": 28
        }
      ],
      "source": [
        "coding_dna.translate(table=\"Vertebrate Mitochondrial\")"
      ]
    },
    {
      "cell_type": "markdown",
      "metadata": {},
      "source": [
        "You can also specify the table using the NCBI table number which is shorter, and often included in the feature annotation of GenBank files:\n"
      ]
    },
    {
      "cell_type": "markdown",
      "source": [
        "\n",
        "Você também pode especificar a tabela usando o número da tabela NCBI, que é mais curto e frequentemente incluído na anotação de recurso dos arquivos GenBank:\n"
      ],
      "metadata": {}
    },
    {
      "cell_type": "code",
      "execution_count": 29,
      "metadata": {},
      "outputs": [
        {
          "output_type": "execute_result",
          "data": {
            "text/plain": [
              "Seq('MAIVMGRWKGAR*')"
            ]
          },
          "metadata": {},
          "execution_count": 29
        }
      ],
      "source": [
        "coding_dna.translate(table=2)"
      ]
    },
    {
      "cell_type": "markdown",
      "metadata": {},
      "source": [
        "Now, you may want to translate the nucleotides up to the first in frame stop codon,\n",
        "and then stop (as happens in nature):"
      ]
    },
    {
      "cell_type": "markdown",
      "source": [
        "\n",
        "Agora, você pode querer traduzir os nucleotídeos até o primeiro códon de parada do quadro,\n",
        "\n",
        " e então pare (como acontece na natureza):\n"
      ],
      "metadata": {}
    },
    {
      "cell_type": "code",
      "execution_count": 30,
      "metadata": {},
      "outputs": [
        {
          "output_type": "execute_result",
          "data": {
            "text/plain": [
              "Seq('MAIVMGR*KGAR*')"
            ]
          },
          "metadata": {},
          "execution_count": 30
        }
      ],
      "source": [
        "coding_dna.translate()"
      ]
    },
    {
      "cell_type": "code",
      "execution_count": 31,
      "metadata": {},
      "outputs": [
        {
          "output_type": "execute_result",
          "data": {
            "text/plain": [
              "Seq('MAIVMGR')"
            ]
          },
          "metadata": {},
          "execution_count": 31
        }
      ],
      "source": [
        "coding_dna.translate(to_stop=True)"
      ]
    },
    {
      "cell_type": "code",
      "execution_count": 32,
      "metadata": {},
      "outputs": [
        {
          "output_type": "execute_result",
          "data": {
            "text/plain": [
              "Seq('MAIVMGRWKGAR*')"
            ]
          },
          "metadata": {},
          "execution_count": 32
        }
      ],
      "source": [
        "coding_dna.translate(table=2)"
      ]
    },
    {
      "cell_type": "code",
      "execution_count": 33,
      "metadata": {},
      "outputs": [
        {
          "output_type": "execute_result",
          "data": {
            "text/plain": [
              "Seq('MAIVMGRWKGAR')"
            ]
          },
          "metadata": {},
          "execution_count": 33
        }
      ],
      "source": [
        "coding_dna.translate(table=2, to_stop=True)"
      ]
    },
    {
      "cell_type": "markdown",
      "metadata": {},
      "source": [
        "Notice that when you use the to_stop argument, the stop codon itself\n",
        "is not translated - and the stop symbol is not included at the end of your protein\n",
        "sequence.\n",
        "\n",
        "You can even specify the stop symbol if you don't like the default asterisk:"
      ]
    },
    {
      "cell_type": "markdown",
      "source": [
        "\n",
        "Observe que quando você usa o argumento to_stop, o próprio códon de parada\n",
        "\n",
        " não é traduzido - e o símbolo de parada não está incluído no final de sua proteína\n",
        "\n",
        " seqüência.\n",
        "\n",
        " Você pode até especificar o símbolo de parada se não gostar do asterisco padrão:\n"
      ],
      "metadata": {}
    },
    {
      "cell_type": "code",
      "execution_count": 34,
      "metadata": {},
      "outputs": [
        {
          "output_type": "execute_result",
          "data": {
            "text/plain": [
              "Seq('MAIVMGRWKGAR@')"
            ]
          },
          "metadata": {},
          "execution_count": 34
        }
      ],
      "source": [
        "coding_dna.translate(table=2, stop_symbol=\"@\")"
      ]
    },
    {
      "cell_type": "markdown",
      "metadata": {},
      "source": [
        "Now, suppose you have a complete coding sequence CDS, which is to say a\n",
        "nucleotide sequence (e.g. mRNA -- after any splicing) which is a whole number\n",
        "of codons (i.e. the length is a multiple of three), commences with a start\n",
        "codon, ends with a stop codon, and has no internal in-frame stop codons.\n",
        "In general, given a complete CDS, the default translate method will do what\n",
        "you want (perhaps with the to_stop option). However, what if your\n",
        "sequence uses a non-standard start codon? This happens a lot in bacteria --\n",
        "for example the gene yaaX in *E. coli* K12:"
      ]
    },
    {
      "cell_type": "markdown",
      "source": [
        "\n",
        "Agora, suponha que você tenha um CDS de sequência de codificação completa, o que significa um\n",
        "\n",
        " sequência de nucleotídeos (por exemplo, mRNA - após qualquer splicing) que é um número inteiro\n",
        "\n",
        " de códons (ou seja, o comprimento é um múltiplo de três), começa com um início\n",
        "\n",
        " códon, termina com um códon de parada e não tem códons de parada internos no quadro.\n",
        "\n",
        " Em geral, dado um CDS completo, o método de tradução padrão fará o que\n",
        "\n",
        " você deseja (talvez com a opção to_stop). No entanto, e se o seu\n",
        "\n",
        " sequência usa um códon de início não padrão? Isso acontece muito em bactérias -\n",
        "\n",
        " por exemplo, o gene yaaX em *E. coli* K12:\n"
      ],
      "metadata": {}
    },
    {
      "cell_type": "code",
      "execution_count": 35,
      "metadata": {},
      "outputs": [
        {
          "output_type": "execute_result",
          "data": {
            "text/plain": [
              "Seq('VKKMQSIVLALSLVLVAPMAAQAAEITLVPSVKLQIGDRDNRGYYWDGGHWRDH...HR*')"
            ]
          },
          "metadata": {},
          "execution_count": 35
        }
      ],
      "source": [
        "gene = Seq(\"GTGAAAAAGATGCAATCTATCGTACTCGCACTTTCCCTGGTTCTGGTCGCTCCCATGGCA\" +\n",
        "           \"GCACAGGCTGCGGAAATTACGTTAGTCCCGTCAGTAAAATTACAGATAGGCGATCGTGAT\" + \n",
        "           \"AATCGTGGCTATTACTGGGATGGAGGTCACTGGCGCGACCACGGCTGGTGGAAACAACAT\" + \n",
        "           \"TATGAATGGCGAGGCAATCGCTGGCACCTACACGGACCGCCGCCACCGCCGCGCCACCAT\" + \n",
        "           \"AAGAAAGCTCCTCATGATCATCACGGCGGTCATGGTCCAGGCAAACATCACCGCTAA\")\n",
        "gene.translate(table=\"Bacterial\")"
      ]
    },
    {
      "cell_type": "code",
      "execution_count": 36,
      "metadata": {},
      "outputs": [
        {
          "output_type": "execute_result",
          "data": {
            "text/plain": [
              "Seq('VKKMQSIVLALSLVLVAPMAAQAAEITLVPSVKLQIGDRDNRGYYWDGGHWRDH...HHR')"
            ]
          },
          "metadata": {},
          "execution_count": 36
        }
      ],
      "source": [
        "gene.translate(table=\"Bacterial\", to_stop=True)"
      ]
    },
    {
      "cell_type": "markdown",
      "metadata": {},
      "source": [
        "In the bacterial genetic code GTG is a valid start codon,\n",
        "and while it does *normally* encode Valine, if used as a start codon it\n",
        "should be translated as methionine. This happens if you tell Biopython your\n",
        "sequence is a complete CDS:"
      ]
    },
    {
      "cell_type": "markdown",
      "source": [
        "\n",
        "No código genético bacteriano, GTG é um códon de início válido,\n",
        "\n",
        " e embora ele *normalmente* codifique Valina, se usado como um códon inicial,\n",
        "\n",
        " deve ser traduzido como metionina. Isso acontece se você disser ao Biopython seu\n",
        "\n",
        " sequência é um CDS completo:\n"
      ],
      "metadata": {}
    },
    {
      "cell_type": "code",
      "execution_count": 37,
      "metadata": {},
      "outputs": [
        {
          "output_type": "execute_result",
          "data": {
            "text/plain": [
              "Seq('MKKMQSIVLALSLVLVAPMAAQAAEITLVPSVKLQIGDRDNRGYYWDGGHWRDH...HHR')"
            ]
          },
          "metadata": {},
          "execution_count": 37
        }
      ],
      "source": [
        "gene.translate(table=\"Bacterial\", cds=True)"
      ]
    },
    {
      "cell_type": "markdown",
      "metadata": {},
      "source": [
        "In addition to telling Biopython to translate an alternative start codon as\n",
        "methionine, using this option also makes sure your sequence really is a valid\n",
        "CDS (you'll get an exception if not)."
      ]
    },
    {
      "cell_type": "markdown",
      "source": [
        "\n",
        "Além de dizer ao Biopython para traduzir um códon de início alternativo como\n",
        "\n",
        " metionina, usar esta opção também garante que sua sequência é realmente válida\n",
        "\n",
        " CDS (você terá uma exceção se não).\n"
      ],
      "metadata": {}
    },
    {
      "cell_type": "markdown",
      "metadata": {},
      "source": [
        "## Translation Tables"
      ]
    },
    {
      "cell_type": "markdown",
      "source": [
        "\n",
        "## Tabelas de tradução\n"
      ],
      "metadata": {}
    },
    {
      "cell_type": "markdown",
      "metadata": {},
      "source": [
        "In the previous sections we talked about the Seq object translation method (and mentioned the equivalent function in the Bio.Seq module – see Section 3.13). Internally these use codon table objects derived from the NCBI information at ftp://ftp.ncbi.nlm.nih.gov/entrez/misc/data/gc.prt, also shown on https://www.ncbi.nlm.nih.gov/Taxonomy/Utils/wprintgc.cgi in a much more readable layout.\n",
        "As before, let’s just focus on two choices: the Standard translation table, and the translation table for Vertebrate Mitochondrial DNA.\n"
      ]
    },
    {
      "cell_type": "markdown",
      "source": [
        "\n",
        "Nas seções anteriores, falamos sobre o método de tradução de objeto Seq (e mencionamos a função equivalente no módulo Bio.Seq - consulte a Seção 3.13). Internamente, eles usam objetos de tabela de códons derivados das informações do NCBI em ftp://ftp.ncbi.nlm.nih.gov/entrez/misc/data/gc.prt, também mostrado em [https: //www.ncbi.nlm.nih .gov / Taxonomy / Utils / wprintgc.cgi](https://www.ncbi.nlm.nih.gov/Taxonomy/Utils/wprintgc.cgi) em um layout muito mais legível.\n",
        "\n",
        " Como antes, vamos nos concentrar em duas opções: a tabela de tradução padrão e a tabela de tradução para DNA mitocondrial de vertebrados.\n"
      ],
      "metadata": {}
    },
    {
      "cell_type": "code",
      "execution_count": 40,
      "metadata": {},
      "outputs": [],
      "source": [
        "from Bio.Data import CodonTable\n",
        "standard_table = CodonTable.unambiguous_dna_by_name[\"Standard\"]\n",
        "mito_table = CodonTable.unambiguous_dna_by_name[\"Vertebrate Mitochondrial\"]"
      ]
    },
    {
      "cell_type": "markdown",
      "metadata": {},
      "source": [
        "Alternatively, these tables are labeled with ID numbers 1 and 2, respectively:"
      ]
    },
    {
      "cell_type": "markdown",
      "source": [
        "\n",
        "Como alternativa, essas tabelas são rotuladas com os números de ID 1 e 2, respectivamente:\n"
      ],
      "metadata": {}
    },
    {
      "cell_type": "code",
      "execution_count": 45,
      "metadata": {},
      "outputs": [],
      "source": [
        "standard_table = CodonTable.unambiguous_dna_by_id[1]\n",
        "mito_table = CodonTable.unambiguous_dna_by_id[2]"
      ]
    },
    {
      "cell_type": "markdown",
      "metadata": {},
      "source": [
        "You can compare the actual tables visually by printing them:"
      ]
    },
    {
      "cell_type": "markdown",
      "source": [
        "\n",
        "Você pode comparar as tabelas reais visualmente imprimindo-as:\n"
      ],
      "metadata": {}
    },
    {
      "cell_type": "code",
      "execution_count": 46,
      "metadata": {},
      "outputs": [
        {
          "output_type": "stream",
          "name": "stdout",
          "text": [
            "Table 1 Standard, SGC0\n\n  |  T      |  C      |  A      |  G      |\n--+---------+---------+---------+---------+--\nT | TTT F   | TCT S   | TAT Y   | TGT C   | T\nT | TTC F   | TCC S   | TAC Y   | TGC C   | C\nT | TTA L   | TCA S   | TAA Stop| TGA Stop| A\nT | TTG L(s)| TCG S   | TAG Stop| TGG W   | G\n--+---------+---------+---------+---------+--\nC | CTT L   | CCT P   | CAT H   | CGT R   | T\nC | CTC L   | CCC P   | CAC H   | CGC R   | C\nC | CTA L   | CCA P   | CAA Q   | CGA R   | A\nC | CTG L(s)| CCG P   | CAG Q   | CGG R   | G\n--+---------+---------+---------+---------+--\nA | ATT I   | ACT T   | AAT N   | AGT S   | T\nA | ATC I   | ACC T   | AAC N   | AGC S   | C\nA | ATA I   | ACA T   | AAA K   | AGA R   | A\nA | ATG M(s)| ACG T   | AAG K   | AGG R   | G\n--+---------+---------+---------+---------+--\nG | GTT V   | GCT A   | GAT D   | GGT G   | T\nG | GTC V   | GCC A   | GAC D   | GGC G   | C\nG | GTA V   | GCA A   | GAA E   | GGA G   | A\nG | GTG V   | GCG A   | GAG E   | GGG G   | G\n--+---------+---------+---------+---------+--\n"
          ]
        }
      ],
      "source": [
        "print(standard_table)"
      ]
    },
    {
      "cell_type": "code",
      "execution_count": 53,
      "metadata": {},
      "outputs": [
        {
          "name": "stdout",
          "output_type": "stream",
          "text": [
            "Table 2 Vertebrate Mitochondrial, SGC1\n",
            "\n",
            "  |  T      |  C      |  A      |  G      |\n",
            "--+---------+---------+---------+---------+--\n",
            "T | TTT F   | TCT S   | TAT Y   | TGT C   | T\n",
            "T | TTC F   | TCC S   | TAC Y   | TGC C   | C\n",
            "T | TTA L   | TCA S   | TAA Stop| TGA W   | A\n",
            "T | TTG L   | TCG S   | TAG Stop| TGG W   | G\n",
            "--+---------+---------+---------+---------+--\n",
            "C | CTT L   | CCT P   | CAT H   | CGT R   | T\n",
            "C | CTC L   | CCC P   | CAC H   | CGC R   | C\n",
            "C | CTA L   | CCA P   | CAA Q   | CGA R   | A\n",
            "C | CTG L   | CCG P   | CAG Q   | CGG R   | G\n",
            "--+---------+---------+---------+---------+--\n",
            "A | ATT I(s)| ACT T   | AAT N   | AGT S   | T\n",
            "A | ATC I(s)| ACC T   | AAC N   | AGC S   | C\n",
            "A | ATA M(s)| ACA T   | AAA K   | AGA Stop| A\n",
            "A | ATG M(s)| ACG T   | AAG K   | AGG Stop| G\n",
            "--+---------+---------+---------+---------+--\n",
            "G | GTT V   | GCT A   | GAT D   | GGT G   | T\n",
            "G | GTC V   | GCC A   | GAC D   | GGC G   | C\n",
            "G | GTA V   | GCA A   | GAA E   | GGA G   | A\n",
            "G | GTG V(s)| GCG A   | GAG E   | GGG G   | G\n",
            "--+---------+---------+---------+---------+--\n"
          ]
        }
      ],
      "source": [
        "print(mito_table)"
      ]
    },
    {
      "cell_type": "markdown",
      "metadata": {},
      "source": [
        "You may find these following properties useful -- for example if you are trying\n",
        "to do your own gene finding:"
      ]
    },
    {
      "cell_type": "markdown",
      "source": [
        "\n",
        "Você pode achar as seguintes propriedades úteis - por exemplo, se estiver tentando\n",
        "\n",
        " para fazer sua própria descoberta de genes:\n"
      ],
      "metadata": {}
    },
    {
      "cell_type": "code",
      "execution_count": 54,
      "metadata": {},
      "outputs": [
        {
          "name": "stdout",
          "output_type": "stream",
          "text": [
            "['TAA', 'TAG', 'AGA', 'AGG']\n",
            "['ATT', 'ATC', 'ATA', 'ATG', 'GTG']\n",
            "T\n"
          ]
        }
      ],
      "source": [
        "print(mito_table.stop_codons)\n",
        "print(mito_table.start_codons)\n",
        "print(mito_table.forward_table[\"ACG\"])"
      ]
    },
    {
      "cell_type": "markdown",
      "metadata": {},
      "source": [
        "## Comparing Seq objects"
      ]
    },
    {
      "cell_type": "markdown",
      "source": [
        "\n",
        "## Comparando objetos Seq\n"
      ],
      "metadata": {}
    },
    {
      "cell_type": "markdown",
      "metadata": {},
      "source": [
        "Sequence comparison is actually a very complicated topic, and there is no easy way to decide if two sequences\n",
        "are equal. The basic problem is the meaning of the letters in a sequence are context dependent - the letter\n",
        "“A” could be part of a DNA, RNA or protein sequence. Biopython can track the molecule type, so comparing\n",
        "two Seq objects could mean considering this too.\n",
        "Should a DNA fragment “ACG” and an RNA fragment “ACG” be equal? What about the peptide\n",
        "“ACG“? Or the Python string “ACG“? In everyday use, your sequences will generally all be the same type\n",
        "of (all DNA, all RNA, or all protein). Well, as of Biopython 1.65, sequence comparison only looks at the\n",
        "sequence and compares like the Python string."
      ]
    },
    {
      "cell_type": "markdown",
      "source": [
        "\n",
        "A comparação de sequências é, na verdade, um tópico muito complicado e não há maneira fácil de decidir se duas sequências\n",
        "\n",
        " são iguais. O problema básico é que o significado das letras em uma sequência depende do contexto - a letra\n",
        "\n",
        " “A” pode ser parte de uma sequência de DNA, RNA ou proteína. Biopython pode rastrear o tipo de molécula, portanto, comparar\n",
        "\n",
        " dois objetos Seq podem significar considerar isso também.\n",
        "\n",
        " Um fragmento de DNA “ACG” e um fragmento de RNA “ACG” devem ser iguais? E quanto ao peptídeo\n",
        "\n",
        " “ACG“? Ou a string Python “ACG“? No uso diário, suas sequências geralmente serão do mesmo tipo\n",
        "\n",
        " de (todo DNA, todo RNA ou toda proteína). Bem, a partir do Biopython 1.65, a comparação de sequência apenas olha para o\n",
        "\n",
        " seqüência e compara como a string Python.\n"
      ],
      "metadata": {}
    },
    {
      "cell_type": "code",
      "execution_count": 51,
      "metadata": {},
      "outputs": [],
      "source": [
        "from Bio.Seq import Seq\n",
        "seq1 = Seq(\"ACGT\")\n",
        "seq2 = Seq(\"ACGT\")\n",
        "\n"
      ]
    },
    {
      "cell_type": "markdown",
      "metadata": {},
      "source": [
        "So, what does Biopython do? Well, the equality test is the default for Python\n",
        "objects -- it tests to see if they are the same object in memory. This is a\n",
        "very strict test:"
      ]
    },
    {
      "cell_type": "markdown",
      "source": [
        "\n",
        "Então, o que Biopython faz? Bem, o teste de igualdade é o padrão para Python\n",
        "\n",
        " objetos - testa para ver se são o mesmo objeto na memória. Isto é um\n",
        "\n",
        " teste muito rigoroso:\n"
      ],
      "metadata": {}
    },
    {
      "cell_type": "code",
      "execution_count": 56,
      "metadata": {},
      "outputs": [
        {
          "name": "stdout",
          "output_type": "stream",
          "text": [
            "True\n",
            "True\n"
          ]
        }
      ],
      "source": [
        "print(seq1 == seq2)\n",
        "print(seq1 == seq1)"
      ]
    },
    {
      "cell_type": "markdown",
      "metadata": {},
      "source": [
        "As an extension to this, while you can use a Python dictionary with\n",
        "__Seq__ objects as keys, it is generally more useful to use the sequence a\n",
        "string for the key."
      ]
    },
    {
      "cell_type": "markdown",
      "source": [
        "\n",
        "Como uma extensão disso, embora você possa usar um dicionário Python com\n",
        "\n",
        " Objetos **Seq** como chaves, geralmente é mais útil usar a sequência a\n",
        "\n",
        " string para a chave.\n"
      ],
      "metadata": {}
    },
    {
      "cell_type": "markdown",
      "metadata": {},
      "source": [
        "## MutableSeq Objects"
      ]
    },
    {
      "cell_type": "markdown",
      "source": [
        "\n",
        "## Objetos MutableSeq\n"
      ],
      "metadata": {}
    },
    {
      "cell_type": "markdown",
      "metadata": {},
      "source": [
        "Just like the normal Python string, the __Seq__ object is ``read only'', or in Python terminology, immutable.  Apart from wanting the __Seq__ object to act like a string, this is also a useful default since in many biological applications you want to ensure you are not changing your sequence data:"
      ]
    },
    {
      "cell_type": "markdown",
      "source": [
        "\n",
        "Assim como a string Python normal, o objeto **Seq** é `` somente leitura &#39;&#39; ou, na terminologia Python, imutável. Além de querer que o objeto **Seq** atue como uma string, este também é um padrão útil, pois em muitas aplicações biológicas você deseja garantir que não está alterando seus dados de sequência:\n"
      ],
      "metadata": {}
    },
    {
      "cell_type": "code",
      "execution_count": 53,
      "metadata": {},
      "outputs": [],
      "source": [
        "my_seq = Seq(\"GCCATTGTAATGGGCCGCTGAAAGGGTGCCCGA\")"
      ]
    },
    {
      "cell_type": "markdown",
      "metadata": {},
      "source": [
        "Observe what happens if you try to edit the sequence:"
      ]
    },
    {
      "cell_type": "markdown",
      "source": [
        "\n",
        "Observe o que acontece se você tentar editar a sequência:\n"
      ],
      "metadata": {}
    },
    {
      "cell_type": "code",
      "execution_count": 54,
      "metadata": {},
      "outputs": [
        {
          "output_type": "error",
          "ename": "TypeError",
          "evalue": "'Seq' object does not support item assignment",
          "traceback": [
            "\u001b[0;31m---------------------------------------------------------------------------\u001b[0m",
            "\u001b[0;31mTypeError\u001b[0m                                 Traceback (most recent call last)",
            "\u001b[0;32m<ipython-input-54-50e848a55f5c>\u001b[0m in \u001b[0;36m<module>\u001b[0;34m\u001b[0m\n\u001b[0;32m----> 1\u001b[0;31m \u001b[0mmy_seq\u001b[0m\u001b[0;34m[\u001b[0m\u001b[0;36m5\u001b[0m\u001b[0;34m]\u001b[0m \u001b[0;34m=\u001b[0m \u001b[0;34m\"G\"\u001b[0m\u001b[0;34m\u001b[0m\u001b[0;34m\u001b[0m\u001b[0m\n\u001b[0m",
            "\u001b[0;31mTypeError\u001b[0m: 'Seq' object does not support item assignment"
          ]
        }
      ],
      "source": [
        "my_seq[5] = \"G\""
      ]
    },
    {
      "cell_type": "markdown",
      "metadata": {},
      "source": [
        "However, you can convert it into a mutable sequence (a __MutableSeq__ object) and do pretty much anything you want with it"
      ]
    },
    {
      "cell_type": "markdown",
      "source": [
        "\n",
        "No entanto, você pode convertê-lo em uma sequência mutável (um objeto **MutableSeq** ) e fazer praticamente tudo o que quiser com ele\n"
      ],
      "metadata": {}
    },
    {
      "cell_type": "code",
      "execution_count": 55,
      "metadata": {},
      "outputs": [
        {
          "output_type": "execute_result",
          "data": {
            "text/plain": [
              "MutableSeq('GCCATTGTAATGGGCCGCTGAAAGGGTGCCCGA')"
            ]
          },
          "metadata": {},
          "execution_count": 55
        }
      ],
      "source": [
        "mutable_seq = my_seq.tomutable()\n",
        "mutable_seq"
      ]
    },
    {
      "cell_type": "markdown",
      "metadata": {},
      "source": [
        "Alternatively, you can create a __MutableSeq__ object directly from a string:"
      ]
    },
    {
      "cell_type": "markdown",
      "source": [
        "\n",
        "Como alternativa, você pode criar um objeto **MutableSeq** diretamente de uma string:\n"
      ],
      "metadata": {}
    },
    {
      "cell_type": "code",
      "execution_count": 56,
      "metadata": {},
      "outputs": [],
      "source": [
        "from Bio.Seq import MutableSeq\n",
        "mutable_seq = MutableSeq(\"GCCATTGTAATGGGCCGCTGAAAGGGTGCCCGA\")"
      ]
    },
    {
      "cell_type": "markdown",
      "metadata": {},
      "source": [
        "Either way will give you a sequence object which can be changed:\n"
      ]
    },
    {
      "cell_type": "markdown",
      "source": [
        "\n",
        "Qualquer uma das formas fornecerá um objeto de sequência que pode ser alterado:\n"
      ],
      "metadata": {}
    },
    {
      "cell_type": "code",
      "execution_count": 63,
      "metadata": {},
      "outputs": [
        {
          "name": "stdout",
          "output_type": "stream",
          "text": [
            "GCCATCGTAATGGGCCGCTGAAAGGGTGCCCGA\n",
            "GCCACGTAATGGGCCGCTGAAAGGGTGCCCGA\n",
            "AGCCCGTGGGAAAGTCGCCGGGTAATGCACCG\n"
          ]
        }
      ],
      "source": [
        "mutable_seq[5] = \"C\"\n",
        "print(mutable_seq)\n",
        "mutable_seq.remove(\"T\")\n",
        "print(mutable_seq)\n",
        "mutable_seq.reverse()\n",
        "print(mutable_seq)"
      ]
    },
    {
      "cell_type": "markdown",
      "metadata": {},
      "source": [
        "Do note that unlike the Seq object, the MutableSeq object's methods like reverse_complement() and reverse() act in-situ!\n",
        "\n",
        "An important technical difference between mutable and immutable objects in Python means that you can't use a MutableSeq object as a dictionary key, but you can use a Python string or \n",
        "a Seq object in this way.\n",
        "\n",
        "Once you have finished editing your a MutableSeq object, it's easy to get back to a read-only Seq object should you need to:"
      ]
    },
    {
      "cell_type": "markdown",
      "source": [
        "\n",
        "Observe que, ao contrário do objeto Seq, os métodos do objeto MutableSeq, como reverse_complement () e reverse (), atuam in-situ!\n",
        "\n",
        " Uma importante diferença técnica entre objetos mutáveis e imutáveis em Python significa que você não pode usar um objeto MutableSeq como uma chave de dicionário, mas pode usar uma string Python ou\n",
        "\n",
        " um objeto Seq dessa forma.\n",
        "\n",
        " Depois de terminar de editar seu objeto MutableSeq, é fácil voltar para um objeto Seq somente leitura caso você precise:\n"
      ],
      "metadata": {}
    },
    {
      "cell_type": "code",
      "execution_count": 64,
      "metadata": {},
      "outputs": [
        {
          "data": {
            "text/plain": [
              "Seq('AGCCCGTGGGAAAGTCGCCGGGTAATGCACCG', IUPACUnambiguousDNA())"
            ]
          },
          "execution_count": 64,
          "metadata": {},
          "output_type": "execute_result"
        }
      ],
      "source": [
        "new_seq = mutable_seq.toseq()\n",
        "new_seq"
      ]
    },
    {
      "cell_type": "markdown",
      "metadata": {},
      "source": [
        "You can also get a string from a MutableSeq object just like from a Seq object."
      ]
    },
    {
      "cell_type": "markdown",
      "source": [
        "\n",
        "Você também pode obter uma string de um objeto MutableSeq, assim como de um objeto Seq.\n"
      ],
      "metadata": {}
    },
    {
      "cell_type": "markdown",
      "metadata": {},
      "source": [
        "## UnknownSeq Objects"
      ]
    },
    {
      "cell_type": "markdown",
      "source": [
        "\n",
        "## Objetos Desconhecidos\n"
      ],
      "metadata": {}
    },
    {
      "cell_type": "markdown",
      "metadata": {},
      "source": [
        "The UnknownSeq object is a subclass of the basic Seq object\n",
        "and its purpose is to represent a\n",
        "sequence where we know the length, but not the actual letters making it up.\n",
        "You could of course use a normal Seq object in this situation, but it wastes\n",
        "rather a lot of memory to hold a string of a million ``N'' characters when you could\n",
        "just store a single letter ``N'' and the desired length as an integer.\n"
      ]
    },
    {
      "cell_type": "markdown",
      "source": [
        "\n",
        "O objeto UnknownSeq é uma subclasse do objeto Seq básico\n",
        "\n",
        " e seu objetivo é representar um\n",
        "\n",
        " seqüência em que sabemos o comprimento, mas não as letras reais que a compõem.\n",
        "\n",
        " Você poderia, é claro, usar um objeto Seq normal nesta situação, mas ele desperdiça\n",
        "\n",
        " bastante memória para armazenar uma string de um milhão de caracteres `` N &#39;&#39; quando você poderia\n",
        "\n",
        " apenas armazene uma única letra `` N &#39;&#39; e o comprimento desejado como um inteiro.\n"
      ],
      "metadata": {}
    },
    {
      "cell_type": "code",
      "execution_count": 57,
      "metadata": {},
      "outputs": [
        {
          "output_type": "execute_result",
          "data": {
            "text/plain": [
              "UnknownSeq(20, character='?')"
            ]
          },
          "metadata": {},
          "execution_count": 57
        }
      ],
      "source": [
        "from Bio.Seq import UnknownSeq\n",
        "unk = UnknownSeq(20)\n",
        "unk"
      ]
    },
    {
      "cell_type": "code",
      "execution_count": 66,
      "metadata": {},
      "outputs": [
        {
          "name": "stdout",
          "output_type": "stream",
          "text": [
            "????????????????????\n",
            "20\n"
          ]
        }
      ],
      "source": [
        "print(unk)\n",
        "print(len(unk))"
      ]
    },
    {
      "cell_type": "markdown",
      "metadata": {},
      "source": [
        "For DNA or RNA sequences, unknown nucleotides are commonly denoted by the letter “N”, while for\n",
        "proteins “X” is commonly used for unknown amino acids. When creating an ‘UnknownSeq‘, you can specify\n",
        "the character to be used instead of “?” to represent unknown letters. For example"
      ]
    },
    {
      "cell_type": "markdown",
      "source": [
        "\n",
        "Para sequências de DNA ou RNA, nucleotídeos desconhecidos são comumente denotados pela letra \"N\", enquanto que para\n",
        "\n",
        " proteínas “X” é comumente usado para aminoácidos desconhecidos. Ao criar um &#39;UnknownSeq&#39;, você pode especificar\n",
        "\n",
        " o caractere a ser usado em vez de “?” para representar letras desconhecidas. Por exemplo\n"
      ],
      "metadata": {}
    },
    {
      "cell_type": "code",
      "execution_count": 59,
      "metadata": {},
      "outputs": [
        {
          "output_type": "execute_result",
          "data": {
            "text/plain": [
              "UnknownSeq(20, character='N')"
            ]
          },
          "metadata": {},
          "execution_count": 59
        }
      ],
      "source": [
        "unk_dna = UnknownSeq(20, character= \"N\")\n",
        "unk_dna"
      ]
    },
    {
      "cell_type": "code",
      "execution_count": 60,
      "metadata": {},
      "outputs": [
        {
          "output_type": "stream",
          "name": "stdout",
          "text": [
            "NNNNNNNNNNNNNNNNNNNN\n"
          ]
        }
      ],
      "source": [
        "print(unk_dna)"
      ]
    },
    {
      "cell_type": "markdown",
      "metadata": {},
      "source": [
        "You can use all the usual __Seq__ object methods too, note these give back\n",
        "memory saving __UnknownSeq__ objects where appropriate as you might expect:\n"
      ]
    },
    {
      "cell_type": "markdown",
      "source": [
        "\n",
        "Você pode usar todos os métodos de objeto **Seq** usuais também, observe que eles retornam\n",
        "\n",
        " objetos **Desconhecidos para** salvar memória quando apropriado, como você pode esperar:\n"
      ],
      "metadata": {}
    },
    {
      "cell_type": "code",
      "execution_count": 61,
      "metadata": {},
      "outputs": [
        {
          "output_type": "execute_result",
          "data": {
            "text/plain": [
              "UnknownSeq(20, character='N')"
            ]
          },
          "metadata": {},
          "execution_count": 61
        }
      ],
      "source": [
        "unk_dna"
      ]
    },
    {
      "cell_type": "code",
      "execution_count": 62,
      "metadata": {},
      "outputs": [
        {
          "output_type": "execute_result",
          "data": {
            "text/plain": [
              "UnknownSeq(20, character='N')"
            ]
          },
          "metadata": {},
          "execution_count": 62
        }
      ],
      "source": [
        "unk_dna.complement()"
      ]
    },
    {
      "cell_type": "code",
      "execution_count": 63,
      "metadata": {},
      "outputs": [
        {
          "output_type": "execute_result",
          "data": {
            "text/plain": [
              "UnknownSeq(20, character='N')"
            ]
          },
          "metadata": {},
          "execution_count": 63
        }
      ],
      "source": [
        "unk_dna.reverse_complement()"
      ]
    },
    {
      "cell_type": "code",
      "execution_count": 64,
      "metadata": {},
      "outputs": [
        {
          "output_type": "execute_result",
          "data": {
            "text/plain": [
              "UnknownSeq(20, character='N')"
            ]
          },
          "metadata": {},
          "execution_count": 64
        }
      ],
      "source": [
        "unk_dna.transcribe()"
      ]
    },
    {
      "cell_type": "code",
      "execution_count": 65,
      "metadata": {},
      "outputs": [
        {
          "output_type": "execute_result",
          "data": {
            "text/plain": [
              "UnknownSeq(6, character='X')"
            ]
          },
          "metadata": {},
          "execution_count": 65
        }
      ],
      "source": [
        "unk_protein = unk_dna.translate()\n",
        "unk_protein"
      ]
    },
    {
      "cell_type": "code",
      "execution_count": 66,
      "metadata": {},
      "outputs": [
        {
          "output_type": "stream",
          "name": "stdout",
          "text": [
            "XXXXXX\n6\n"
          ]
        }
      ],
      "source": [
        "print(unk_protein)\n",
        "print(len(unk_protein))"
      ]
    },
    {
      "cell_type": "markdown",
      "metadata": {},
      "source": [
        "You may be able to find a use for the UnknownSeq object in your own\n",
        "code, but it is more likely that you will first come across them in a\n",
        "SeqRecord object created by Bio.SeqIO.\n",
        "Some sequence file formats don't always include the actual sequence, for\n",
        "example GenBank and EMBL files may include a list of features but for the\n",
        "sequence just present the contig information.  Alternatively, the QUAL files\n",
        "used in sequencing work hold quality scores but they *never* contain a\n",
        "sequence -- instead there is a partner FASTA file which *does* have the\n",
        "sequence."
      ]
    },
    {
      "cell_type": "markdown",
      "source": [
        "\n",
        "Você pode encontrar um uso para o objeto UnknownSeq em seu próprio\n",
        "\n",
        " código, mas é mais provável que você os encontre em um\n",
        "\n",
        " Objeto SeqRecord criado por Bio.SeqIO.\n",
        "\n",
        " Alguns formatos de arquivo de sequência nem sempre incluem a sequência real, para\n",
        "\n",
        " exemplos de arquivos GenBank e EMBL podem incluir uma lista de recursos, mas para o\n",
        "\n",
        " seqüência apenas apresenta as informações contig. Alternativamente, os arquivos QUAL\n",
        "\n",
        " usados no trabalho de sequenciamento possuem pontuações de qualidade, mas *nunca* contêm um\n",
        "\n",
        " seqüência - em vez disso, há um arquivo parceiro FASTA que *tem* a\n",
        "\n",
        " seqüência.\n"
      ],
      "metadata": {}
    },
    {
      "cell_type": "markdown",
      "metadata": {},
      "source": [
        "## Working with strings directly"
      ]
    },
    {
      "cell_type": "markdown",
      "source": [
        "\n",
        "## Trabalhar com strings diretamente\n"
      ],
      "metadata": {}
    },
    {
      "cell_type": "markdown",
      "metadata": {},
      "source": [
        "To close this chapter, for those you who *really* don't want to use the sequence\n",
        "objects (or who prefer a functional programming style to an object orientated one),\n",
        "there are module level functions in Bio.Seq will accept plain Python strings,\n",
        "Seq objects (including UnknownSeq objects) or MutableSeq objects:\n"
      ]
    },
    {
      "cell_type": "markdown",
      "source": [
        "\n",
        "Para encerrar este capítulo, para aqueles que *realmente* não querem usar a sequência\n",
        "\n",
        " objetos (ou que preferem um estilo de programação funcional a um orientado a objeto),\n",
        "\n",
        " existem funções de nível de módulo em Bio.Seq que aceitará strings Python simples,\n",
        "\n",
        " Objetos Seq (incluindo objetos UnknownSeq) ou objetos MutableSeq:\n"
      ],
      "metadata": {}
    },
    {
      "cell_type": "code",
      "execution_count": 67,
      "metadata": {},
      "outputs": [
        {
          "output_type": "stream",
          "name": "stdout",
          "text": [
            "CTAACCAGCAGCACGACCACCCTTCCAACGACCCATAACAGC\nGCUGUUAUGGGUCGUUGGAAGGGUGGUCGUGCUGCUGGUUAG\nGCTGTTATGGGTCGTTGGAAGGGTGGTCGTGCTGCTGGTTAG\nAVMGRWKGGRAAG*\n"
          ]
        }
      ],
      "source": [
        "from Bio.Seq import reverse_complement, transcribe, back_transcribe, translate\n",
        "my_string = \"GCTGTTATGGGTCGTTGGAAGGGTGGTCGTGCTGCTGGTTAG\"\n",
        "print(reverse_complement(my_string))\n",
        "print(transcribe(my_string))\n",
        "print(back_transcribe(my_string))\n",
        "print(translate(my_string))"
      ]
    },
    {
      "cell_type": "markdown",
      "metadata": {},
      "source": [
        "You are, however, encouraged to work with Seq objects by default."
      ]
    },
    {
      "cell_type": "markdown",
      "source": [
        "\n",
        "No entanto, é recomendável trabalhar com objetos Seq por padrão.\n"
      ],
      "metadata": {}
    }
  ],
  "metadata": {},
  "nbformat": 4,
  "nbformat_minor": 0
}