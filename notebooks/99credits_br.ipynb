{
  "cells": [
    {
      "cell_type": "markdown",
      "metadata": {},
      "source": [
        "**Source of the materials**: Biopython cookbook (adapted)\n",
        "<font color='red'>Status: Draft</font>"
      ]
    },
    {
      "cell_type": "markdown",
      "source": [
        "\n",
        "**Fonte dos materiais** : livro de receitas Biopython (adaptado)\n",
        "\n",
        " &lt;font color = &#39;red&#39;&gt; Status: Rascunho &lt;/font&gt;\n"
      ],
      "metadata": {}
    },
    {
      "cell_type": "markdown",
      "metadata": {},
      "source": [
        "# About the contents"
      ]
    },
    {
      "cell_type": "markdown",
      "source": [
        "\n",
        "# Sobre o conteúdo\n"
      ],
      "metadata": {}
    },
    {
      "cell_type": "markdown",
      "metadata": {},
      "source": [
        "The contents of these notebooks have several sources (mostly the Biopython Tutorial and Peter Cock's workshop). Credit to the source of will be given at the start of the notebook.\n",
        "\n",
        "The current version of these notebooks losely follows the structure of the Tutorial.\n",
        "\n",
        "As IPython Notebook is generaly available with matplotlib, NumPy and SciPy I will make use of these if I found it relevant."
      ]
    },
    {
      "cell_type": "markdown",
      "source": [
        "\n",
        "O conteúdo desses cadernos tem várias fontes (principalmente o Tutorial Biopython e o workshop de Peter Cock). O crédito à fonte de será dado no início do caderno.\n",
        "\n",
        " A versão atual desses notebooks segue vagamente a estrutura do Tutorial.\n",
        "\n",
        " Como o Notebook IPython está geralmente disponível com matplotlib, NumPy e SciPy, farei uso deles se achar relevante.\n"
      ],
      "metadata": {}
    },
    {
      "cell_type": "markdown",
      "metadata": {},
      "source": [
        "## Authorship"
      ]
    },
    {
      "cell_type": "markdown",
      "source": [
        "\n",
        "## Autoria\n"
      ],
      "metadata": {}
    },
    {
      "cell_type": "markdown",
      "metadata": {},
      "source": [
        "The authors of the Biopython tutorial and cookbook are: Jeff Chang, Brad Chapman, Iddo Friedberg, Thomas Hamelryck,\n",
        "Michiel de Hoon, Peter Cock, Tiago Antao, Eric Talevich, Bartek Wilczynski"
      ]
    },
    {
      "cell_type": "markdown",
      "source": [
        "\n",
        "Os autores do tutorial e do livro de receitas Biopython são: Jeff Chang, Brad Chapman, Iddo Friedberg, Thomas Hamelryck,\n",
        "\n",
        " Michiel de Hoon, Peter Cock, Tiago Antao, Eric Talevich, Bartek Wilczynski\n"
      ],
      "metadata": {}
    },
    {
      "cell_type": "markdown",
      "metadata": {},
      "source": [
        "The people doing the conversion to IPython Notebook format are: Vincent Davis and Tiago Antao"
      ]
    },
    {
      "cell_type": "markdown",
      "source": [
        "\n",
        "As pessoas que fazem a conversão para o formato do Notebook IPython são: Vincent Davis e Tiago Antao\n"
      ],
      "metadata": {}
    }
  ],
  "metadata": {},
  "nbformat": 4,
  "nbformat_minor": 0
}