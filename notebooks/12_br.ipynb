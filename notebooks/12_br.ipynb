{
  "cells": [
    {
      "cell_type": "markdown",
      "metadata": {},
      "source": [
        "# Bio.PopGen: Population genetics"
      ]
    },
    {
      "cell_type": "markdown",
      "source": [
        "\n",
        "# Bio.PopGen: genética populacional\n"
      ],
      "metadata": {}
    },
    {
      "cell_type": "markdown",
      "metadata": {},
      "source": [
        "Bio.PopGen is a Biopython module supporting population genetics, available in Biopython 1.44 onwards.\n",
        "\n",
        "The medium term objective for the module is to support widely used data formats, applications and databases. This module is currently under intense development and support for new features should appear at a rather fast pace. Unfortunately this might also entail some instability on the API, especially if you are using a development version. APIs that are made available on our official public releases should be much more stable."
      ]
    },
    {
      "cell_type": "markdown",
      "source": [
        "\n",
        "Bio.PopGen é um módulo Biopython que apoia a genética populacional, disponível a partir do Biopython 1.44.\n",
        "\n",
        " O objetivo de médio prazo para o módulo é oferecer suporte a formatos de dados, aplicativos e bancos de dados amplamente usados. Este módulo está atualmente em intenso desenvolvimento e o suporte para novos recursos deve aparecer em um ritmo bastante rápido. Infelizmente, isso também pode acarretar alguma instabilidade na API, especialmente se você estiver usando uma versão de desenvolvimento. As APIs disponibilizadas em nossos lançamentos públicos oficiais devem ser muito mais estáveis.\n"
      ],
      "metadata": {}
    },
    {
      "cell_type": "markdown",
      "metadata": {},
      "source": [
        "## GenePop"
      ]
    },
    {
      "cell_type": "markdown",
      "source": [
        "\n",
        "## GenePop\n"
      ],
      "metadata": {}
    },
    {
      "cell_type": "markdown",
      "metadata": {},
      "source": [
        "GenePop (http://genepop.curtin.edu.au/) is a popular population genetics software package supporting Hardy-Weinberg tests, linkage desiquilibrium, population diferentiation, basic statistics, Fst and migration estimates, among others. GenePop does not supply sequence based statistics as it doesn’t handle sequence data. The GenePop file format is supported by a wide range of other population genetic software applications, thus making it a relevant format in the population genetics field.\n",
        "\n",
        "Bio.PopGen provides a parser and generator of GenePop file format. Utilities to manipulate the content of a record are also provided. Here is an example on how to read a GenePop file (you can find example GenePop data files in the Test/PopGen directory of Biopython):"
      ]
    },
    {
      "cell_type": "markdown",
      "source": [
        "\n",
        "GenePop ( [http://genepop.curtin.edu.au/](http://genepop.curtin.edu.au/) ) é um pacote de software de genética populacional que suporta testes de Hardy-Weinberg, desiquilibrio de ligação, diferenciação populacional, estatísticas básicas, Fst e estimativas de migração, entre outros. GenePop não fornece estatísticas baseadas em sequência, uma vez que não lida com dados de sequência. O formato de arquivo GenePop é suportado por uma ampla gama de outros aplicativos de software de genética populacional, tornando-o um formato relevante no campo da genética populacional.\n",
        "\n",
        " Bio.PopGen fornece um analisador e gerador do formato de arquivo GenePop. Utilitários para manipular o conteúdo de um registro também são fornecidos. Aqui está um exemplo de como ler um arquivo GenePop (você pode encontrar exemplos de arquivos de dados GenePop no diretório Test / PopGen do Biopython):\n"
      ],
      "metadata": {}
    },
    {
      "cell_type": "code",
      "execution_count": 1,
      "metadata": {},
      "outputs": [],
      "source": [
        "from copy import deepcopy\n",
        "from Bio.PopGen import GenePop\n",
        "\n",
        "handle = open(\"data/example.gen\")\n",
        "master_rec = GenePop.read(handle)\n",
        "handle.close()"
      ]
    },
    {
      "cell_type": "markdown",
      "metadata": {},
      "source": [
        "This will read a file called example.gen and parse it. If you do print rec, the record will be output again, in GenePop format.\n",
        "\n",
        "The most important information in rec will be the loci names and population information (but there is more – use help(GenePop.Record) to check the API documentation). Loci names can be found on rec.loci_list. Population information can be found on rec.populations. Populations is a list with one element per population. Each element is itself a list of individuals, each individual is a pair composed by individual name and a list of alleles (2 per marker), here is an example for rec.populations:\n",
        "\n",
        "```python\n",
        "[\n",
        "    [\n",
        "        ('Ind1', [(1, 2),    (3, 3), (200, 201)],\n",
        "        ('Ind2', [(2, None), (3, 3), (None, None)],\n",
        "    ],\n",
        "    [\n",
        "        ('Other1', [(1, 1),  (4, 3), (200, 200)],\n",
        "    ]\n",
        "]\n",
        "```\n",
        "\n",
        "So we have two populations, the first with two individuals, the second with only one. The first individual of the first population is called Ind1, allelic information for each of the 3 loci follows. Please note that for any locus, information might be missing (see as an example, Ind2 above).\n",
        "\n",
        "A few utility functions to manipulate GenePop records are made available, here is an example:"
      ]
    },
    {
      "cell_type": "markdown",
      "source": [
        "\n",
        "Isso lerá um arquivo chamado example.gen e o analisará. Se você imprimir rec, o registro será enviado novamente, no formato GenePop.\n",
        "\n",
        " As informações mais importantes em rec serão os nomes dos loci e as informações da população (mas há mais - use a ajuda (GenePop.Record) para verificar a documentação da API). Os nomes dos locais podem ser encontrados em rec.loci_list. As informações da população podem ser encontradas em rec.populações. Populações é uma lista com um elemento por população. Cada elemento é em si uma lista de indivíduos, cada indivíduo é um par composto por nome individual e uma lista de alelos (2 por marcador), aqui está um exemplo para rec.populações:\n",
        "\n",
        " Portanto, temos duas populações, a primeira com dois indivíduos, a segunda com apenas um. O primeiro indivíduo da primeira população é denominado Ind1; segue-se a informação alélica para cada um dos 3 loci. Observe que, para qualquer locus, podem faltar informações (ver como exemplo, Ind2 acima).\n",
        "\n",
        " Algumas funções utilitárias para manipular os registros GenePop são disponibilizadas, aqui está um exemplo:\n"
      ],
      "metadata": {}
    },
    {
      "cell_type": "markdown",
      "metadata": {},
      "source": [
        "## Operations on GenePop records"
      ]
    },
    {
      "cell_type": "markdown",
      "source": [
        "\n",
        "## Operações em registros GenePop\n"
      ],
      "metadata": {}
    },
    {
      "cell_type": "code",
      "execution_count": 2,
      "metadata": {},
      "outputs": [
        {
          "name": "stdout",
          "output_type": "stream",
          "text": [
            "Total populations 3\n",
            "After remove 2\n"
          ]
        }
      ],
      "source": [
        "print('Total populations %d' % len(master_rec.populations))\n",
        "rec = deepcopy(master_rec)\n",
        "pos = 0\n",
        "rec.remove_population(pos)\n",
        "print('After remove %d' % len(rec.populations))\n",
        "#Removes a population from a record, pos is the population position in\n",
        "#  rec.populations, remember that it starts on position 0.\n",
        "#  rec is altered."
      ]
    },
    {
      "cell_type": "code",
      "execution_count": 3,
      "metadata": {},
      "outputs": [
        {
          "name": "stdout",
          "output_type": "stream",
          "text": [
            "Loci names: loci1, another, and finally\n",
            "After removal: another, and finally\n"
          ]
        }
      ],
      "source": [
        "print('Loci names: %s' %  ', '.join(master_rec.loci_list))\n",
        "rec = deepcopy(master_rec)\n",
        "pos = 0\n",
        "rec.remove_locus_by_position(pos)\n",
        "print('After removal: %s' %  ', '.join(rec.loci_list))\n",
        "#Removes a locus by its position, pos is the locus position in\n",
        "#  rec.loci_list, remember that it starts on position 0.\n",
        "#  rec is altered.\n"
      ]
    },
    {
      "cell_type": "code",
      "execution_count": 5,
      "metadata": {},
      "outputs": [],
      "source": [
        "name = 'loci1'\n",
        "rec.remove_locus_by_name(name)\n",
        "#Removes a locus by its name, name is the locus name as in\n",
        "#  rec.loci_list. If the name doesn't exist the function fails\n",
        "#  silently.\n",
        "#  rec is altered."
      ]
    },
    {
      "cell_type": "code",
      "execution_count": 7,
      "metadata": {},
      "outputs": [],
      "source": [
        "rec_loci = rec.split_in_loci(master_rec)\n",
        "#Splits a record in loci, that is, for each loci, it creates a new\n",
        "#  record, with a single loci and all populations.\n",
        "#  The result is returned in a dictionary, being each key the locus name.\n",
        "#  The value is the GenePop record.\n",
        "#  rec is not altered."
      ]
    },
    {
      "cell_type": "code",
      "execution_count": 12,
      "metadata": {},
      "outputs": [],
      "source": [
        "pop_names = ['pop1', 'pop2', 'pop3']\n",
        "rec_pops = rec.split_in_pops(pop_names)\n",
        "#Splits a record in populations, that is, for each population, it creates\n",
        "#  a new record, with a single population and all loci.\n",
        "#  The result is returned in a dictionary, being each key\n",
        "#  the population name. As population names are not available in GenePop,\n",
        "#  they are passed in array (pop_names).\n",
        "#  The value of each dictionary entry is the GenePop record.\n",
        "#  rec is not altered."
      ]
    },
    {
      "cell_type": "markdown",
      "metadata": {},
      "source": [
        "GenePop does not support population names, a limitation which can be cumbersome at times. Functionality to enable population names is currently being planned for Biopython. These extensions won’t break compatibility in any way with the standard format. In the medium term, we would also like to support the GenePop web service."
      ]
    },
    {
      "cell_type": "markdown",
      "source": [
        "\n",
        "GenePop não suporta nomes de população, uma limitação que pode ser complicada às vezes. Funcionalidade para habilitar nomes de população está sendo planejada para Biopython. Essas extensões não quebram a compatibilidade de forma alguma com o formato padrão. A médio prazo, também gostaríamos de apoiar o serviço web GenePop.\n"
      ],
      "metadata": {}
    },
    {
      "cell_type": "markdown",
      "metadata": {},
      "source": [
        "## Coalescent simulation"
      ]
    },
    {
      "cell_type": "markdown",
      "source": [
        "\n",
        "## Simulação coalescente\n"
      ],
      "metadata": {}
    },
    {
      "cell_type": "markdown",
      "metadata": {},
      "source": [
        "A coalescent simulation is a backward model of population genetics with relation to time. A simulation of ancestry is done until the Most Recent Common Ancestor (MRCA) is found. This ancestry relationship starting on the MRCA and ending on the current generation sample is sometimes called a genealogy. Simple cases assume a population of constant size in time, haploidy, no population structure, and simulate the alleles of a single locus under no selection pressure.\n",
        "\n",
        "Coalescent theory is used in many fields like selection detection, estimation of demographic parameters of real populations or disease gene mapping.\n",
        "\n",
        "The strategy followed in the Biopython implementation of the coalescent was not to create a new, built-in, simulator from scratch but to use an existing one, SIMCOAL2 (http://cmpg.unibe.ch/software/simcoal2/). SIMCOAL2 allows for, among others, population structure, multiple demographic events, simulation of multiple types of loci (SNPs, sequences, STRs/microsatellites and RFLPs) with recombination, diploidy multiple chromosomes or ascertainment bias. Notably SIMCOAL2 doesn’t support any selection model. We recommend reading SIMCOAL2’s documentation, available in the link above.\n",
        "\n",
        "The input for SIMCOAL2 is a file specifying the desired demography and genome, the output is a set of files (typically around 1000) with the simulated genomes of a sample of individuals per subpopulation. This set of files can be used in many ways, like to compute confidence intervals where which certain statistics (e.g., Fst or Tajima D) are expected to lie. Real population genetics datasets statistics can then be compared to those confidence intervals.\n",
        "\n",
        "Biopython coalescent code allows to create demographic scenarios and genomes and to run SIMCOAL2."
      ]
    },
    {
      "cell_type": "markdown",
      "source": [
        "\n",
        "Uma simulação coalescente é um modelo retrógrado da genética populacional em relação ao tempo. Uma simulação de ancestralidade é feita até que o Ancestral Comum Mais Recente (MRCA) seja encontrado. Essa relação de ancestralidade começando no MRCA e terminando na amostra da geração atual é às vezes chamada de genealogia. Casos simples assumem uma população de tamanho constante no tempo, haploidia, sem estrutura populacional e simulam os alelos de um único locus sob nenhuma pressão de seleção.\n",
        "\n",
        " A teoria coalescente é usada em muitos campos, como detecção de seleção, estimativa de parâmetros demográficos de populações reais ou mapeamento de genes de doenças.\n",
        "\n",
        " A estratégia seguida na implementação do Biopython do coalescente não foi criar um novo simulador integrado do zero, mas usar um já existente, SIMCOAL2 ( [http://cmpg.unibe.ch/software/simcoal2/](http://cmpg.unibe.ch/software/simcoal2/) ). SIMCOAL2 permite, entre outros, estrutura populacional, múltiplos eventos demográficos, simulação de múltiplos tipos de loci (SNPs, sequências, STRs / microssatélites e RFLPs) com recombinação, diploidia de múltiplos cromossomos ou viés de averiguação. Notavelmente SIMCOAL2 não suporta nenhum modelo de seleção. Recomendamos a leitura da documentação do SIMCOAL2, disponível no link acima.\n",
        "\n",
        " A entrada para SIMCOAL2 é um arquivo especificando a demografia e o genoma desejados, a saída é um conjunto de arquivos (normalmente em torno de 1000) com os genomas simulados de uma amostra de indivíduos por subpopulação. Este conjunto de arquivos pode ser usado de várias maneiras, como para calcular intervalos de confiança onde certas estatísticas (por exemplo, Fst ou Tajima D) devem estar. As estatísticas de conjuntos de dados de genética populacional real podem então ser comparadas a esses intervalos de confiança.\n",
        "\n",
        " O código coalescente Biopython permite criar cenários demográficos e genomas e executar SIMCOAL2.\n"
      ],
      "metadata": {}
    },
    {
      "cell_type": "markdown",
      "metadata": {},
      "source": [
        "### Creating scenarios"
      ]
    },
    {
      "cell_type": "markdown",
      "source": [
        "\n",
        "### Criação de cenários\n"
      ],
      "metadata": {}
    },
    {
      "cell_type": "markdown",
      "metadata": {},
      "source": [
        "Creating a scenario involves both creating a demography and a chromosome structure. In many cases (e.g. when doing Approximate Bayesian Computations – ABC) it is important to test many parameter variations (e.g. vary the effective population size, Ne, between 10, 50, 500 and 1000 individuals). The code provided allows for the simulation of scenarios with different demographic parameters very easily.\n",
        "\n",
        "Below we see how we can create scenarios and then how simulate them."
      ]
    },
    {
      "cell_type": "markdown",
      "source": [
        "\n",
        "A criação de um cenário envolve a criação de uma demografia e de uma estrutura cromossômica. Em muitos casos (por exemplo, ao fazer cálculos bayesianos aproximados - ABC) é importante testar muitas variações de parâmetros (por exemplo, variar o tamanho efetivo da população, Ne, entre 10, 50, 500 e 1000 indivíduos). O código fornecido permite a simulação de cenários com diferentes parâmetros demográficos com muita facilidade.\n",
        "\n",
        " A seguir, vemos como podemos criar cenários e, em seguida, como simulá-los.\n"
      ],
      "metadata": {}
    },
    {
      "cell_type": "markdown",
      "metadata": {},
      "source": [
        "####  Demography"
      ]
    },
    {
      "cell_type": "markdown",
      "source": [
        "\n",
        "#### Demografia\n"
      ],
      "metadata": {}
    },
    {
      "cell_type": "markdown",
      "metadata": {},
      "source": [
        "A few predefined demographies are built-in, all have two shared parameters: sample size (called sample_size on the template, see below for its use) per deme and deme size, i.e. subpopulation size (pop_size). All demographies are available as templates where all parameters can be varied, each template has a system name. The prefedined demographies/templates are:\n",
        "\n",
        "**Single population, constant size**\n",
        "The standard parameters are enough to specify it. Template name: simple.\n",
        "\n",
        "**Single population, bottleneck**\n",
        "As seen on the figure below. The parameters are current population size (pop_size on template ne3 on figure), time of expansion, given as the generation in the past when it occurred (expand_gen), effective population size during bottleneck (ne2), time of contraction (contract_gen) and original size in the remote past (ne3). Template name: bottle.\n",
        "\n",
        "**Island model**\n",
        "The typical island model. The total number of demes is specified by total_demes and the migration rate by mig. Template name island.\n",
        "\n",
        "**Stepping stone model - 1 dimension**\n",
        "The stepping stone model in 1 dimension, extremes disconnected. The total number of demes is total_demes, migration rate is mig. Template name is ssm_1d.\n",
        "\n",
        "**Stepping stone model - 2 dimensions**\n",
        "The stepping stone model in 2 dimensions, extremes disconnected. The parameters are x for the horizontal dimension and y for the vertical (being the total number of demes x times y), migration rate is mig. Template name is ssm_2d."
      ]
    },
    {
      "cell_type": "markdown",
      "source": [
        "\n",
        "Algumas demografias predefinidas são embutidas, todas têm dois parâmetros compartilhados: tamanho da amostra (chamado sample_size no modelo, veja abaixo para seu uso) por deme e tamanho de deme, ou seja, tamanho da subpopulação (pop_size). Todas as demografias estão disponíveis como modelos onde todos os parâmetros podem ser variados, cada modelo tem um nome de sistema. As demografias / modelos predefinidos são:\n",
        "\n",
        " **População única, tamanho constante**\n",
        "\n",
        " Os parâmetros padrão são suficientes para especificá-lo. Nome do modelo: simples.\n",
        "\n",
        " **População única, gargalo**\n",
        "\n",
        " Conforme visto na figura abaixo. Os parâmetros são o tamanho atual da população (pop_size no modelo ne3 na figura), tempo de expansão, dado como a geração no passado quando ocorreu (expand_gen), tamanho efetivo da população durante o gargalo (ne2), tempo de contração (contract_gen) e original tamanho no passado remoto (ne3). Nome do modelo: garrafa.\n",
        "\n",
        " **Modelo de ilha**\n",
        "\n",
        " O modelo típico da ilha. O número total de demes é especificado por total_demes e a taxa de migração por mig. Ilha do nome do modelo.\n",
        "\n",
        " **Modelo de degrau - 1 dimensão**\n",
        "\n",
        " O modelo de stepping stone em 1 dimensão, extremos desconectados. O número total de demes é total_demes, a taxa de migração é mig. O nome do modelo é ssm_1d.\n",
        "\n",
        " **Modelo de degrau - 2 dimensões**\n",
        "\n",
        " O modelo de pedra em 2 dimensões, extremos desconectados. Os parâmetros são x para a dimensão horizontal ey para a vertical (sendo o número total de demes x vezes y), a taxa de migração é mig. O nome do modelo é ssm_2d.\n"
      ],
      "metadata": {}
    },
    {
      "cell_type": "code",
      "execution_count": 14,
      "metadata": {},
      "outputs": [],
      "source": [
        "#FIGURE HERE"
      ]
    },
    {
      "cell_type": "markdown",
      "metadata": {},
      "source": [
        "In our first example, we will generate a template for a single population, constant size model with a sample size of 30 and a deme size of 500. The code for this is:"
      ]
    },
    {
      "cell_type": "markdown",
      "source": [
        "\n",
        "Em nosso primeiro exemplo, iremos gerar um modelo para uma única população, modelo de tamanho constante com um tamanho de amostra de 30 e um tamanho de deme de 500. O código para isso é:\n"
      ],
      "metadata": {}
    },
    {
      "cell_type": "code",
      "execution_count": 15,
      "metadata": {},
      "outputs": [],
      "source": [
        "from Bio.PopGen.SimCoal.Template import generate_simcoal_from_template\n",
        "\n",
        "generate_simcoal_from_template('simple',\n",
        "    [(1, [('SNP', [24, 0.0005, 0.0])])],\n",
        "    [('sample_size', [30]),\n",
        "    ('pop_size', [100])])"
      ]
    },
    {
      "cell_type": "markdown",
      "metadata": {},
      "source": [
        "Executing this code snippet will generate a file on the current directory called simple_100_300.par this file can be given as input to SIMCOAL2 to simulate the demography (below we will see how Biopython can take care of calling SIMCOAL2).\n",
        "\n",
        "This code consists of a single function call, let’s discuss it parameter by parameter.\n",
        "\n",
        "The first parameter is the template id (from the list above). We are using the id ’simple’ which is the template for a single population of constant size along time.\n",
        "\n",
        "The second parameter is the chromosome structure. Please ignore it for now, it will be explained in the next section.\n",
        "\n",
        "The third parameter is a list of all required parameters (recall that the simple model only needs sample_size and pop_size) and possible values (in this case each parameter only has a possible value).\n",
        "\n",
        "Now, let’s consider an example where we want to generate several island models, and we are interested in varying the number of demes: 10, 50 and 100 with a migration rate of 1%. Sample size and deme size will be the same as before. Here is the code:"
      ]
    },
    {
      "cell_type": "markdown",
      "source": [
        "\n",
        "Executar este trecho de código irá gerar um arquivo no diretório atual chamado simple_100_300.par este arquivo pode ser fornecido como entrada para SIMCOAL2 para simular a demografia (abaixo veremos como Biopython pode cuidar de chamar SIMCOAL2).\n",
        "\n",
        " Este código consiste em uma única chamada de função, vamos discuti-lo parâmetro por parâmetro.\n",
        "\n",
        " O primeiro parâmetro é o id do modelo (da lista acima). Estamos usando o id &#39;simples&#39; que é o modelo para uma única população de tamanho constante ao longo do tempo.\n",
        "\n",
        " O segundo parâmetro é a estrutura do cromossomo. Ignore-o por enquanto; será explicado na próxima seção.\n",
        "\n",
        " O terceiro parâmetro é uma lista de todos os parâmetros necessários (lembre-se de que o modelo simples só precisa de sample_size e pop_size) e valores possíveis (neste caso, cada parâmetro tem apenas um valor possível).\n",
        "\n",
        " Agora, vamos considerar um exemplo onde queremos gerar vários modelos de ilhas, e estamos interessados em variar o número de demes: 10, 50 e 100 com uma taxa de migração de 1%. O tamanho da amostra e o tamanho do deme serão os mesmos de antes. Aqui está o código:\n"
      ],
      "metadata": {}
    },
    {
      "cell_type": "code",
      "execution_count": 16,
      "metadata": {},
      "outputs": [],
      "source": [
        "from Bio.PopGen.SimCoal.Template import generate_simcoal_from_template\n",
        "\n",
        "generate_simcoal_from_template('island',\n",
        "    [(1, [('SNP', [24, 0.0005, 0.0])])],\n",
        "    [('sample_size', [30]),\n",
        "    ('pop_size', [100]),\n",
        "    ('mig', [0.01]),\n",
        "    ('total_demes', [10, 50, 100])])"
      ]
    },
    {
      "cell_type": "markdown",
      "metadata": {},
      "source": [
        "In this case, 3 files will be generated: island_100_0.01_100_30.par, island_10_0.01_100_30.par and island_50_0.01_100_30.par. Notice the rule to make file names: template name, followed by parameter values in reverse order.\n",
        "\n",
        "A few, arguably more esoteric template demographies exist (please check the Bio/PopGen/SimCoal/data directory on Biopython source tree). Furthermore it is possible for the user to create new templates. That functionality will be discussed in a future version of this document."
      ]
    },
    {
      "cell_type": "markdown",
      "source": [
        "\n",
        "Neste caso, 3 arquivos serão gerados: island_100_0.01_100_30.par, island_10_0.01_100_30.par e island_50_0.01_100_30.par. Observe a regra para criar nomes de arquivo: nome do modelo, seguido por valores de parâmetro em ordem reversa.\n",
        "\n",
        " Existem algumas demografias de template mais esotéricas (por favor, verifique o diretório Bio / PopGen / SimCoal / data na árvore fonte do Biopython). Além disso, é possível ao usuário criar novos modelos. Essa funcionalidade será discutida em uma versão futura deste documento.\n"
      ],
      "metadata": {}
    },
    {
      "cell_type": "markdown",
      "metadata": {},
      "source": [
        "#### Chromosome structure"
      ]
    },
    {
      "cell_type": "markdown",
      "source": [
        "\n",
        "#### Estrutura cromossômica\n"
      ],
      "metadata": {}
    },
    {
      "cell_type": "markdown",
      "metadata": {},
      "source": [
        "We strongly recommend reading SIMCOAL2 documentation to understand the full potential available in modeling chromosome structures. In this subsection we only discuss how to implement chromosome structures using the Biopython interface, not the underlying SIMCOAL2 capabilities.\n",
        "\n",
        "We will start by implementing a single chromosome, with 24 SNPs with a recombination rate immediately on the right of each locus of 0.0005 and a minimum frequency of the minor allele of 0. This will be specified by the following list (to be passed as second parameter to the function generate_simcoal_from_template):\n",
        "\n",
        "```python\n",
        "[(1, [('SNP', [24, 0.0005, 0.0])])]```\n",
        "\n",
        "This is actually the chromosome structure used in the above examples.\n",
        "\n",
        "The chromosome structure is represented by a list of chromosomes, each chromosome (i.e., each element in the list) is composed by a tuple (a pair): the first element is the number of times the chromosome is to be repeated (as there might be interest in repeating the same chromosome many times). The second element is a list of the actual components of the chromosome. Each element is again a pair, the first member is the locus type and the second element the parameters for that locus type. Confused? Before showing more examples let’s review the example above: We have a list with one element (thus one chromosome), the chromosome is a single instance (therefore not to be repeated), it is composed of 24 SNPs, with a recombination rate of 0.0005 between each consecutive SNP, the minimum frequency of the minor allele is 0.0 (i.e, it can be absent from a certain population).\n",
        "\n",
        "Let's see a more complicated example:\n",
        "\n",
        "```python\n",
        "[\n",
        "  (5, [\n",
        "       ('SNP', [24, 0.0005, 0.0])\n",
        "      ]\n",
        "  ),\n",
        "  (2, [\n",
        "       ('DNA', [10, 0.0, 0.00005, 0.33]),\n",
        "       ('RFLP', [1, 0.0, 0.0001]),\n",
        "       ('MICROSAT', [1, 0.0, 0.001, 0.0, 0.0])\n",
        "      ]\n",
        "  )\n",
        "]\n",
        "```\n",
        "\n",
        "We start by having 5 chromosomes with the same structure as above (i.e., 24 SNPs). We then have 2 chromosomes which have a DNA sequence with 10 nucleotides, 0.0 recombination rate, 0.0005 mutation rate, and a transition rate of 0.33. Then we have an RFLP with 0.0 recombination rate to the next locus and a 0.0001 mutation rate. Finally we have a microsatellite (or STR), with 0.0 recombination rate to the next locus (note, that as this is a single microsatellite which has no loci following, this recombination rate here is irrelevant), with a mutation rate of 0.001, geometric parameter of 0.0 and a range constraint of 0.0 (for information about this parameters please consult the SIMCOAL2 documentation, you can use them to simulate various mutation models, including the typical – for microsatellites – stepwise mutation model among others)."
      ]
    },
    {
      "cell_type": "markdown",
      "source": [
        "\n",
        "Recomendamos fortemente a leitura da documentação do SIMCOAL2 para compreender todo o potencial disponível na modelagem de estruturas cromossômicas. Nesta subseção, discutimos apenas como implementar estruturas cromossômicas usando a interface Biopython, não os recursos SIMCOAL2 subjacentes.\n",
        "\n",
        " Começaremos implementando um único cromossomo, com 24 SNPs com uma taxa de recombinação imediatamente à direita de cada locus de 0,0005 e uma frequência mínima do alelo menor de 0. Isso será especificado pela seguinte lista (a ser passada como segundo parâmetro para a função generate_simcoal_from_template):\n",
        "\n",
        " Esta é na verdade a estrutura cromossômica usada nos exemplos acima.\n",
        "\n",
        " A estrutura do cromossomo é representada por uma lista de cromossomos, cada cromossomo (ou seja, cada elemento da lista) é composto por uma tupla (um par): o primeiro elemento é o número de vezes que o cromossomo deve ser repetido (como pode haver interesse em repetir o mesmo cromossomo várias vezes). O segundo elemento é uma lista dos componentes reais do cromossomo. Cada elemento é novamente um par, o primeiro membro é o tipo de lugar geométrico e o segundo elemento os parâmetros para esse tipo de lugar geométrico. Confuso? Antes de mostrar mais exemplos, vamos revisar o exemplo acima: Temos uma lista com um elemento (portanto, um cromossomo), o cromossomo é uma instância única (portanto, não deve ser repetido), é composto por 24 SNPs, com uma taxa de recombinação de 0,0005 entre cada SNP consecutivo, a frequência mínima do alelo menor é 0,0 (ou seja, pode estar ausente em uma determinada população).\n",
        "\n",
        " Vamos ver um exemplo mais complicado:\n",
        "\n",
        " Começamos com 5 cromossomos com a mesma estrutura acima (ou seja, 24 SNPs). Temos então 2 cromossomos que têm uma sequência de DNA com 10 nucleotídeos, taxa de recombinação de 0,0, taxa de mutação de 0,0005 e taxa de transição de 0,33. Então temos um RFLP com taxa de recombinação de 0,0 para o próximo locus e uma taxa de mutação de 0,0001. Finalmente temos um microssatélite (ou STR), com taxa de recombinação de 0,0 para o próximo locus (note que como se trata de um único microssatélite sem locos seguintes, esta taxa de recombinação aqui é irrelevante), com taxa de mutação de 0,001, geométrica parâmetro de 0,0 e uma restrição de intervalo de 0,0 (para obter informações sobre esses parâmetros, consulte a documentação SIMCOAL2, você pode usá-los para simular vários modelos de mutação, incluindo o típico - para microssatélites - modelo de mutação stepwise entre outros).\n"
      ],
      "metadata": {}
    },
    {
      "cell_type": "markdown",
      "metadata": {},
      "source": [
        "### Running SIMCOAL2"
      ]
    },
    {
      "cell_type": "markdown",
      "source": [
        "\n",
        "### Executando SIMCOAL2\n"
      ],
      "metadata": {}
    },
    {
      "cell_type": "markdown",
      "metadata": {},
      "source": [
        "We now discuss how to run SIMCOAL2 from inside Biopython. It is required that the binary for SIMCOAL2 is called simcoal2 (or simcoal2.exe on Windows based platforms), please note that the typical name when downloading the program is in the format simcoal2_x_y. As such, when installing SIMCOAL2 you will need to rename of the downloaded executable so that Biopython can find it.\n",
        "\n",
        "It is possible to run SIMCOAL2 on files that were not generated using the method above (e.g., writing a parameter file by hand), but we will show an example by creating a model using the framework presented above."
      ]
    },
    {
      "cell_type": "markdown",
      "source": [
        "\n",
        "Agora discutiremos como executar o SIMCOAL2 de dentro do Biopython. É necessário que o binário para SIMCOAL2 seja chamado simcoal2 (ou simcoal2.exe em plataformas baseadas no Windows), observe que o nome típico ao baixar o programa está no formato simcoal2_x_y. Assim, ao instalar o SIMCOAL2, você precisará renomear o executável baixado para que Biopython possa localizá-lo.\n",
        "\n",
        " É possível executar o SIMCOAL2 em arquivos que não foram gerados usando o método acima (por exemplo, escrevendo um arquivo de parâmetro manualmente), mas mostraremos um exemplo criando um modelo usando o framework apresentado acima.\n"
      ],
      "metadata": {}
    },
    {
      "cell_type": "code",
      "execution_count": 18,
      "metadata": {},
      "outputs": [],
      "source": [
        "from Bio.PopGen.SimCoal.Template import generate_simcoal_from_template\n",
        "from Bio.PopGen.SimCoal.Controller import SimCoalController\n",
        "\n",
        "\n",
        "generate_simcoal_from_template('simple',\n",
        "    [\n",
        "      (5, [\n",
        "           ('SNP', [24, 0.0005, 0.0])\n",
        "          ]\n",
        "      ),\n",
        "      (2, [\n",
        "           ('DNA', [10, 0.0, 0.00005, 0.33]),\n",
        "           ('RFLP', [1, 0.0, 0.0001]),\n",
        "           ('MICROSAT', [1, 0.0, 0.001, 0.0, 0.0])\n",
        "          ]\n",
        "      )\n",
        "    ],\n",
        "    [('sample_size', [30]),\n",
        "    ('pop_size', [100])])\n",
        "\n",
        "#Simcoal not installed in the tutorial\n",
        "#ctrl = SimCoalController('.')\n",
        "#ctrl.run_simcoal('simple_100_30.par', 50)"
      ]
    },
    {
      "cell_type": "markdown",
      "metadata": {},
      "source": [
        "The lines of interest are the last two (plus the new import). Firstly a controller for the application is created. The directory where the binary is located has to be specified.\n",
        "\n",
        "The simulator is then run on the last line: we know, from the rules explained above, that the input file name is simple_100_30.par for the simulation parameter file created. We then specify that we want to run 50 independent simulations, by default Biopython requests a simulation of diploid data, but a third parameter can be added to simulate haploid data (adding as a parameter the string ’0’). SIMCOAL2 will now run (please note that this can take quite a lot of time) and will create a directory with the simulation results. The results can now be analysed (typically studying the data with Arlequin3). In the future Biopython might support reading the Arlequin3 format and thus allowing for the analysis of SIMCOAL2 data inside Biopython."
      ]
    },
    {
      "cell_type": "markdown",
      "source": [
        "\n",
        "As linhas de interesse são as duas últimas (mais a nova importação). Primeiramente é criado um controlador para a aplicação. O diretório onde o binário está localizado deve ser especificado.\n",
        "\n",
        " O simulador é então executado na última linha: sabemos, pelas regras explicadas acima, que o nome do arquivo de entrada é simple_100_30.par para o arquivo de parâmetro de simulação criado. Em seguida, especificamos que queremos executar 50 simulações independentes, por padrão Biopython solicita uma simulação de dados diplóides, mas um terceiro parâmetro pode ser adicionado para simular dados haplóides (adicionando como parâmetro a string &#39;0&#39;). SIMCOAL2 será executado agora (observe que isso pode levar muito tempo) e criará um diretório com os resultados da simulação. Os resultados agora podem ser analisados (normalmente estudando os dados com Arlequin3). No futuro, o Biopython pode suportar a leitura do formato Arlequin3 e, assim, permitir a análise de dados SIMCOAL2 dentro do Biopython.\n"
      ],
      "metadata": {}
    },
    {
      "cell_type": "code",
      "execution_count": null,
      "metadata": {},
      "outputs": [],
      "source": []
    }
  ],
  "metadata": {},
  "nbformat": 4,
  "nbformat_minor": 0
}