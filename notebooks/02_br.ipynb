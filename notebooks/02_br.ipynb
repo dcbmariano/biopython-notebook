{
  "cells": [
    {
      "cell_type": "markdown",
      "metadata": {},
      "source": [
        "**Source of the materials**: Biopython cookbook (adapted)"
      ]
    },
    {
      "cell_type": "markdown",
      "source": [
        "\n",
        "**Fonte dos materiais** : livro de receitas Biopython (adaptado)\n"
      ],
      "metadata": {}
    },
    {
      "cell_type": "markdown",
      "metadata": {},
      "source": [
        "# Quick Start"
      ]
    },
    {
      "cell_type": "markdown",
      "source": [
        "\n",
        "# Começo rápido\n"
      ],
      "metadata": {}
    },
    {
      "cell_type": "markdown",
      "metadata": {},
      "source": [
        "This section is designed to get you started quickly with Biopython, and to give a general overview of what is available and how to use it. All of the examples in this section assume that you have some general working knowledge of Python, and that you have successfully installed Biopython on your system. If you think you need to brush up on your Python, the main Python web site provides quite a bit of free documentation to get started with (http://www.python.org/doc/).\n",
        "\n",
        "Since much biological work on the computer involves connecting with databases on the internet, some of the examples will also require a working internet connection in order to run.\n",
        "\n",
        "Now that that is all out of the way, let’s get into what we can do with Biopython."
      ]
    },
    {
      "cell_type": "markdown",
      "source": [
        "\n",
        "Esta seção foi projetada para ajudá-lo a começar rapidamente com Biopython e fornecer uma visão geral do que está disponível e como usá-lo. Todos os exemplos nesta seção presumem que você tenha algum conhecimento geral de trabalho do Python e que tenha instalado com êxito o Biopython em seu sistema. Se você acha que precisa melhorar seu Python, o site principal do Python oferece uma boa quantidade de documentação gratuita para começar ( [http://www.python.org/doc/](http://www.python.org/doc/) ).\n",
        "\n",
        " Visto que grande parte do trabalho biológico no computador envolve a conexão com bancos de dados na Internet, alguns dos exemplos também exigirão uma conexão funcional com a Internet para serem executados.\n",
        "\n",
        " Agora que tudo está resolvido, vamos ver o que podemos fazer com Biopython.\n"
      ],
      "metadata": {}
    },
    {
      "cell_type": "markdown",
      "metadata": {},
      "source": [
        "## General overview of what Biopython provides"
      ]
    },
    {
      "cell_type": "markdown",
      "source": [
        "\n",
        "## Visão geral do que Biopython oferece\n"
      ],
      "metadata": {}
    },
    {
      "cell_type": "markdown",
      "metadata": {},
      "source": [
        "As mentioned in the introduction, Biopython is a set of libraries to provide the ability to deal with “things” of interest to biologists working on the computer. In general this means that you will need to have at least some programming experience (in Python, of course!) or at least an interest in learning to program. Biopython’s job is to make your job easier as a programmer by supplying reusable libraries so that you can focus on answering your specific question of interest, instead of focusing on the internals of parsing a particular file format (of course, if you want to help by writing a parser that doesn’t exist and contributing it to Biopython, please go ahead!). So Biopython’s job is to make you happy!\n",
        "\n",
        "One thing to note about Biopython is that it often provides multiple ways of “doing the same thing.” Things have improved in recent releases, but this can still be frustrating as in Python there should ideally be one right way to do something. However, this can also be a real benefit because it gives you lots of flexibility and control over the libraries. The tutorial helps to show you the common or easy ways to do things so that you can just make things work. To learn more about the alternative possibilities, look in the Cookbook, the Advanced section, the built in “docstrings” (via the Python help command, or the API documentation) or ultimately the code itself."
      ]
    },
    {
      "cell_type": "markdown",
      "source": [
        "\n",
        "Conforme mencionado na introdução, Biopython é um conjunto de bibliotecas para fornecer a capacidade de lidar com “coisas” de interesse dos biólogos que trabalham no computador. Em geral, isso significa que você precisará ter pelo menos alguma experiência em programação (em Python, é claro!) Ou pelo menos interesse em aprender a programar. O trabalho do Biopython é tornar seu trabalho mais fácil como programador, fornecendo bibliotecas reutilizáveis para que você possa se concentrar em responder a sua pergunta específica de interesse, em vez de se concentrar nos aspectos internos da análise de um formato de arquivo específico (é claro, se você quiser ajudar escrevendo um analisador que não existe e contribuindo com ele para Biopython, por favor, vá em frente!). Portanto, o trabalho de Biopython é fazer você feliz!\n",
        "\n",
        " Uma coisa a se observar sobre Biopython é que muitas vezes oferece várias maneiras de \"fazer a mesma coisa\". As coisas melhoraram em lançamentos recentes, mas isso ainda pode ser frustrante, já que em Python deveria haver uma maneira ideal de fazer algo. No entanto, isso também pode ser um benefício real porque dá a você muita flexibilidade e controle sobre as bibliotecas. O tutorial ajuda a mostrar as maneiras comuns ou fáceis de fazer as coisas para que você possa simplesmente fazer as coisas funcionarem. Para aprender mais sobre as possibilidades alternativas, dê uma olhada no Cookbook, na seção Avançado, nas \"docstrings\" embutidas (por meio do comando de ajuda do Python ou na documentação da API) ou, finalmente, o próprio código.\n"
      ],
      "metadata": {}
    },
    {
      "cell_type": "markdown",
      "metadata": {},
      "source": [
        "## Working with sequences"
      ]
    },
    {
      "cell_type": "markdown",
      "source": [
        "\n",
        "## Trabalhando com sequências\n"
      ],
      "metadata": {}
    },
    {
      "cell_type": "markdown",
      "metadata": {},
      "source": [
        "We’ll start with a quick introduction to the Biopython mechanisms for dealing with sequences, the Seq object, which we’ll discuss in more detail later.\n",
        "\n",
        "Most of the time when we think about sequences we have in my mind a string of letters like ‘AGTACACTGGT’. You can create such Seq object with this sequence as follows:"
      ]
    },
    {
      "cell_type": "markdown",
      "source": [
        "\n",
        "Começaremos com uma rápida introdução aos mecanismos Biopython para lidar com sequências, o objeto Seq, que discutiremos com mais detalhes posteriormente.\n",
        "\n",
        " Na maioria das vezes, quando pensamos em sequências, temos em minha mente uma sequência de letras como &#39;AGTACACTGGT&#39;. Você pode criar esse objeto Seq com esta sequência da seguinte maneira:\n"
      ],
      "metadata": {}
    },
    {
      "cell_type": "code",
      "execution_count": 1,
      "metadata": {},
      "outputs": [
        {
          "output_type": "execute_result",
          "data": {
            "text/plain": [
              "Seq('AGTACACTGGT')"
            ]
          },
          "metadata": {},
          "execution_count": 1
        }
      ],
      "source": [
        "from Bio.Seq import Seq\n",
        "my_seq = Seq(\"AGTACACTGGT\")\n",
        "my_seq"
      ]
    },
    {
      "cell_type": "code",
      "execution_count": 2,
      "metadata": {},
      "outputs": [
        {
          "output_type": "stream",
          "name": "stdout",
          "text": [
            "AGTACACTGGT\n"
          ]
        }
      ],
      "source": [
        "print(my_seq)"
      ]
    },
    {
      "source": [
        "The Seq object differs from the Python string in the methods it supports. You can’t do this with a plain string:"
      ],
      "cell_type": "code",
      "metadata": {},
      "execution_count": null,
      "outputs": []
    },
    {
      "cell_type": "code",
      "execution_count": 3,
      "metadata": {},
      "outputs": [
        {
          "output_type": "execute_result",
          "data": {
            "text/plain": [
              "Seq('TCATGTGACCA')"
            ]
          },
          "metadata": {},
          "execution_count": 3
        }
      ],
      "source": [
        "my_seq.complement()"
      ]
    },
    {
      "cell_type": "code",
      "execution_count": 4,
      "metadata": {},
      "outputs": [
        {
          "output_type": "execute_result",
          "data": {
            "text/plain": [
              "Seq('ACCAGTGTACT')"
            ]
          },
          "metadata": {},
          "execution_count": 4
        }
      ],
      "source": [
        "my_seq.reverse_complement()"
      ]
    },
    {
      "cell_type": "markdown",
      "metadata": {},
      "source": [
        "The next most important class is the **SeqRecord** or Sequence Record. This holds a sequence (as a **Seq** object) with additional annotation including an identifier, name and description. The **Bio.SeqIO** module for reading and writing sequence file formats works with SeqRecord objects, which will be introduced below and covered in more detail later.\n",
        "\n",
        "This covers the basic features and uses of the Biopython sequence class. Now that you’ve got some idea of what it is like to interact with the Biopython libraries, it’s time to delve into the fun, fun world of dealing with biological file formats!"
      ]
    },
    {
      "cell_type": "markdown",
      "source": [
        "\n",
        "A próxima classe mais importante é o **SeqRecord** ou Sequence Record. Ele contém uma sequência (como um objeto **Seq** ) com anotações adicionais, incluindo um identificador, nome e descrição. O módulo **Bio.SeqIO** para leitura e gravação de formatos de arquivo de sequência funciona com objetos SeqRecord, que serão apresentados a seguir e abordados com mais detalhes posteriormente.\n",
        "\n",
        " Isso cobre os recursos básicos e os usos da classe de sequência Biopython. Agora que você tem uma ideia de como é interagir com as bibliotecas Biopython, é hora de mergulhar no mundo divertido de lidar com formatos de arquivo biológicos!\n"
      ],
      "metadata": {}
    },
    {
      "cell_type": "markdown",
      "metadata": {},
      "source": [
        "## A usage example"
      ]
    },
    {
      "cell_type": "markdown",
      "source": [
        "\n",
        "## Um exemplo de uso\n"
      ],
      "metadata": {}
    },
    {
      "cell_type": "markdown",
      "metadata": {},
      "source": [
        "Before we jump right into parsers and everything else to do with Biopython, let’s set up an example to motivate everything we do and make life more interesting. After all, if there wasn’t any biology in this tutorial, why would you want you read it?\n",
        "\n",
        "Since I love plants, I think we’re just going to have to have a plant based example (sorry to all the fans of other organisms out there!). Having just completed a recent trip to our local greenhouse, we’ve suddenly developed an incredible obsession with Lady Slipper Orchids.\n",
        "\n",
        "Of course, orchids are not only beautiful to look at, they are also extremely interesting for people studying evolution and systematics. So let’s suppose we’re thinking about writing a funding proposal to do a molecular study of Lady Slipper evolution, and would like to see what kind of research has already been done and how we can add to that.\n",
        "\n",
        "After a little bit of reading up we discover that the Lady Slipper Orchids are in the Orchidaceae family and the Cypripedioideae sub-family and are made up of 5 genera: _Cypripedium_, _Paphiopedilum_, _Phragmipedium_, _Selenipedium_ and _Mexipedium_.\n",
        "\n",
        "That gives us enough to get started delving for more information. So, let’s look at how the Biopython tools can help us. We’ll start with sequence parsing, but the orchids will be back later on as well - for example we’ll search PubMed for papers about orchids and extract sequence data from GenBank, extract data from Swiss-Prot from certain orchid proteins and work with ClustalW multiple sequence alignments of orchid proteins."
      ]
    },
    {
      "cell_type": "markdown",
      "source": [
        "\n",
        "Antes de pularmos diretamente para os analisadores e tudo o mais relacionado ao Biopython, vamos criar um exemplo para motivar tudo o que fazemos e tornar a vida mais interessante. Afinal, se não houvesse biologia neste tutorial, por que você gostaria de lê-lo?\n",
        "\n",
        " Já que adoro plantas, acho que vamos ter que ter um exemplo baseado em plantas (desculpe a todos os fãs de outros organismos por aí!). Tendo acabado de completar uma recente viagem à nossa estufa local, de repente desenvolvemos uma incrível obsessão por Lady Slipper Orchids.\n",
        "\n",
        " Claro, as orquídeas não são apenas bonitas de se ver, mas também extremamente interessantes para quem está estudando evolução e sistemática. Então, vamos supor que estejamos pensando em escrever uma proposta de financiamento para fazer um estudo molecular da evolução de Lady Slipper e gostaríamos de ver que tipo de pesquisa já foi feita e como podemos adicionar a isso.\n",
        "\n",
        " Após um pouco de leitura descobrimos que as Lady Slipper Orchids pertencem à família Orchidaceae e à subfamília Cypripedioideae e são compostas por 5 gêneros: *Cypripedium* , *Paphiopedilum* , *Phragmipedium* , *Selenipedium* e *Mexipedium* .\n",
        "\n",
        " Isso nos dá o suficiente para começar a pesquisar mais informações. Então, vamos ver como as ferramentas Biopython podem nos ajudar. Começaremos com a análise de sequência, mas as orquídeas estarão de volta mais tarde também - por exemplo, pesquisaremos no PubMed por artigos sobre orquídeas e extrairemos dados de sequência do GenBank, extrairemos dados do Swiss-Prot de certas proteínas de orquídea e trabalharemos com ClustalW alinhamentos de sequência múltipla de proteínas de orquídea.\n"
      ],
      "metadata": {}
    },
    {
      "cell_type": "markdown",
      "metadata": {},
      "source": [
        "## Parsing sequence file formats"
      ]
    },
    {
      "cell_type": "markdown",
      "source": [
        "\n",
        "## Analisando formatos de arquivo de sequência\n"
      ],
      "metadata": {}
    },
    {
      "cell_type": "markdown",
      "metadata": {},
      "source": [
        "A large part of much bioinformatics work involves dealing with the many types of file formats designed to hold biological data. These files are loaded with interesting biological data, and a special challenge is parsing these files into a format so that you can manipulate them with some kind of programming language. However the task of parsing these files can be frustrated by the fact that the formats can change quite regularly, and that formats may contain small subtleties which can break even the most well designed parsers.\n",
        "\n",
        "We are now going to briefly introduce the **Bio.SeqIO** module – you can find out later. We’ll start with an online search for our friends, the lady slipper orchids. To keep this introduction simple, we’re just using the NCBI website by hand. Let’s just take a look through the nucleotide databases at NCBI, using an Entrez online search (http://www.ncbi.nlm.nih.gov:80/entrez/query.fcgi?db=Nucleotide) for everything mentioning the text _Cypripedioideae_ (this is the subfamily of lady slipper orchids).\n",
        "\n",
        "When this tutorial was originally written, this search gave us only 94 hits, which we saved as a FASTA formatted text file and as a GenBank formatted text file (files ls_orchid.fasta and ls_orchid.gbk, also included with the Biopython source code under docs/tutorial/examples/).\n",
        "\n",
        "If you run the search today, you’ll get hundreds of results! When following the tutorial, if you want to see the same list of genes, just download the two files above or copy them from docs/examples/ in the Biopython source code. Below we will look at how to do a search like this from within Python."
      ]
    },
    {
      "cell_type": "markdown",
      "source": [
        "\n",
        "Uma grande parte do trabalho de bioinformática envolve lidar com os vários tipos de formatos de arquivo projetados para conter dados biológicos. Esses arquivos são carregados com dados biológicos interessantes, e um desafio especial é analisá-los em um formato para que você possa manipulá-los com algum tipo de linguagem de programação. No entanto, a tarefa de analisar esses arquivos pode ser frustrada pelo fato de que os formatos podem mudar com bastante regularidade e que os formatos podem conter pequenas sutilezas que podem quebrar até mesmo os analisadores mais bem projetados.\n",
        "\n",
        " Vamos agora apresentar brevemente o módulo **Bio.SeqIO** - você pode descobrir mais tarde. Começaremos com uma busca online por nossas amigas, as orquídeas sapatinho. Para manter esta introdução simples, estamos apenas usando o site do NCBI manualmente. Vamos apenas dar uma olhada nos bancos de dados de nucleotídeos do NCBI, usando uma pesquisa online do Entrez ( [http://www.ncbi.nlm.nih.gov:80/entrez/query.fcgi?db=Nucleotide](http://www.ncbi.nlm.nih.gov:80/entrez/query.fcgi?db=Nucleotide) ) para tudo que mencione o texto *Cypripedioideae* (esta é a subfamília das orquídeas sapatinho).\n",
        "\n",
        " Quando este tutorial foi escrito originalmente, essa pesquisa nos deu apenas 94 resultados, que salvamos como um arquivo de texto formatado FASTA e como um arquivo de texto formatado GenBank (arquivos ls_orchid.fasta e ls_orchid.gbk, também incluídos com o código-fonte Biopython em docs / tutorial / examples /).\n",
        "\n",
        " Se você executar a pesquisa hoje, obterá centenas de resultados! Ao seguir o tutorial, se quiser ver a mesma lista de genes, basta baixar os dois arquivos acima ou copiá-los de docs / examples / no código-fonte do Biopython. A seguir, veremos como fazer uma pesquisa como essa no Python.\n"
      ],
      "metadata": {}
    },
    {
      "cell_type": "markdown",
      "metadata": {},
      "source": [
        "### Simple FASTA parsing example"
      ]
    },
    {
      "cell_type": "markdown",
      "source": [
        "\n",
        "### Exemplo de análise FASTA simples\n"
      ],
      "metadata": {}
    },
    {
      "cell_type": "markdown",
      "metadata": {},
      "source": [
        "If you open the lady slipper orchids FASTA file <a href=\"../data/ls_orchid.fasta\">ls_orchid.fasta</a> in your favourite text editor, you’ll see that the file starts like this:\n",
        "\n",
        "> \\>gi|2765658|emb|Z78533.1|CIZ78533 C.irapeanum 5.8S rRNA gene and ITS1 and ITS2 DNA\n",
        "CGTAACAAGGTTTCCGTAGGTGAACCTGCGGAAGGATCATTGATGAGACCGTGGAATAAACGATCGAGTG\n",
        "AATCCGGAGGACCGGTGTACTCAGCTCACCGGGGGCATTGCTCCCGTGGTGACCCTGATTTGTTGTTGGG\n",
        "...\n",
        "\n",
        "It contains 94 records, each has a line starting with “>” (greater-than symbol) followed by the sequence on one or more lines. Now try this in Python (printing the first 5 records):"
      ]
    },
    {
      "cell_type": "markdown",
      "source": [
        "\n",
        "Se você abrir o arquivo FASTA da Lady Slipper Orchids &lt;a href=\"../data/ls_orchid.fasta\"&gt; ls_orchid.fasta &lt;/a&gt; em seu editor de texto favorito, verá que o arquivo começa assim:\n",
        "\n",
        ">  &gt; gi | 2765658 | emb | Z78533.1 | CIZ78533 C.irapeanum 5.8S rRNA gene e ITS1 e ITS2 DNA\n",
        "\n",
        " CGTAACAAGGTTTCCGTAGGTGAACCTGCGGAAGGATCATTGATGAGACCGTGGAATAAACGATCGAGTG\n",
        "\n",
        " AATCCGGAGGACCGGTGTACTCAGCTCACCGGGGGCATTGCTCCCGTGGTGACCCTGATTTGTTGTTGGG\n",
        "\n",
        " ...\n",
        "\n",
        " Ele contém 94 registros, cada um com uma linha começando com “&gt;” (símbolo de maior que) seguido pela sequência em uma ou mais linhas. Agora tente isso em Python (imprimindo os primeiros 5 registros):\n"
      ],
      "metadata": {}
    },
    {
      "cell_type": "code",
      "execution_count": 14,
      "metadata": {},
      "outputs": [
        {
          "output_type": "stream",
          "name": "stdout",
          "text": [
            "gi|2765658|emb|Z78533.1|CIZ78533\nSeq('CGTAACAAGGTTTCCGTAGGTGAACCTGCGGAAGGATCATTGATGAGACCGTGG...CGC')\n740\ngi|2765657|emb|Z78532.1|CCZ78532\nSeq('CGTAACAAGGTTTCCGTAGGTGAACCTGCGGAAGGATCATTGTTGAGACAACAG...GGC')\n753\ngi|2765656|emb|Z78531.1|CFZ78531\nSeq('CGTAACAAGGTTTCCGTAGGTGAACCTGCGGAAGGATCATTGTTGAGACAGCAG...TAA')\n748\ngi|2765655|emb|Z78530.1|CMZ78530\nSeq('CGTAACAAGGTTTCCGTAGGTGAACCTGCGGAAGGATCATTGTTGAAACAACAT...CAT')\n744\ngi|2765654|emb|Z78529.1|CLZ78529\nSeq('ACGGCGAGCTGCCGAAGGACATTGTTGAGACAGCAGAATATACGATTGAGTGAA...AAA')\n733\n"
          ]
        }
      ],
      "source": [
        "from Bio import SeqIO\n",
        "for seq_record in list(SeqIO.parse(\"data/ls_orchid.fasta\", \"fasta\"))[:5]:\n",
        "    print(seq_record.id)\n",
        "    print(repr(seq_record.seq))\n",
        "    print(len(seq_record))"
      ]
    },
    {
      "cell_type": "markdown",
      "metadata": {},
      "source": [
        "### Simple GenBank parsing example"
      ]
    },
    {
      "cell_type": "markdown",
      "source": [
        "\n",
        "### Exemplo de análise simples do GenBank\n"
      ],
      "metadata": {}
    },
    {
      "cell_type": "markdown",
      "metadata": {},
      "source": [
        "Now let’s load the GenBank file <a href=\"../data/ls_orchid.gbk\">ls_orchid.gbk</a> instead - notice that the code to do this is almost identical to the snippet used above for the FASTA file - the only difference is we change the filename and the format string:"
      ]
    },
    {
      "cell_type": "markdown",
      "source": [
        "\n",
        "Agora, vamos carregar o arquivo GenBank &lt;a href=\"../data/ls_orchid.gbk\"&gt; ls_orchid.gbk &lt;/a&gt; em vez disso - observe que o código para fazer isso é quase idêntico ao trecho usado acima para o arquivo FASTA - a única diferença é que mudamos o nome do arquivo e a string de formato:\n"
      ],
      "metadata": {}
    },
    {
      "cell_type": "code",
      "execution_count": 15,
      "metadata": {},
      "outputs": [
        {
          "output_type": "stream",
          "name": "stdout",
          "text": [
            "Z78533.1\nSeq('CGTAACAAGGTTTCCGTAGGTGAACCTGCGGAAGGATCATTGATGAGACCGTGG...CGC')\n740\nZ78532.1\nSeq('CGTAACAAGGTTTCCGTAGGTGAACCTGCGGAAGGATCATTGTTGAGACAACAG...GGC')\n753\nZ78531.1\nSeq('CGTAACAAGGTTTCCGTAGGTGAACCTGCGGAAGGATCATTGTTGAGACAGCAG...TAA')\n748\nZ78530.1\nSeq('CGTAACAAGGTTTCCGTAGGTGAACCTGCGGAAGGATCATTGTTGAAACAACAT...CAT')\n744\nZ78529.1\nSeq('ACGGCGAGCTGCCGAAGGACATTGTTGAGACAGCAGAATATACGATTGAGTGAA...AAA')\n733\n"
          ]
        }
      ],
      "source": [
        "from Bio import SeqIO\n",
        "for seq_record in list(SeqIO.parse(\"data/ls_orchid.gbk\", \"genbank\"))[:5]:\n",
        "    print(seq_record.id)\n",
        "    print(repr(seq_record.seq))\n",
        "    print(len(seq_record))"
      ]
    },
    {
      "source": [
        "You’ll also notice that a shorter string has been used as the **seq_record.id** in this case."
      ],
      "cell_type": "code",
      "metadata": {},
      "execution_count": null,
      "outputs": []
    },
    {
      "cell_type": "markdown",
      "metadata": {},
      "source": [
        "### I love parsing – please don’t stop talking about it!"
      ]
    },
    {
      "cell_type": "markdown",
      "source": [
        "\n",
        "### Eu adoro analisar - por favor, não pare de falar sobre isso!\n"
      ],
      "metadata": {}
    },
    {
      "cell_type": "markdown",
      "metadata": {},
      "source": [
        "Biopython has a lot of parsers, and each has its own little special niches based on the sequence format it is parsing and all of that.\n",
        "\n",
        "While the most popular file formats have parsers integrated into *Bio.SeqIO* and/or *Bio.AlignIO*, for some of the rarer and unloved file formats there is either no parser at all, or an old parser which has not been linked in yet. Please also check the wiki pages http://biopython.org/wiki/SeqIO and http://biopython.org/wiki/AlignIO for the latest information, or ask on the mailing list. The wiki pages should include an up to date list of supported file types, and some additional examples.\n",
        "\n",
        "The next place to look for information about specific parsers and how to do cool things with them is in the Cookbook. If you don’t find the information you are looking for, please consider helping out your poor overworked documentors and submitting a cookbook entry about it! (once you figure out how to do it, that is!)"
      ]
    },
    {
      "cell_type": "markdown",
      "source": [
        "\n",
        "Biopython tem muitos analisadores, e cada um tem seus próprios pequenos nichos especiais com base no formato de sequência que está analisando e tudo mais.\n",
        "\n",
        " Embora os formatos de arquivo mais populares tenham analisadores integrados em *Bio.SeqIO* e / ou *Bio.AlignIO* , para alguns dos formatos de arquivo mais raros e não amados não há analisador algum ou um analisador antigo que ainda não foi vinculado. Verifique também as páginas wiki [http://biopython.org/wiki/SeqIO](http://biopython.org/wiki/SeqIO) e [http://biopython.org/wiki/AlignIO](http://biopython.org/wiki/AlignIO) para obter as informações mais recentes ou pergunte na lista de discussão. As páginas wiki devem incluir uma lista atualizada dos tipos de arquivos suportados e alguns exemplos adicionais.\n",
        "\n",
        " O próximo lugar para procurar informações sobre analisadores específicos e como fazer coisas interessantes com eles é no Livro de Receitas. Se você não encontrar as informações que procura, considere ajudar seus pobres documentadores sobrecarregados e enviar uma entrada de livro de receitas sobre isso! (depois de descobrir como fazer isso, claro!)\n"
      ],
      "metadata": {}
    },
    {
      "cell_type": "markdown",
      "metadata": {},
      "source": [
        "## Connecting with biological databases"
      ]
    },
    {
      "cell_type": "markdown",
      "source": [
        "\n",
        "## Conexão com bancos de dados biológicos\n"
      ],
      "metadata": {}
    },
    {
      "cell_type": "markdown",
      "metadata": {},
      "source": [
        "One of the very common things that you need to do in bioinformatics is extract information from biological databases. It can be quite tedious to access these databases manually, especially if you have a lot of repetitive work to do. Biopython attempts to save you time and energy by making some on-line databases available from Python scripts. Currently, Biopython has code to extract information from the following databases:\n",
        "\n",
        "- Entrez (and PubMed) from the NCBI\n",
        "- ExPASy\n",
        "- SCOP\n",
        "\n",
        "The code in these modules basically makes it easy to write Python code that interact with the CGI scripts on these pages, so that you can get results in an easy to deal with format. In some cases, the results can be tightly integrated with the Biopython parsers to make it even easier to extract information."
      ]
    },
    {
      "cell_type": "markdown",
      "source": [
        "\n",
        "Uma das coisas mais comuns que você precisa fazer em bioinformática é extrair informações de bancos de dados biológicos. Pode ser muito tedioso acessar esses bancos de dados manualmente, especialmente se você tiver muito trabalho repetitivo a fazer. Biopython tenta economizar seu tempo e energia, disponibilizando alguns bancos de dados on-line a partir de scripts Python. Atualmente, Biopython possui código para extrair informações dos seguintes bancos de dados:\n",
        "-  Entrez (e PubMed) do NCBI\n",
        "-  ExPASy\n",
        "-  SCOP\n",
        "\n",
        " O código nesses módulos basicamente torna mais fácil escrever código Python que interaja com os scripts CGI nessas páginas, para que você possa obter resultados em um formato fácil de lidar. Em alguns casos, os resultados podem ser totalmente integrados aos analisadores Biopython para facilitar ainda mais a extração de informações.\n"
      ],
      "metadata": {}
    },
    {
      "cell_type": "markdown",
      "metadata": {},
      "source": [
        "## What to do next"
      ]
    },
    {
      "cell_type": "markdown",
      "source": [
        "\n",
        "## O que fazer a seguir\n"
      ],
      "metadata": {}
    },
    {
      "cell_type": "markdown",
      "metadata": {},
      "source": [
        "Now that you’ve made it this far, you hopefully have a good understanding of the basics of Biopython and are ready to start using it for doing useful work. The best thing to do now is finish reading this tutorial, and then if you want start snooping around in the source code, and looking at the automatically generated documentation.\n",
        "\n",
        "Once you get a picture of what you want to do, and what libraries in Biopython will do it, you should take a peak at the Cookbook (Chapter 18), which may have example code to do something similar to what you want to do.\n",
        "\n",
        "If you know what you want to do, but can’t figure out how to do it, please feel free to post questions to the main Biopython list (see http://biopython.org/wiki/Mailing_lists). This will not only help us answer your question, it will also allow us to improve the documentation so it can help the next person do what you want to do.\n",
        "\n",
        "Enjoy the code!"
      ]
    },
    {
      "cell_type": "markdown",
      "source": [
        "\n",
        "Agora que você chegou até aqui, espera-se que você tenha um bom conhecimento dos fundamentos do Biopython e esteja pronto para começar a usá-lo em trabalhos úteis. A melhor coisa a fazer agora é terminar de ler este tutorial e, se quiser, começar a bisbilhotar o código-fonte e olhar a documentação gerada automaticamente.\n",
        "\n",
        " Depois de obter uma imagem do que você deseja fazer e quais bibliotecas no Biopython farão isso, você deve dar uma olhada no Cookbook (Capítulo 18), que pode ter um código de exemplo para fazer algo semelhante ao que você deseja fazer.\n",
        "\n",
        " Se você sabe o que quer fazer, mas não consegue descobrir como fazê-lo, sinta-se à vontade para postar perguntas na lista principal do Biopython (consulte [http://biopython.org/wiki/Mailing_lists](http://biopython.org/wiki/Mailing_lists) ). Isso não só nos ajudará a responder à sua pergunta, mas também nos permitirá melhorar a documentação para que possa ajudar a próxima pessoa a fazer o que você deseja.\n",
        "\n",
        " Aproveite o código!\n"
      ],
      "metadata": {}
    },
    {
      "cell_type": "code",
      "execution_count": null,
      "metadata": {},
      "outputs": [],
      "source": []
    }
  ],
  "metadata": {},
  "nbformat": 4,
  "nbformat_minor": 0
}